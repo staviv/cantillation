{
 "cells": [
  {
   "cell_type": "code",
   "execution_count": null,
   "metadata": {},
   "outputs": [],
   "source": [
    "from get_torah_text_using_sefaria import get_chapter_string, books_data\n",
    "\n",
    "\n",
    "# A loop that fetches the text of all chapters of all books\n",
    "for book in books_data:\n",
    "    for chapter in range(1, book[\"chapters\"] + 1):\n",
    "        chapter_string = get_chapter_string(book[\"name\"], chapter)\n",
    "        if chapter_string is not None:\n",
    "            with open(f\"texts_without_cantillations/{book['name']}.{chapter}.txt\", \"w\", encoding=\"utf-8\") as file:\n",
    "                file.write(chapter_string)\n",
    "        else:\n",
    "            print(f\"Failed to fetch data from the API for {book['name']} chapter {chapter}\")\n"
   ]
  }
 ],
 "metadata": {
  "language_info": {
   "name": "python"
  }
 },
 "nbformat": 4,
 "nbformat_minor": 2
}
