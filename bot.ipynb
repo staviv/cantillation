{
 "cells": [
  {
   "cell_type": "code",
   "execution_count": 1,
   "metadata": {},
   "outputs": [],
   "source": [
    "import os\n",
    "import logging\n",
    "from telegram.ext import Updater, MessageHandler, Filters\n",
    "import IPython.display as ipd\n",
    "\n",
    "import librosa\n",
    "import torch\n",
    "from transformers import WhisperForConditionalGeneration, WhisperProcessor\n",
    "import io\n"
   ]
  },
  {
   "cell_type": "code",
   "execution_count": 2,
   "metadata": {},
   "outputs": [
    {
     "data": {
      "application/vnd.jupyter.widget-view+json": {
       "model_id": "37bb223dc3cb4d03a88c2f51a5ef9f3f",
       "version_major": 2,
       "version_minor": 0
      },
      "text/plain": [
       "config.json:   0%|          | 0.00/1.35k [00:00<?, ?B/s]"
      ]
     },
     "metadata": {},
     "output_type": "display_data"
    },
    {
     "data": {
      "application/vnd.jupyter.widget-view+json": {
       "model_id": "c8ee651fc6ed4c53bf6ca307f159f283",
       "version_major": 2,
       "version_minor": 0
      },
      "text/plain": [
       "model.safetensors:   0%|          | 0.00/3.06G [00:00<?, ?B/s]"
      ]
     },
     "metadata": {},
     "output_type": "display_data"
    },
    {
     "data": {
      "application/vnd.jupyter.widget-view+json": {
       "model_id": "48fd44662d2a431ca8bf8b0671e14e71",
       "version_major": 2,
       "version_minor": 0
      },
      "text/plain": [
       "generation_config.json:   0%|          | 0.00/3.80k [00:00<?, ?B/s]"
      ]
     },
     "metadata": {},
     "output_type": "display_data"
    },
    {
     "data": {
      "application/vnd.jupyter.widget-view+json": {
       "model_id": "691958603e5f4de3829f0447d096bcbb",
       "version_major": 2,
       "version_minor": 0
      },
      "text/plain": [
       "preprocessor_config.json:   0%|          | 0.00/339 [00:00<?, ?B/s]"
      ]
     },
     "metadata": {},
     "output_type": "display_data"
    },
    {
     "data": {
      "application/vnd.jupyter.widget-view+json": {
       "model_id": "1992573245ac42eb8ab62a87a8eea6a2",
       "version_major": 2,
       "version_minor": 0
      },
      "text/plain": [
       "tokenizer_config.json:   0%|          | 0.00/288k [00:00<?, ?B/s]"
      ]
     },
     "metadata": {},
     "output_type": "display_data"
    },
    {
     "data": {
      "application/vnd.jupyter.widget-view+json": {
       "model_id": "55514d1bab63423cb283dac1567c5d91",
       "version_major": 2,
       "version_minor": 0
      },
      "text/plain": [
       "vocab.json:   0%|          | 0.00/1.04M [00:00<?, ?B/s]"
      ]
     },
     "metadata": {},
     "output_type": "display_data"
    },
    {
     "data": {
      "application/vnd.jupyter.widget-view+json": {
       "model_id": "30b9ea94fa444f6ca869fe6e38fdd87f",
       "version_major": 2,
       "version_minor": 0
      },
      "text/plain": [
       "merges.txt:   0%|          | 0.00/494k [00:00<?, ?B/s]"
      ]
     },
     "metadata": {},
     "output_type": "display_data"
    },
    {
     "data": {
      "application/vnd.jupyter.widget-view+json": {
       "model_id": "0afa2058d7934a08bd3369963ef8eac4",
       "version_major": 2,
       "version_minor": 0
      },
      "text/plain": [
       "normalizer.json:   0%|          | 0.00/52.7k [00:00<?, ?B/s]"
      ]
     },
     "metadata": {},
     "output_type": "display_data"
    },
    {
     "data": {
      "application/vnd.jupyter.widget-view+json": {
       "model_id": "e1e7d805552a48f3ae9022dec03f7409",
       "version_major": 2,
       "version_minor": 0
      },
      "text/plain": [
       "added_tokens.json:   0%|          | 0.00/35.1k [00:00<?, ?B/s]"
      ]
     },
     "metadata": {},
     "output_type": "display_data"
    },
    {
     "data": {
      "application/vnd.jupyter.widget-view+json": {
       "model_id": "2817a5a8c39e4265a5b2ef87ad09ec95",
       "version_major": 2,
       "version_minor": 0
      },
      "text/plain": [
       "special_tokens_map.json:   0%|          | 0.00/2.19k [00:00<?, ?B/s]"
      ]
     },
     "metadata": {},
     "output_type": "display_data"
    },
    {
     "name": "stderr",
     "output_type": "stream",
     "text": [
      "Special tokens have been added in the vocabulary, make sure the associated word embeddings are fine-tuned or trained.\n"
     ]
    }
   ],
   "source": [
    "with open(\"Telegram-bot-token.txt\", \"r\") as f:\n",
    "    TOKEN = f.read().strip() # strip() removes the trailing \"\\n\" if it exists\n",
    "\n",
    "HF_MODEL = \"cantillation/Teamim-AllNusah-whisper-medium_Random-True_Mid\"\n",
    "model = WhisperForConditionalGeneration.from_pretrained(HF_MODEL).to(\"cuda\")\n",
    "processor = WhisperProcessor.from_pretrained(HF_MODEL, language=\"hebrew\", task=\"transcribe\")\n",
    "SR = processor.feature_extractor.sampling_rate"
   ]
  },
  {
   "cell_type": "code",
   "execution_count": 3,
   "metadata": {},
   "outputs": [],
   "source": [
    "def extract_features(audio):\n",
    "    feature = processor.feature_extractor(audio, sampling_rate=SR,).input_features[0]\n",
    "    return torch.tensor(feature).unsqueeze(0)\n"
   ]
  },
  {
   "cell_type": "code",
   "execution_count": 4,
   "metadata": {},
   "outputs": [],
   "source": [
    "def transcribe(audio):\n",
    "\n",
    "    # preprocess the audio file\n",
    "    inputs = extract_features(audio).to(\"cuda\")\n",
    "    \n",
    "    # generate the text\n",
    "    generated_ids = model.generate(inputs, max_length=225, num_beams=4, early_stopping=True) # num_beams is the number of beams for beam search\n",
    "    # return_dict_in_generate=True so we need to access the \"sequences\" key\n",
    "    transcription = processor.decode(generated_ids[0], skip_special_tokens=True)\n",
    "    \n",
    "    return transcription\n"
   ]
  },
  {
   "cell_type": "code",
   "execution_count": null,
   "metadata": {},
   "outputs": [
    {
     "name": "stderr",
     "output_type": "stream",
     "text": [
      "2024-03-31 13:05:00,621 - apscheduler.scheduler - INFO - Scheduler started\n"
     ]
    }
   ],
   "source": [
    "# Enable logging\n",
    "logging.basicConfig(format='%(asctime)s - %(name)s - %(levelname)s - %(message)s',\n",
    "                     level=logging.INFO)\n",
    "\n",
    "# Define a function to handle audio messages\n",
    "def handle_audio(update, context):\n",
    "    audio_message = update.message.voice or update.message.audio\n",
    "    # Get the audio file\n",
    "    file = context.bot.get_file(audio_message.file_id)\n",
    "    audio = file.download_as_bytearray()\n",
    "    audio = librosa.load(io.BytesIO(audio), sr=SR, mono=True)[0]\n",
    "    \n",
    "    # Send a message to the user\n",
    "    context.bot.send_message(chat_id=update.message.chat_id, text=\"קיבלתי את הקובץ, אני מתחיל להמיר אותו לטקסט עם טעמים...\")\n",
    "    \n",
    "    # Audio to text with cantillations\n",
    "    transcription = str(transcribe(audio))\n",
    "    \n",
    "    # Send the transcription to the user\n",
    "    context.bot.send_message(chat_id=update.message.chat_id, text=f\"זה מוכן!: \\n {transcription}\")\n",
    "    \n",
    "    \n",
    "    \n",
    "    \n",
    "def main():\n",
    "    # Create an instance of the Updater class\n",
    "    updater = Updater(TOKEN, use_context=True)\n",
    "\n",
    "    # Get the dispatcher to register handlers\n",
    "    dispatcher = updater.dispatcher\n",
    "\n",
    "    # Register a handler for audio messages\n",
    "    audio_handler = MessageHandler(Filters.audio, handle_audio)\n",
    "    dispatcher.add_handler(audio_handler)\n",
    "    \n",
    "    # Register a handler for voice messages\n",
    "    voice_handler = MessageHandler(Filters.voice, handle_audio)\n",
    "    dispatcher.add_handler(voice_handler)\n",
    "    \n",
    "    # Start the bot\n",
    "    updater.start_polling()\n",
    "    updater.idle()\n",
    "\n",
    "if __name__ == '__main__':\n",
    "    main()"
   ]
  },
  {
   "cell_type": "code",
   "execution_count": null,
   "metadata": {},
   "outputs": [],
   "source": []
  },
  {
   "cell_type": "code",
   "execution_count": null,
   "metadata": {},
   "outputs": [],
   "source": [
    "# Example for how to im\n",
    "from telegram import ReplyKeyboardMarkup\n",
    "from telegram.ext import CommandHandler, MessageHandler, Filters, ConversationHandler\n",
    "\n",
    "# Define a function to handle text messages\n",
    "def handle_text(update, context):\n",
    "    context.bot.send_message(chat_id=update.message.chat_id, text=\"You said: \" + update.message.text)\n",
    "\n",
    "# Define a function to handle /start command\n",
    "def start(update, context):\n",
    "    context.bot.send_message(chat_id=update.message.chat_id, text=\"Hello, I'm your bot!\")\n",
    "\n",
    "# Define a function to handle /help command\n",
    "def help(update, context):\n",
    "    context.bot.send_message(chat_id=update.message.chat_id, text=\"You can send me an audio message and I will transcribe it for you.\")\n",
    "\n",
    "# Define a function to handle a conversation\n",
    "def start_conversation(update, context):\n",
    "    reply_keyboard = [['Option 1', 'Option 2'], ['Option 3', 'Option 4']]\n",
    "    update.message.reply_text('Please choose:', reply_markup=ReplyKeyboardMarkup(reply_keyboard, one_time_keyboard=True))\n",
    "    return 1\n",
    "\n",
    "def continue_conversation(update, context):\n",
    "    user_choice = update.message.text\n",
    "    update.message.reply_text('You chose: ' + user_choice)\n",
    "    return ConversationHandler.END\n",
    "\n",
    "\n",
    "# Define a function to handle audio messages\n",
    "def handle_audio(update, context):\n",
    "    audio_message = update.message.voice or update.message.audio\n",
    "    # Get the audio file\n",
    "    file = context.bot.get_file(audio_message.file_id)\n",
    "    audio = file.download_as_bytearray()\n",
    "    audio = librosa.load(io.BytesIO(audio), sr=SR, mono=True)[0]\n",
    "    \n",
    "    # Send a message to the user\n",
    "    context.bot.send_message(chat_id=update.message.chat_id, text=\"קיבלתי את הקובץ, אני מתחיל להמיר אותו לטקסט עם טעמים...\")\n",
    "    \n",
    "    # Audio to text with cantillations\n",
    "    transcription = str(transcribe(audio))\n",
    "    \n",
    "    # Send the transcription to the user\n",
    "    context.bot.send_message(chat_id=update.message.chat_id, text=f\"זה מוכן!: \\n {transcription}\")\n",
    "    \n",
    "    \n",
    "def main():\n",
    "    # Create an instance of the Updater class\n",
    "    updater = Updater(TOKEN, use_context=True)\n",
    "\n",
    "    # Get the dispatcher to register handlers\n",
    "    dispatcher = updater.dispatcher\n",
    "\n",
    "    # Register a handler for text messages\n",
    "    text_handler = MessageHandler(Filters.text & (~Filters.command), handle_text)\n",
    "    dispatcher.add_handler(text_handler)\n",
    "\n",
    "    # Register a handler for /start command\n",
    "    start_handler = CommandHandler('start', start)\n",
    "    dispatcher.add_handler(start_handler)\n",
    "\n",
    "    # Register a handler for /help command\n",
    "    help_handler = CommandHandler('help', help)\n",
    "    dispatcher.add_handler(help_handler)\n",
    "\n",
    "    # Register a handler for audio messages\n",
    "    audio_handler = MessageHandler(Filters.audio, handle_audio)\n",
    "    dispatcher.add_handler(audio_handler)\n",
    "\n",
    "    # Register a handler for voice messages\n",
    "    voice_handler = MessageHandler(Filters.voice, handle_audio)\n",
    "    dispatcher.add_handler(voice_handler)\n",
    "\n",
    "    # Register a conversation handler\n",
    "    conv_handler = ConversationHandler(\n",
    "        entry_points=[CommandHandler('conversation', start_conversation)],\n",
    "        states={\n",
    "            1: [MessageHandler(Filters.text, continue_conversation)],\n",
    "        },\n",
    "        fallbacks=[CommandHandler('cancel', lambda update, context: ConversationHandler.END)]\n",
    "    )\n",
    "    dispatcher.add_handler(conv_handler)\n",
    "\n",
    "    # Start the bot\n",
    "    updater.start_polling()\n",
    "    updater.idle()\n",
    "\n",
    "if __name__ == '__main__':\n",
    "    main()"
   ]
  },
  {
   "cell_type": "code",
   "execution_count": null,
   "metadata": {},
   "outputs": [],
   "source": []
  }
 ],
 "metadata": {
  "kernelspec": {
   "display_name": "Python 3 (ipykernel)",
   "language": "python",
   "name": "python3"
  },
  "language_info": {
   "codemirror_mode": {
    "name": "ipython",
    "version": 3
   },
   "file_extension": ".py",
   "mimetype": "text/x-python",
   "name": "python",
   "nbconvert_exporter": "python",
   "pygments_lexer": "ipython3",
   "version": "3.10.12"
  }
 },
 "nbformat": 4,
 "nbformat_minor": 4
}
