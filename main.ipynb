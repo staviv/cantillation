{
 "cells": [
  {
   "cell_type": "code",
   "execution_count": 1,
   "metadata": {
    "colab": {
     "base_uri": "https://localhost:8080/"
    },
    "id": "lESEQESbbaCW",
    "outputId": "ef31328a-49d7-4a33-8c5d-ce9e7b3698fc"
   },
   "outputs": [
    {
     "name": "stdout",
     "output_type": "stream",
     "text": [
      "CUDA is available.\n"
     ]
    }
   ],
   "source": [
    "import torch\n",
    "\n",
    "# Check if CUDA is available\n",
    "if torch.cuda.is_available():\n",
    "    print(\"CUDA is available.\")\n",
    "else:\n",
    "    print(\"CUDA is not available. Check if your GPU drivers are properly installed.\")\n"
   ]
  },
  {
   "cell_type": "code",
   "execution_count": 2,
   "metadata": {
    "colab": {
     "base_uri": "https://localhost:8080/"
    },
    "id": "ekLLgh9jbj9L",
    "outputId": "67e5c329-6f72-4004-e773-a3c689a47bb4"
   },
   "outputs": [],
   "source": [
    "# !pip install datasets>=2.6.1\n",
    "# !pip install transformers\n",
    "# !pip install librosa\n",
    "# !pip install jiwer\n",
    "# !pip install evaluate>=0.30\n",
    "# #!pip install gradio\n",
    "# !pip install -U accelerate\n",
    "\n",
    "#from 20.5.2024\n",
    "# !pip install audiomentations[extras]\n",
    "# !pip install mutagen\n",
    "# !pip install srt"
   ]
  },
  {
   "cell_type": "code",
   "execution_count": 3,
   "metadata": {
    "id": "yL7AXZaxfQXd"
   },
   "outputs": [
    {
     "name": "stderr",
     "output_type": "stream",
     "text": [
      "/opt/conda/lib/python3.10/site-packages/tqdm/auto.py:21: TqdmWarning: IProgress not found. Please update jupyter and ipywidgets. See https://ipywidgets.readthedocs.io/en/stable/user_install.html\n",
      "  from .autonotebook import tqdm as notebook_tqdm\n"
     ]
    }
   ],
   "source": [
    "import os\n",
    "os.chdir('/app/')\n",
    "\n",
    "\n",
    "import librosa\n",
    "import random\n",
    "import numpy as np\n",
    "import IPython.display as ipd\n",
    "import pickle\n",
    "import pandas as pd\n",
    "from datasets import Dataset\n",
    "from datasets import Audio\n",
    "from torch.utils.data import ConcatDataset\n",
    "from transformers import WhisperProcessor\n",
    "import mutagen.mp3\n",
    "from tqdm import tqdm\n",
    "import json\n",
    "from audiomentations import Compose, AddGaussianNoise, TimeStretch, PitchShift, Shift, RoomSimulator\n",
    "import srt\n",
    "import re\n",
    "from IPython.display import clear_output\n",
    "from transformers import WhisperForConditionalGeneration\n",
    "from huggingface_hub import login\n",
    "\n",
    "\n",
    "\n",
    "#our libraries\n",
    "from global_variables.training_vars import *\n",
    "from global_variables.folders import *\n",
    "from parashat_hashavua_dataset import *\n",
    "from nikud_and_teamim import just_teamim,remove_nikud\n"
   ]
  },
  {
   "cell_type": "code",
   "execution_count": 4,
   "metadata": {},
   "outputs": [
    {
     "name": "stdout",
     "output_type": "stream",
     "text": [
      "The token has not been saved to the git credentials helper. Pass `add_to_git_credential=True` in this function directly or `--add-to-git-credential` if using via `huggingface-cli` if you want to set the git credential as well.\n",
      "Token is valid (permission: write).\n",
      "Your token has been saved to /root/.cache/huggingface/token\n",
      "Login successful\n"
     ]
    }
   ],
   "source": [
    "# load the token from txt file\n",
    "with open(\"./tokens/HF_token.txt\", \"r\") as f:\n",
    "    HF_TOKEN = f.read().strip() # strip() removes the trailing \"\\n\" if it exists\n",
    "login(token=HF_TOKEN)\n"
   ]
  },
  {
   "cell_type": "code",
   "execution_count": 5,
   "metadata": {
    "colab": {
     "base_uri": "https://localhost:8080/",
     "height": 397,
     "referenced_widgets": [
      "316a81bbcf3b405e9a94d257d4533f3a",
      "e2c168b61eb245cb95bbafb1b7eb634a",
      "71b051da44964e9a88a3cfca6dbe97ef",
      "e139e59deda04a26b72af44980c05f8d",
      "21ceafb8ada744a0913d70c323f7e9ff",
      "982f74675ca2483a8b9a8233c9758559",
      "bd7275dca2b041deaa3a5d590e2751c9",
      "939d7a5d9c3f47ac94d6d06509239d73",
      "e39746e3d94d4b23a36e13b3e71565cc",
      "04d5cae97661408b89e36c56f7a4026e",
      "a279b59aecfb477ab6507ace11ac60b0",
      "133401d2f1fa42ec87ea6730a15b6dfe",
      "c4454aa4bca64e82b937a0c96ad566dc",
      "9e9ffe6d3d834b15b150160fa9064feb",
      "7110a1e0d21b4d26b564a940cf66c750",
      "5bd61101ed7e4db2aa4b98a67a4cd7a8",
      "f3cdae97e2014ed09fb54ff84318b54d",
      "59fec107f8b544f4aab87649641d9b59",
      "e4630926ae35406faaa326f6fcaf0d09",
      "b1899f5c09024ea5aa607a4ad4e84ae8",
      "f9d61d0a94e142f691e5130fa9a66423",
      "9c5767c57dcb471382ee157a477ed347",
      "9c42f7d3daf6488db715deadb7b3c785",
      "10fb32887c78484e9208a870e310d587",
      "8a923b6fe94e47079421a6f1aaf8789e",
      "f9150615462f4726a39f49304e006307",
      "7164e2022ebe4e918d90e66543066152",
      "fa7cd3ad9e77456fa334bb5594376837",
      "08687b2b049d4789b8448eb41351d752",
      "edfffe788aa7471c8008222802a6afd2",
      "db072c2ce999423f90287134ba2998be",
      "1b607f29b531437eb69ee394984361c8",
      "5888f6a638f7433f824762fff4fa7a67",
      "2cd16c713b1e448cbe56d7b645526974",
      "fefb0bd8e24e4b10b338079c09138a6d",
      "23fc529d69324e719c944468edb644fc",
      "538dd0816a67491395b2091a7d27a2a4",
      "96d3147f58114a1b86d44588746ae430",
      "01faaca5760942e19ce23a2ceae7351b",
      "15e04991c6894be7ac9f9ec5a439a9db",
      "0a80d2c631d0452bb97f23bcf8b46a50",
      "a5fb0e2907a24c6ca57c1f1aef97b07f",
      "06ac5aaf19ed4abe831d57859fea50cd",
      "22addcb748c44dda8ea77a6a546d63fa",
      "ac65ad6487a945c6948369926488dedf",
      "8a51be57482f4ed0b2c29f62286f671a",
      "5cb6bcd290ff4f32999e8d1b979d5e3d",
      "4143d82c179e4dfdb1d0410dd43dfe4b",
      "8eb7d858a365494c9d81784e5f11ecc7",
      "ecd956598a2341be8b0d3472d80360ff",
      "6800636d2c8b429eac1ffd4ad2e0b562",
      "2242f7a8c58340548fa7f42903a57ba5",
      "100dabe937314a60a8d58a210cfb9aa6",
      "3f15f8c19f1949b789d2b63dcb1a7656",
      "9f4d37ee7302483f9150da8adf395af1",
      "d1d2512ab1de488cb324196730b9dbff",
      "64e6654cda3d488b9221b22528c8e587",
      "82e2bdb42a274f5fbe976efed632cebd",
      "16b45f394d444df4b4673b62e23e5a9a",
      "e80590aaca3d4308991a8640da62b3f2",
      "c406f962c1364f4fb2a557b785621c8c",
      "185cd1ec26db4fc9be4e2428eb6fa8af",
      "49145c534efc4c04a755c56f7744a653",
      "1bd92ac56ff645b58fa128917b196486",
      "5245d189cbb040e59bffdb4d9e27080f",
      "7a215547c92841c28fd5e458ee97a607",
      "33dcf8564d2244d0adde04ce42025fc7",
      "abf73c08d2d949f8afb7fee0fca3ffcb",
      "510c16bd2a924ab280309e953496190e",
      "e9543234fc264713b087f55906497c2c",
      "cfc79a2ce18045e587edd9046934d9ac",
      "0c213ab36bcd4b1db96723a7df11da1c",
      "0ea3a85a270b4d7b8650f3e89fe5cfdb",
      "24640a92d2b143a79a5df55bbd8d44fa",
      "519b109bed9f4661a1311f48a712b562",
      "6157f3fa11594fd6954f2d1846f73b32",
      "76629e173c844c27b836d3b042547fc9",
      "b3b38d973c8d47a4a0b6b927eaca02c3",
      "977c9a460d9f4d4a93dee3e99da0cf17",
      "d734cc7dddff453b8eee7fa2e06512e8",
      "4e938c64a5594900a997f957b36b4680",
      "2cd82edd43284cbaae30a2c136fe88a6",
      "27c16a4bbf30486399809e23298c6c7d",
      "e1e579ac745a4bb8b302903fc59fa868",
      "4db6e9f35e7f4d39bfd86a98379be401",
      "6a4478f248e84866b3d21436aa5ea9ee",
      "2e0d4c7ac8a843458171c4621c6542ad",
      "12c68f1f61094daeb54db0a55f44fc7c"
     ]
    },
    "id": "f-JLZL_rfSs-",
    "outputId": "567f8655-0298-4585-eca0-3cf8a14ac4be"
   },
   "outputs": [
    {
     "name": "stderr",
     "output_type": "stream",
     "text": [
      "Special tokens have been added in the vocabulary, make sure the associated word embeddings are fine-tuned or trained.\n"
     ]
    }
   ],
   "source": [
    "processor = WhisperProcessor.from_pretrained(\"openai/whisper-\" + BASE_MODEL_VERSION, language=\"hebrew\", task=\"transcribe\")"
   ]
  },
  {
   "cell_type": "code",
   "execution_count": 6,
   "metadata": {},
   "outputs": [],
   "source": [
    "# # Check how many tokens needed for each nikud/taam\n",
    "# chars = ['֑', '֒', '֓', '֔', '֕', '֖', '֗', '֘', '֙', '֚', '֛', '֜', '֝', '֞', '֟', '֠', '֡', '֢', '֣', '֤', '֥', '֦', '֧', '֨', '֩', '֪', '֫', '֬', '֭', '֮', '֯', 'ְ', 'ֱ', 'ֲ', 'ֳ', 'ִ', 'ֵ', 'ֶ', 'ַ', 'ָ', 'ֹ', 'ֺ', 'ֻ', 'ּ', 'ֽ', '־', 'ֿ', '׀', 'ׁ', 'ׂ', '׃', 'ׄ', 'ׅ', '׆', 'ׇ']\n",
    "# for c in chars:\n",
    "#     print(f\"{c}: {len(processor.tokenizer.encode(c))-5}\")\n"
   ]
  },
  {
   "cell_type": "code",
   "execution_count": 7,
   "metadata": {
    "id": "ft4gZXNxdO5q"
   },
   "outputs": [],
   "source": [
    "tokens_added = (len(processor.tokenizer.encode('֟'))==6) # check if the tokens were already added\n",
    "if ADDTOKENS and not tokens_added: # add the tokens if they weren't already added\n",
    "    \n",
    "    teamim = ['֑', '֒', '֓', '֔', '֕', '֖', '֗', '֘', '֙', '֚', '֛', '֜', '֝', '֞', '֟', '֠', '֡', '֢', '֣', '֤', '֥', '֦', '֧', '֨', '֩', '֪', '֫', '֬', '֭', '֮', 'ֽ']\n",
    "    if JUST_TEAMIM:\n",
    "        new_tokens = [BASE_CHAR + c for c in teamim] # add the base char to the teamim (e.g. א֑)\n",
    "    elif NIKUD:\n",
    "        new_tokens = ['֑', '֒', '֓', '֔', '֕', '֖', '֗', '֘', '֙', '֚', '֛', '֜', '֝', '֞', '֟', '֠', '֡', '֢', '֣', '֤', '֥', '֦', '֧', '֨', '֩', '֪', '֫', '֬', '֭', '֮', '֯', 'ְ', 'ֱ', 'ֲ', 'ֳ', 'ִ', 'ֵ', 'ֶ', 'ַ', 'ָ', 'ֹ', 'ֺ', 'ֻ', 'ּ', 'ֽ', '־', 'ֿ', '׀', 'ׁ', 'ׂ', '׃', 'ׄ', 'ׅ', '׆', 'ׇ']\n",
    "    else:\n",
    "        new_tokens = teamim\n",
    "    \n",
    "    processor.tokenizer.add_tokens(new_tokens)"
   ]
  },
  {
   "cell_type": "code",
   "execution_count": 8,
   "metadata": {
    "id": "gi8Ue9GYfGsS"
   },
   "outputs": [
    {
     "name": "stdout",
     "output_type": "stream",
     "text": [
      "dict_keys(['text', 'maroko', 'yerushalmi', 'ashkenazi', 'bavly'])\n"
     ]
    },
    {
     "name": "stderr",
     "output_type": "stream",
     "text": [
      "Loading ashkenazi nusach (1/4):   0%|          | 0/500 [00:00<?, ?it/s]"
     ]
    },
    {
     "name": "stderr",
     "output_type": "stream",
     "text": [
      "Loading ashkenazi nusach (1/4):  88%|████████▊ | 442/500 [00:01<00:00, 360.73it/s]"
     ]
    },
    {
     "name": "stdout",
     "output_type": "stream",
     "text": [
      "the text doesn't have nikud:  סוף חמישי ותחילת ששי למנהג האשכנזים\n"
     ]
    },
    {
     "name": "stderr",
     "output_type": "stream",
     "text": [
      "Loading ashkenazi nusach (1/4): 100%|██████████| 500/500 [00:01<00:00, 276.02it/s]\n"
     ]
    },
    {
     "name": "stdout",
     "output_type": "stream",
     "text": [
      "Num of missing files in ashkenazi nusach:  1\n",
      "dict_keys(['text', 'maroko', 'yerushalmi', 'ashkenazi', 'bavly'])\n"
     ]
    },
    {
     "name": "stderr",
     "output_type": "stream",
     "text": [
      "Loading maroko nusach (2/4):   9%|▉         | 44/500 [00:00<00:01, 433.85it/s]"
     ]
    },
    {
     "name": "stdout",
     "output_type": "stream",
     "text": [
      "the audio is not mp3 or the length is not legal:  audio_files_new_data/maroko_01-bereshit_1_10111_8.mp3\n",
      "the audio is not mp3 or the length is not legal:  audio_files_new_data/maroko_01-bereshit_1_10113_1.mp3\n",
      "the audio is not mp3 or the length is not legal:  audio_files_new_data/maroko_01-bereshit_1_10119_1.mp3\n"
     ]
    },
    {
     "name": "stderr",
     "output_type": "stream",
     "text": [
      "Loading maroko nusach (2/4):  18%|█▊        | 88/500 [00:00<00:00, 427.56it/s]"
     ]
    },
    {
     "name": "stdout",
     "output_type": "stream",
     "text": [
      "the audio is not mp3 or the length is not legal:  audio_files_new_data/maroko_01-bereshit_1_10123_1.mp3\n"
     ]
    },
    {
     "name": "stderr",
     "output_type": "stream",
     "text": [
      "Loading maroko nusach (2/4):  94%|█████████▎| 468/500 [00:01<00:00, 418.14it/s]"
     ]
    },
    {
     "name": "stdout",
     "output_type": "stream",
     "text": [
      "the text doesn't have nikud:  סוף חמישי ותחילת ששי למנהג האשכנזים\n"
     ]
    },
    {
     "name": "stderr",
     "output_type": "stream",
     "text": [
      "Loading maroko nusach (2/4): 100%|██████████| 500/500 [00:01<00:00, 410.69it/s]\n"
     ]
    },
    {
     "name": "stdout",
     "output_type": "stream",
     "text": [
      "Num of missing files in maroko nusach:  5\n",
      "dict_keys(['text', 'maroko', 'yerushalmi', 'ashkenazi', 'bavly'])\n"
     ]
    },
    {
     "name": "stderr",
     "output_type": "stream",
     "text": [
      "Loading yerushalmi nusach (3/4):  38%|███▊      | 188/500 [00:00<00:00, 346.26it/s]"
     ]
    },
    {
     "name": "stdout",
     "output_type": "stream",
     "text": [
      "the audio is not mp3 or the length is not legal:  audio_files_new_data/yerushalmi_01-bereshit_1_10131_1.mp3\n",
      "the audio is not mp3 or the length is not legal:  audio_files_new_data/yerushalmi_01-bereshit_1_10131_2.mp3\n",
      "the audio is not mp3 or the length is not legal:  audio_files_new_data/yerushalmi_01-bereshit_1_10131_3.mp3\n"
     ]
    },
    {
     "name": "stderr",
     "output_type": "stream",
     "text": [
      "Loading yerushalmi nusach (3/4):  80%|███████▉  | 398/500 [00:01<00:00, 340.43it/s]"
     ]
    },
    {
     "name": "stdout",
     "output_type": "stream",
     "text": [
      "the audio is not mp3 or the length is not legal:  audio_files_new_data/yerushalmi_01-bereshit_4_10322_10.mp3\n"
     ]
    },
    {
     "name": "stderr",
     "output_type": "stream",
     "text": [
      "Loading yerushalmi nusach (3/4):  96%|█████████▌| 479/500 [00:01<00:00, 371.67it/s]"
     ]
    },
    {
     "name": "stdout",
     "output_type": "stream",
     "text": [
      "the text doesn't have nikud:  סוף חמישי ותחילת ששי למנהג האשכנזים\n"
     ]
    },
    {
     "name": "stderr",
     "output_type": "stream",
     "text": [
      "Loading yerushalmi nusach (3/4): 100%|██████████| 500/500 [00:01<00:00, 351.88it/s]\n"
     ]
    },
    {
     "name": "stdout",
     "output_type": "stream",
     "text": [
      "Num of missing files in yerushalmi nusach:  5\n",
      "dict_keys(['text', 'maroko', 'yerushalmi', 'ashkenazi', 'bavly'])\n"
     ]
    },
    {
     "name": "stderr",
     "output_type": "stream",
     "text": [
      "Loading bavly nusach (4/4):  88%|████████▊ | 442/500 [00:01<00:00, 255.65it/s]"
     ]
    },
    {
     "name": "stdout",
     "output_type": "stream",
     "text": [
      "the text doesn't have nikud:  סוף חמישי ותחילת ששי למנהג האשכנזים\n",
      "the audio is not mp3 or the length is not legal:  audio_files_new_data/bavly_01-bereshit_6_10510_1.mp3\n",
      "the audio is not mp3 or the length is not legal:  audio_files_new_data/bavly_01-bereshit_6_10510_2.mp3\n",
      "the audio is not mp3 or the length is not legal:  audio_files_new_data/bavly_01-bereshit_6_10510_3.mp3\n",
      "the audio is not mp3 or the length is not legal:  audio_files_new_data/bavly_01-bereshit_6_10510_4.mp3\n",
      "the audio is not mp3 or the length is not legal:  audio_files_new_data/bavly_01-bereshit_6_10510_5.mp3\n"
     ]
    },
    {
     "name": "stderr",
     "output_type": "stream",
     "text": [
      "Loading bavly nusach (4/4): 100%|██████████| 500/500 [00:02<00:00, 240.83it/s]"
     ]
    },
    {
     "name": "stdout",
     "output_type": "stream",
     "text": [
      "Num of missing files in bavly nusach:  6\n",
      "1983\n"
     ]
    },
    {
     "name": "stderr",
     "output_type": "stream",
     "text": [
      "\n"
     ]
    }
   ],
   "source": [
    "if COMBINE_DATA:\n",
    "    train_data1 = parashat_hashavua_dataset(new_data = True, few_data=FASTTEST, train =True ,validation=False, random=RANDOM, num_of_words_in_sample=4, nusachim=NUSACHIM, augment=AUGMENT, processor=processor)\n",
    "    train_data2 = parashat_hashavua_dataset(new_data = False, train =True ,validation=False, random=RANDOM, num_of_words_in_sample=13, augment=AUGMENT, prob_for_num_of_parts = [0.05, 0.05, 0.05, 0.05, 0.1, 0.15, 0.15, 0.2, 0.2], processor=processor)\n",
    "    train_data = ConcatDataset([train_data1, train_data2])\n",
    "else:\n",
    "    if NEWDATA == \"other\":\n",
    "        train_data = parashat_hashavua_dataset(new_data = NEWDATA, few_data=FASTTEST, train =True ,validation=False, random=RANDOM, num_of_words_in_sample=1, nusachim=NUSACHIM, augment=AUGMENT, processor=processor)\n",
    "    elif NEWDATA:\n",
    "        train_data = parashat_hashavua_dataset(new_data = True, few_data=FASTTEST, train =True ,validation=False, random=RANDOM, num_of_words_in_sample=4, nusachim=NUSACHIM, augment=AUGMENT, processor=processor)\n",
    "\n",
    "    else:\n",
    "        train_data = parashat_hashavua_dataset(new_data = False, train =True ,validation=False, random=RANDOM, num_of_words_in_sample=13, augment=AUGMENT, prob_for_num_of_parts = [0.05, 0.05, 0.05, 0.05, 0.1, 0.15, 0.15, 0.2, 0.2], processor=processor)\n",
    "        \n",
    "        \n",
    "print(len(train_data))\n"
   ]
  },
  {
   "cell_type": "code",
   "execution_count": 27,
   "metadata": {},
   "outputs": [
    {
     "name": "stderr",
     "output_type": "stream",
     "text": [
      "100%|██████████| 357/357 [00:58<00:00,  6.12it/s]\n"
     ]
    },
    {
     "name": "stdout",
     "output_type": "stream",
     "text": [
      "success_count:  333\n",
      "fail_count:  24\n",
      "-25: 1\n",
      "-9: 1\n",
      "-8: 1\n",
      "-7: 3\n",
      "-5: 1\n",
      "-4: 2\n",
      "-2: 4\n",
      "-1: 8\n",
      "1: 2\n",
      "2: 1\n",
      "diff_list:  [(-25, 'Beshalach-4.txt'), (-9, 'Haazinu-1.txt'), (-8, 'Haazinu-2.txt'), (-7, 'Haazinu-5.txt'), (-7, 'Haazinu-6.txt'), (-7, 'Haazinu-3.txt'), (-5, 'Haazinu-4.txt'), (-4, 'Yitro-6.txt'), (-4, 'Vaethanan-4.txt'), (-2, 'Vayishlach-6.txt'), (-2, 'Shmini-6.txt'), (-2, 'Behaalotcha-5.txt'), (-2, 'Nasso-6.txt'), (-1, 'Devarim-5.txt'), (-1, 'Mishpatim-1.txt'), (-1, 'Behar-5.txt'), (-1, 'Shemot-1.txt'), (-1, 'LechLecha-4.txt'), (-1, 'Emor-1.txt'), (-1, 'Bamidbar-3.txt'), (-1, 'Vayeshev-6.txt'), (1, 'Tetzaveh-3.txt'), (1, 'KiTisa-4.txt'), (2, 'Tzav-3.txt')]\n"
     ]
    }
   ],
   "source": [
    "train_data = parashat_hashavua_dataset(new_data = False, train =True ,validation=False, random=True, num_of_words_in_sample=13, augment=AUGMENT, prob_for_num_of_parts = [0.05, 0.05, 0.05, 0.05, 0.1, 0.15, 0.15, 0.2, 0.2], processor=processor)"
   ]
  },
  {
   "cell_type": "code",
   "execution_count": 38,
   "metadata": {},
   "outputs": [
    {
     "data": {
      "text/plain": [
       "'<|startoftranscript|><|he|><|transcribe|><|notimestamps|>הול֣יד את־ וכ֥ה תדבֽר׃ מעש֔ך ובכ֖ל א֛יש על־ ובֽרכך֙ והט֖וב קֽדש־ ה֚מה והי֗ה<|endoftext|>'"
      ]
     },
     "execution_count": 38,
     "metadata": {},
     "output_type": "execute_result"
    }
   ],
   "source": [
    "processor.tokenizer.decode(train_data[0]['labels'])"
   ]
  },
  {
   "cell_type": "code",
   "execution_count": 10,
   "metadata": {},
   "outputs": [],
   "source": [
    "# check the data of Pocket Torah\n",
    "# train_data.check_failed_files_of_old_data()"
   ]
  },
  {
   "cell_type": "code",
   "execution_count": 11,
   "metadata": {},
   "outputs": [],
   "source": [
    "# play random from the train data\n",
    "# train_data.print_and_play_word_by_index(random.randint(0, len(train_data.data)))\n",
    "\n",
    "\n",
    "#validation of the data\n",
    "# train_data.check_the_data() \n",
    "# remove the sample index:\n",
    "# train_data.remove_word_by_index(32487)\n"
   ]
  },
  {
   "cell_type": "code",
   "execution_count": 12,
   "metadata": {
    "id": "w17sYwqGJ0ai"
   },
   "outputs": [
    {
     "name": "stdout",
     "output_type": "stream",
     "text": [
      "dict_keys(['text', 'maroko', 'yerushalmi', 'ashkenazi', 'bavly'])\n"
     ]
    },
    {
     "name": "stderr",
     "output_type": "stream",
     "text": [
      "Loading ashkenazi nusach (1/4):   4%|▍         | 108/2766 [00:00<00:12, 215.48it/s]"
     ]
    },
    {
     "name": "stdout",
     "output_type": "stream",
     "text": [
      "the audio is not mp3 or the length is not legal:  audio_files_new_data/ashkenazi_29-ahare-mot_5_31802_2.mp3\n"
     ]
    },
    {
     "name": "stderr",
     "output_type": "stream",
     "text": [
      "Loading ashkenazi nusach (1/4):   9%|▉         | 246/2766 [00:01<00:11, 222.48it/s]"
     ]
    },
    {
     "name": "stdout",
     "output_type": "stream",
     "text": [
      "the audio is not mp3 or the length is not legal:  audio_files_new_data/ashkenazi_18-mishpatim_7_22327_1.mp3\n"
     ]
    },
    {
     "name": "stderr",
     "output_type": "stream",
     "text": [
      "Loading ashkenazi nusach (1/4):  15%|█▍        | 407/2766 [00:01<00:10, 230.03it/s]"
     ]
    },
    {
     "name": "stdout",
     "output_type": "stream",
     "text": [
      "the audio is not mp3 or the length is not legal:  audio_files_new_data/ashkenazi_16-beshalach_5_21605_5.mp3\n"
     ]
    },
    {
     "name": "stderr",
     "output_type": "stream",
     "text": [
      "Loading ashkenazi nusach (1/4):  46%|████▌     | 1275/2766 [00:05<00:05, 259.88it/s]"
     ]
    },
    {
     "name": "stdout",
     "output_type": "stream",
     "text": [
      "the audio is not mp3 or the length is not legal:  audio_files_new_data/ashkenazi_41-pinechas_4_42709_2.mp3\n"
     ]
    },
    {
     "name": "stderr",
     "output_type": "stream",
     "text": [
      "Loading ashkenazi nusach (1/4):  79%|███████▉  | 2181/2766 [00:08<00:02, 264.58it/s]"
     ]
    },
    {
     "name": "stdout",
     "output_type": "stream",
     "text": [
      "the audio is not mp3 or the length is not legal:  audio_files_new_data/ashkenazi_29-ahare-mot_5_31714_2.mp3\n"
     ]
    },
    {
     "name": "stderr",
     "output_type": "stream",
     "text": [
      "Loading ashkenazi nusach (1/4):  82%|████████▏ | 2267/2766 [00:09<00:01, 263.83it/s]"
     ]
    },
    {
     "name": "stdout",
     "output_type": "stream",
     "text": [
      "the audio is not mp3 or the length is not legal:  audio_files_new_data/ashkenazi_23-saw_2_30709_2.mp3\n",
      "the audio is not mp3 or the length is not legal:  audio_files_new_data/ashkenazi_28-mesora_6_31517_3.mp3\n"
     ]
    },
    {
     "name": "stderr",
     "output_type": "stream",
     "text": [
      "Loading ashkenazi nusach (1/4):  89%|████████▊ | 2452/2766 [00:09<00:01, 256.56it/s]"
     ]
    },
    {
     "name": "stdout",
     "output_type": "stream",
     "text": [
      "the audio is not mp3 or the length is not legal:  audio_files_new_data/ashkenazi_23-saw_2_30709_3.mp3\n"
     ]
    },
    {
     "name": "stderr",
     "output_type": "stream",
     "text": [
      "Loading ashkenazi nusach (1/4): 100%|██████████| 2766/2766 [00:11<00:00, 244.83it/s]\n"
     ]
    },
    {
     "name": "stdout",
     "output_type": "stream",
     "text": [
      "Num of missing files in ashkenazi nusach:  8\n",
      "dict_keys(['text', 'maroko', 'yerushalmi', 'ashkenazi', 'bavly'])\n"
     ]
    },
    {
     "name": "stderr",
     "output_type": "stream",
     "text": [
      "Loading maroko nusach (2/4):   1%|          | 31/2766 [00:00<00:09, 302.85it/s]"
     ]
    },
    {
     "name": "stdout",
     "output_type": "stream",
     "text": [
      "the audio is not mp3 or the length is not legal:  audio_files_new_data/maroko_03-lech-lecha_7_11723_10.mp3\n"
     ]
    },
    {
     "name": "stderr",
     "output_type": "stream",
     "text": [
      "Loading maroko nusach (2/4):   6%|▌         | 160/2766 [00:00<00:08, 302.11it/s]"
     ]
    },
    {
     "name": "stdout",
     "output_type": "stream",
     "text": [
      "the audio is not mp3 or the length is not legal:  audio_files_new_data/maroko_35-naso_7_40774_2.mp3\n"
     ]
    },
    {
     "name": "stderr",
     "output_type": "stream",
     "text": [
      "Loading maroko nusach (2/4):  10%|█         | 290/2766 [00:00<00:08, 279.52it/s]"
     ]
    },
    {
     "name": "stdout",
     "output_type": "stream",
     "text": [
      "the audio is not mp3 or the length is not legal:  audio_files_new_data/maroko_36-behalotecha_5_41032_4.mp3\n",
      "the audio is not mp3 or the length is not legal:  audio_files_new_data/maroko_09-vayeshev_5_13904_3.mp3\n",
      "the audio is not mp3 or the length is not legal:  audio_files_new_data/maroko_35-naso_4_40518_2.mp3\n"
     ]
    },
    {
     "name": "stderr",
     "output_type": "stream",
     "text": [
      "Loading maroko nusach (2/4):  14%|█▍        | 385/2766 [00:01<00:07, 302.49it/s]"
     ]
    },
    {
     "name": "stdout",
     "output_type": "stream",
     "text": [
      "the audio is not mp3 or the length is not legal:  audio_files_new_data/maroko_35-naso_7_40775_1.mp3\n",
      "the audio is not mp3 or the length is not legal:  audio_files_new_data/maroko_23-pequde_2_23910_2.mp3\n"
     ]
    },
    {
     "name": "stderr",
     "output_type": "stream",
     "text": [
      "Warning: Xing stream size off by more than 1%, fuzzy seeking may be even more fuzzy than by design!\n",
      "Loading maroko nusach (2/4):  16%|█▋        | 453/2766 [00:01<00:07, 320.37it/s]"
     ]
    },
    {
     "name": "stdout",
     "output_type": "stream",
     "text": [
      "the audio is not mp3 or the length is not legal:  audio_files_new_data/maroko_37-shelac-lecha_1_41304_3.mp3\n",
      "the audio is not mp3 or the length is not legal:  audio_files_new_data/maroko_36-behalotecha_5_41034_3.mp3\n",
      "the audio is not mp3 or the length is not legal:  audio_files_new_data/maroko_36-behalotecha_5_41033_4.mp3\n"
     ]
    },
    {
     "name": "stderr",
     "output_type": "stream",
     "text": [
      "Loading maroko nusach (2/4):  20%|█▉        | 549/2766 [00:01<00:08, 262.41it/s]"
     ]
    },
    {
     "name": "stdout",
     "output_type": "stream",
     "text": [
      "the audio is not mp3 or the length is not legal:  audio_files_new_data/maroko_08-vayishlach_6_13617_7.mp3\n"
     ]
    },
    {
     "name": "stderr",
     "output_type": "stream",
     "text": [
      "Loading maroko nusach (2/4):  23%|██▎       | 640/2766 [00:02<00:07, 282.95it/s]"
     ]
    },
    {
     "name": "stdout",
     "output_type": "stream",
     "text": [
      "the audio is not mp3 or the length is not legal:  audio_files_new_data/maroko_35-naso_4_40516_1.mp3\n",
      "the audio is not mp3 or the length is not legal:  audio_files_new_data/maroko_35-naso_4_40517_3.mp3\n",
      "the audio is not mp3 or the length is not legal:  audio_files_new_data/maroko_35-naso_4_40515_4.mp3\n"
     ]
    },
    {
     "name": "stderr",
     "output_type": "stream",
     "text": [
      "Loading maroko nusach (2/4):  27%|██▋       | 734/2766 [00:02<00:06, 296.33it/s]"
     ]
    },
    {
     "name": "stdout",
     "output_type": "stream",
     "text": [
      "the audio is not mp3 or the length is not legal:  audio_files_new_data/maroko_35-naso_7_40777_3.mp3\n"
     ]
    },
    {
     "name": "stderr",
     "output_type": "stream",
     "text": [
      "Loading maroko nusach (2/4):  29%|██▉       | 797/2766 [00:02<00:07, 279.33it/s]"
     ]
    },
    {
     "name": "stdout",
     "output_type": "stream",
     "text": [
      "the audio is not mp3 or the length is not legal:  audio_files_new_data/maroko_09-vayeshev_5_13904_1.mp3\n"
     ]
    },
    {
     "name": "stderr",
     "output_type": "stream",
     "text": [
      "Loading maroko nusach (2/4):  32%|███▏      | 887/2766 [00:03<00:06, 279.62it/s]"
     ]
    },
    {
     "name": "stdout",
     "output_type": "stream",
     "text": [
      "the audio is not mp3 or the length is not legal:  audio_files_new_data/maroko_16-beshalach_5_21601_5.mp3\n"
     ]
    },
    {
     "name": "stderr",
     "output_type": "stream",
     "text": [
      "Loading maroko nusach (2/4):  38%|███▊      | 1048/2766 [00:03<00:05, 308.50it/s]"
     ]
    },
    {
     "name": "stdout",
     "output_type": "stream",
     "text": [
      "the audio is not mp3 or the length is not legal:  audio_files_new_data/maroko_36-behalotecha_5_41032_2.mp3\n",
      "the audio is not mp3 or the length is not legal:  audio_files_new_data/maroko_36-behalotecha_5_41031_1.mp3\n",
      "the audio is not mp3 or the length is not legal:  audio_files_new_data/maroko_36-behalotecha_5_41034_1.mp3\n"
     ]
    },
    {
     "name": "stderr",
     "output_type": "stream",
     "text": [
      "Loading maroko nusach (2/4):  40%|████      | 1108/2766 [00:03<00:06, 274.83it/s]"
     ]
    },
    {
     "name": "stdout",
     "output_type": "stream",
     "text": [
      "the audio is not mp3 or the length is not legal:  audio_files_new_data/maroko_39-huqat_1_41902_10.mp3\n"
     ]
    },
    {
     "name": "stderr",
     "output_type": "stream",
     "text": [
      "Loading maroko nusach (2/4):  42%|████▏     | 1169/2766 [00:04<00:05, 285.16it/s]"
     ]
    },
    {
     "name": "stdout",
     "output_type": "stream",
     "text": [
      "the audio is not mp3 or the length is not legal:  audio_files_new_data/maroko_35-naso_7_40773_2.mp3\n",
      "the audio is not mp3 or the length is not legal:  audio_files_new_data/maroko_35-naso_4_40515_2.mp3\n"
     ]
    },
    {
     "name": "stderr",
     "output_type": "stream",
     "text": [
      "Loading maroko nusach (2/4):  47%|████▋     | 1294/2766 [00:04<00:04, 303.67it/s]"
     ]
    },
    {
     "name": "stdout",
     "output_type": "stream",
     "text": [
      "the audio is not mp3 or the length is not legal:  audio_files_new_data/maroko_13-shemot_5_20318_10.mp3\n"
     ]
    },
    {
     "name": "stderr",
     "output_type": "stream",
     "text": [
      "Loading maroko nusach (2/4):  50%|█████     | 1386/2766 [00:04<00:05, 274.42it/s]"
     ]
    },
    {
     "name": "stdout",
     "output_type": "stream",
     "text": [
      "the audio is not mp3 or the length is not legal:  audio_files_new_data/maroko_35-naso_7_40773_7.mp3\n",
      "the audio is not mp3 or the length is not legal:  audio_files_new_data/maroko_37-shelac-lecha_1_41308_1.mp3\n",
      "the audio is not mp3 or the length is not legal:  audio_files_new_data/maroko_38-qorach_3_41705_10.mp3\n"
     ]
    },
    {
     "name": "stderr",
     "output_type": "stream",
     "text": [
      "Loading maroko nusach (2/4):  55%|█████▍    | 1514/2766 [00:05<00:04, 299.88it/s]"
     ]
    },
    {
     "name": "stdout",
     "output_type": "stream",
     "text": [
      "the audio is not mp3 or the length is not legal:  audio_files_new_data/maroko_35-naso_7_40775_2.mp3\n",
      "the audio is not mp3 or the length is not legal:  audio_files_new_data/maroko_35-naso_4_40512_4.mp3\n",
      "the audio is not mp3 or the length is not legal:  audio_files_new_data/maroko_24-vayiqra_7_30520_1.mp3\n"
     ]
    },
    {
     "name": "stderr",
     "output_type": "stream",
     "text": [
      "Loading maroko nusach (2/4):  61%|██████    | 1676/2766 [00:05<00:03, 285.00it/s]"
     ]
    },
    {
     "name": "stdout",
     "output_type": "stream",
     "text": [
      "the audio is not mp3 or the length is not legal:  audio_files_new_data/maroko_35-naso_6_40767_4.mp3\n",
      "the audio is not mp3 or the length is not legal:  audio_files_new_data/maroko_35-naso_6_40767_6.mp3\n",
      "the audio is not mp3 or the length is not legal:  audio_files_new_data/maroko_35-naso_4_40515_6.mp3\n"
     ]
    },
    {
     "name": "stderr",
     "output_type": "stream",
     "text": [
      "Loading maroko nusach (2/4):  65%|██████▌   | 1801/2766 [00:06<00:03, 305.74it/s]"
     ]
    },
    {
     "name": "stdout",
     "output_type": "stream",
     "text": [
      "the audio is not mp3 or the length is not legal:  audio_files_new_data/maroko_35-naso_4_40514_2.mp3\n",
      "the audio is not mp3 or the length is not legal:  audio_files_new_data/maroko_35-naso_6_40769_4.mp3\n",
      "the audio is not mp3 or the length is not legal:  audio_files_new_data/maroko_30-kedoshim_3_31932_2.mp3\n"
     ]
    },
    {
     "name": "stderr",
     "output_type": "stream",
     "text": [
      "Loading maroko nusach (2/4):  67%|██████▋   | 1864/2766 [00:06<00:02, 308.03it/s]"
     ]
    },
    {
     "name": "stdout",
     "output_type": "stream",
     "text": [
      "the audio is not mp3 or the length is not legal:  audio_files_new_data/maroko_35-naso_4_40516_2.mp3\n",
      "the audio is not mp3 or the length is not legal:  audio_files_new_data/maroko_35-naso_7_40774_1.mp3\n"
     ]
    },
    {
     "name": "stderr",
     "output_type": "stream",
     "text": [
      "Loading maroko nusach (2/4):  70%|██████▉   | 1929/2766 [00:06<00:03, 266.21it/s]"
     ]
    },
    {
     "name": "stdout",
     "output_type": "stream",
     "text": [
      "the audio is not mp3 or the length is not legal:  audio_files_new_data/maroko_36-behalotecha_5_41032_5.mp3\n"
     ]
    },
    {
     "name": "stderr",
     "output_type": "stream",
     "text": [
      "Loading maroko nusach (2/4):  72%|███████▏  | 1987/2766 [00:06<00:02, 274.98it/s]"
     ]
    },
    {
     "name": "stdout",
     "output_type": "stream",
     "text": [
      "the audio is not mp3 or the length is not legal:  audio_files_new_data/maroko_35-naso_6_40765_2.mp3\n",
      "the audio is not mp3 or the length is not legal:  audio_files_new_data/maroko_35-naso_4_40515_7.mp3\n",
      "the audio is not mp3 or the length is not legal:  audio_files_new_data/maroko_35-naso_4_40513_2.mp3\n"
     ]
    },
    {
     "name": "stderr",
     "output_type": "stream",
     "text": [
      "Loading maroko nusach (2/4):  74%|███████▍  | 2048/2766 [00:07<00:02, 288.39it/s]"
     ]
    },
    {
     "name": "stdout",
     "output_type": "stream",
     "text": [
      "the audio is not mp3 or the length is not legal:  audio_files_new_data/maroko_35-naso_7_40775_3.mp3\n",
      "the audio is not mp3 or the length is not legal:  audio_files_new_data/maroko_35-naso_4_40517_4.mp3\n"
     ]
    },
    {
     "name": "stderr",
     "output_type": "stream",
     "text": [
      "Loading maroko nusach (2/4):  80%|███████▉  | 2199/2766 [00:07<00:02, 265.99it/s]"
     ]
    },
    {
     "name": "stdout",
     "output_type": "stream",
     "text": [
      "the audio is not mp3 or the length is not legal:  audio_files_new_data/maroko_13-shemot_4_20315_10.mp3\n",
      "the audio is not mp3 or the length is not legal:  audio_files_new_data/maroko_36-behalotecha_5_41031_5.mp3\n"
     ]
    },
    {
     "name": "stderr",
     "output_type": "stream",
     "text": [
      "Loading maroko nusach (2/4):  82%|████████▏ | 2255/2766 [00:07<00:01, 272.46it/s]"
     ]
    },
    {
     "name": "stdout",
     "output_type": "stream",
     "text": [
      "the audio is not mp3 or the length is not legal:  audio_files_new_data/maroko_23-saw_2_30709_2.mp3\n",
      "the audio is not mp3 or the length is not legal:  audio_files_new_data/maroko_36-behalotecha_5_41031_6.mp3\n"
     ]
    },
    {
     "name": "stderr",
     "output_type": "stream",
     "text": [
      "Loading maroko nusach (2/4):  85%|████████▍ | 2348/2766 [00:08<00:01, 289.16it/s]"
     ]
    },
    {
     "name": "stdout",
     "output_type": "stream",
     "text": [
      "the audio is not mp3 or the length is not legal:  audio_files_new_data/maroko_36-behalotecha_5_41029_7.mp3\n",
      "the audio is not mp3 or the length is not legal:  audio_files_new_data/maroko_35-naso_6_40767_7.mp3\n"
     ]
    },
    {
     "name": "stderr",
     "output_type": "stream",
     "text": [
      "Loading maroko nusach (2/4):  88%|████████▊ | 2444/2766 [00:08<00:01, 288.42it/s]"
     ]
    },
    {
     "name": "stdout",
     "output_type": "stream",
     "text": [
      "the audio is not mp3 or the length is not legal:  audio_files_new_data/maroko_23-saw_2_30709_3.mp3\n",
      "the audio is not mp3 or the length is not legal:  audio_files_new_data/maroko_24-vayiqra_7_30514_1.mp3\n",
      "the audio is not mp3 or the length is not legal:  audio_files_new_data/maroko_13-shemot_4_20314_3.mp3\n",
      "the audio is not mp3 or the length is not legal:  audio_files_new_data/maroko_23-pequde_2_23917_4.mp3\n"
     ]
    },
    {
     "name": "stderr",
     "output_type": "stream",
     "text": [
      "Loading maroko nusach (2/4):  90%|█████████ | 2503/2766 [00:08<00:00, 270.29it/s]"
     ]
    },
    {
     "name": "stdout",
     "output_type": "stream",
     "text": [
      "the audio is not mp3 or the length is not legal:  audio_files_new_data/maroko_35-naso_6_40769_3.mp3\n",
      "the audio is not mp3 or the length is not legal:  audio_files_new_data/maroko_36-behalotecha_5_41030_3.mp3\n"
     ]
    },
    {
     "name": "stderr",
     "output_type": "stream",
     "text": [
      "Loading maroko nusach (2/4):  94%|█████████▍| 2598/2766 [00:08<00:00, 297.57it/s]"
     ]
    },
    {
     "name": "stdout",
     "output_type": "stream",
     "text": [
      "the audio is not mp3 or the length is not legal:  audio_files_new_data/maroko_36-behalotecha_5_41030_2.mp3\n",
      "the audio is not mp3 or the length is not legal:  audio_files_new_data/maroko_16-beshalach_5_21601_6.mp3\n",
      "the audio is not mp3 or the length is not legal:  audio_files_new_data/maroko_35-naso_4_40515_1.mp3\n",
      "the audio is not mp3 or the length is not legal:  audio_files_new_data/maroko_16-beshalach_5_21601_4.mp3\n"
     ]
    },
    {
     "name": "stderr",
     "output_type": "stream",
     "text": [
      "Loading maroko nusach (2/4):  96%|█████████▌| 2661/2766 [00:09<00:00, 299.10it/s]"
     ]
    },
    {
     "name": "stdout",
     "output_type": "stream",
     "text": [
      "the audio is not mp3 or the length is not legal:  audio_files_new_data/maroko_35-naso_6_40767_5.mp3\n",
      "the audio is not mp3 or the length is not legal:  audio_files_new_data/maroko_36-behalotecha_5_41030_1.mp3\n"
     ]
    },
    {
     "name": "stderr",
     "output_type": "stream",
     "text": [
      "Loading maroko nusach (2/4): 100%|██████████| 2766/2766 [00:09<00:00, 288.84it/s]\n"
     ]
    },
    {
     "name": "stdout",
     "output_type": "stream",
     "text": [
      "Num of missing files in maroko nusach:  62\n",
      "dict_keys(['text', 'maroko', 'yerushalmi', 'ashkenazi', 'bavly'])\n"
     ]
    },
    {
     "name": "stderr",
     "output_type": "stream",
     "text": [
      "Loading yerushalmi nusach (3/4):   1%|          | 30/2766 [00:00<00:09, 297.84it/s]"
     ]
    },
    {
     "name": "stdout",
     "output_type": "stream",
     "text": [
      "the audio is not mp3 or the length is not legal:  audio_files_new_data/yerushalmi_03-lech-lecha_7_11723_10.mp3\n"
     ]
    },
    {
     "name": "stderr",
     "output_type": "stream",
     "text": [
      "Loading yerushalmi nusach (3/4):   9%|▉         | 260/2766 [00:00<00:10, 236.49it/s]"
     ]
    },
    {
     "name": "stdout",
     "output_type": "stream",
     "text": [
      "the audio is not mp3 or the length is not legal:  audio_files_new_data/yerushalmi_36-behalotecha_5_41032_4.mp3\n",
      "the audio is not mp3 or the length is not legal:  audio_files_new_data/yerushalmi_14-vaera_6_20908_4.mp3\n",
      "the audio is not mp3 or the length is not legal:  audio_files_new_data/yerushalmi_36-behalotecha_2_40816_7.mp3\n"
     ]
    },
    {
     "name": "stderr",
     "output_type": "stream",
     "text": [
      "Loading yerushalmi nusach (3/4):  12%|█▏        | 335/2766 [00:01<00:10, 238.61it/s]"
     ]
    },
    {
     "name": "stdout",
     "output_type": "stream",
     "text": [
      "the audio is not mp3 or the length is not legal:  audio_files_new_data/yerushalmi_14-vaera_6_20911_3.mp3\n"
     ]
    },
    {
     "name": "stderr",
     "output_type": "stream",
     "text": [
      "Loading yerushalmi nusach (3/4):  16%|█▌        | 449/2766 [00:01<00:09, 246.15it/s]"
     ]
    },
    {
     "name": "stdout",
     "output_type": "stream",
     "text": [
      "the audio is not mp3 or the length is not legal:  audio_files_new_data/yerushalmi_36-behalotecha_5_41034_3.mp3\n",
      "the audio is not mp3 or the length is not legal:  audio_files_new_data/yerushalmi_36-behalotecha_5_41033_4.mp3\n"
     ]
    },
    {
     "name": "stderr",
     "output_type": "stream",
     "text": [
      "Loading yerushalmi nusach (3/4):  21%|██        | 585/2766 [00:02<00:08, 259.13it/s]"
     ]
    },
    {
     "name": "stdout",
     "output_type": "stream",
     "text": [
      "the audio is not mp3 or the length is not legal:  audio_files_new_data/yerushalmi_36-behalotecha_6_41118_7.mp3\n",
      "the audio is not mp3 or the length is not legal:  audio_files_new_data/yerushalmi_36-behalotecha_6_41120_4.mp3\n"
     ]
    },
    {
     "name": "stderr",
     "output_type": "stream",
     "text": [
      "Loading yerushalmi nusach (3/4):  28%|██▊       | 782/2766 [00:03<00:07, 261.65it/s]"
     ]
    },
    {
     "name": "stdout",
     "output_type": "stream",
     "text": [
      "the audio is not mp3 or the length is not legal:  audio_files_new_data/yerushalmi_18-mishpatim_3_22208_10.mp3\n",
      "the audio is not mp3 or the length is not legal:  audio_files_new_data/yerushalmi_36-behalotecha_6_41118_10.mp3\n",
      "the audio is not mp3 or the length is not legal:  audio_files_new_data/yerushalmi_14-vaera_6_20910_6.mp3\n",
      "the audio is not mp3 or the length is not legal:  audio_files_new_data/yerushalmi_14-vaera_6_20909_6.mp3\n"
     ]
    },
    {
     "name": "stderr",
     "output_type": "stream",
     "text": [
      "Loading yerushalmi nusach (3/4):  32%|███▏      | 894/2766 [00:03<00:06, 274.80it/s]"
     ]
    },
    {
     "name": "stdout",
     "output_type": "stream",
     "text": [
      "the audio is not mp3 or the length is not legal:  audio_files_new_data/yerushalmi_36-behalotecha_2_40819_10.mp3\n"
     ]
    },
    {
     "name": "stderr",
     "output_type": "stream",
     "text": [
      "Loading yerushalmi nusach (3/4):  35%|███▌      | 976/2766 [00:03<00:07, 255.24it/s]"
     ]
    },
    {
     "name": "stdout",
     "output_type": "stream",
     "text": [
      "the audio is not mp3 or the length is not legal:  audio_files_new_data/yerushalmi_14-vaera_6_20914_2.mp3\n"
     ]
    },
    {
     "name": "stderr",
     "output_type": "stream",
     "text": [
      "Loading yerushalmi nusach (3/4):  37%|███▋      | 1032/2766 [00:03<00:06, 260.72it/s]"
     ]
    },
    {
     "name": "stdout",
     "output_type": "stream",
     "text": [
      "the audio is not mp3 or the length is not legal:  audio_files_new_data/yerushalmi_14-vaera_6_20915_3.mp3\n",
      "the audio is not mp3 or the length is not legal:  audio_files_new_data/yerushalmi_36-behalotecha_5_41032_2.mp3\n",
      "the audio is not mp3 or the length is not legal:  audio_files_new_data/yerushalmi_36-behalotecha_5_41031_1.mp3\n"
     ]
    },
    {
     "name": "stderr",
     "output_type": "stream",
     "text": [
      "Loading yerushalmi nusach (3/4):  39%|███▉      | 1089/2766 [00:04<00:06, 269.76it/s]"
     ]
    },
    {
     "name": "stdout",
     "output_type": "stream",
     "text": [
      "the audio is not mp3 or the length is not legal:  audio_files_new_data/yerushalmi_36-behalotecha_5_41034_1.mp3\n"
     ]
    },
    {
     "name": "stderr",
     "output_type": "stream",
     "text": [
      "Loading yerushalmi nusach (3/4):  46%|████▌     | 1275/2766 [00:04<00:06, 240.87it/s]"
     ]
    },
    {
     "name": "stdout",
     "output_type": "stream",
     "text": [
      "the audio is not mp3 or the length is not legal:  audio_files_new_data/yerushalmi_36-behalotecha_6_41120_1.mp3\n",
      "the audio is not mp3 or the length is not legal:  audio_files_new_data/yerushalmi_13-shemot_5_20318_10.mp3\n",
      "the audio is not mp3 or the length is not legal:  audio_files_new_data/yerushalmi_36-behalotecha_6_41120_5.mp3\n"
     ]
    },
    {
     "name": "stderr",
     "output_type": "stream",
     "text": [
      "Loading yerushalmi nusach (3/4):  56%|█████▋    | 1556/2766 [00:06<00:04, 279.12it/s]"
     ]
    },
    {
     "name": "stdout",
     "output_type": "stream",
     "text": [
      "the audio is not mp3 or the length is not legal:  audio_files_new_data/yerushalmi_14-vaera_6_20912_3.mp3\n",
      "the audio is not mp3 or the length is not legal:  audio_files_new_data/yerushalmi_36-behalotecha_6_41119_3.mp3\n",
      "the audio is not mp3 or the length is not legal:  audio_files_new_data/yerushalmi_14-vaera_6_20914_8.mp3\n"
     ]
    },
    {
     "name": "stderr",
     "output_type": "stream",
     "text": [
      "Loading yerushalmi nusach (3/4):  59%|█████▉    | 1643/2766 [00:06<00:03, 283.91it/s]"
     ]
    },
    {
     "name": "stdout",
     "output_type": "stream",
     "text": [
      "the audio is not mp3 or the length is not legal:  audio_files_new_data/yerushalmi_14-vaera_6_20915_1.mp3\n",
      "the audio is not mp3 or the length is not legal:  audio_files_new_data/yerushalmi_14-vaera_6_20909_2.mp3\n"
     ]
    },
    {
     "name": "stderr",
     "output_type": "stream",
     "text": [
      "Loading yerushalmi nusach (3/4):  61%|██████▏   | 1700/2766 [00:06<00:04, 265.04it/s]"
     ]
    },
    {
     "name": "stdout",
     "output_type": "stream",
     "text": [
      "the audio is not mp3 or the length is not legal:  audio_files_new_data/yerushalmi_37-shelac-lecha_2_41332_10.mp3\n",
      "the audio is not mp3 or the length is not legal:  audio_files_new_data/yerushalmi_14-vaera_6_20911_1.mp3\n",
      "the audio is not mp3 or the length is not legal:  audio_files_new_data/yerushalmi_36-behalotecha_6_41119_1.mp3\n",
      "the audio is not mp3 or the length is not legal:  audio_files_new_data/yerushalmi_14-vaera_6_20913_3.mp3\n",
      "the audio is not mp3 or the length is not legal:  audio_files_new_data/yerushalmi_14-vaera_6_20914_1.mp3\n"
     ]
    },
    {
     "name": "stderr",
     "output_type": "stream",
     "text": [
      "Loading yerushalmi nusach (3/4):  66%|██████▋   | 1839/2766 [00:07<00:03, 268.91it/s]"
     ]
    },
    {
     "name": "stdout",
     "output_type": "stream",
     "text": [
      "the audio is not mp3 or the length is not legal:  audio_files_new_data/yerushalmi_14-vaera_6_20913_1.mp3\n"
     ]
    },
    {
     "name": "stderr",
     "output_type": "stream",
     "text": [
      "Loading yerushalmi nusach (3/4):  69%|██████▊   | 1900/2766 [00:07<00:03, 285.80it/s]"
     ]
    },
    {
     "name": "stdout",
     "output_type": "stream",
     "text": [
      "the audio is not mp3 or the length is not legal:  audio_files_new_data/yerushalmi_14-vaera_6_20909_3.mp3\n",
      "the audio is not mp3 or the length is not legal:  audio_files_new_data/yerushalmi_14-vaera_6_20908_5.mp3\n",
      "the audio is not mp3 or the length is not legal:  audio_files_new_data/yerushalmi_36-behalotecha_5_41032_5.mp3\n"
     ]
    },
    {
     "name": "stderr",
     "output_type": "stream",
     "text": [
      "Loading yerushalmi nusach (3/4):  71%|███████   | 1956/2766 [00:07<00:03, 267.53it/s]"
     ]
    },
    {
     "name": "stdout",
     "output_type": "stream",
     "text": [
      "the audio is not mp3 or the length is not legal:  audio_files_new_data/yerushalmi_36-behalotecha_6_41118_1.mp3\n",
      "the audio is not mp3 or the length is not legal:  audio_files_new_data/yerushalmi_14-vaera_6_20908_1.mp3\n",
      "the audio is not mp3 or the length is not legal:  audio_files_new_data/yerushalmi_14-vaera_6_20910_9.mp3\n",
      "the audio is not mp3 or the length is not legal:  audio_files_new_data/yerushalmi_14-vaera_6_20911_4.mp3\n"
     ]
    },
    {
     "name": "stderr",
     "output_type": "stream",
     "text": [
      "Loading yerushalmi nusach (3/4):  74%|███████▎  | 2038/2766 [00:07<00:02, 264.10it/s]"
     ]
    },
    {
     "name": "stdout",
     "output_type": "stream",
     "text": [
      "the audio is not mp3 or the length is not legal:  audio_files_new_data/yerushalmi_36-behalotecha_6_41120_2.mp3\n",
      "the audio is not mp3 or the length is not legal:  audio_files_new_data/yerushalmi_36-behalotecha_6_41119_2.mp3\n",
      "the audio is not mp3 or the length is not legal:  audio_files_new_data/yerushalmi_14-vaera_6_20910_1.mp3\n"
     ]
    },
    {
     "name": "stderr",
     "output_type": "stream",
     "text": [
      "Loading yerushalmi nusach (3/4):  80%|███████▉  | 2203/2766 [00:08<00:02, 254.72it/s]"
     ]
    },
    {
     "name": "stdout",
     "output_type": "stream",
     "text": [
      "the audio is not mp3 or the length is not legal:  audio_files_new_data/yerushalmi_14-vaera_6_20910_7.mp3\n",
      "the audio is not mp3 or the length is not legal:  audio_files_new_data/yerushalmi_13-shemot_4_20315_10.mp3\n",
      "the audio is not mp3 or the length is not legal:  audio_files_new_data/yerushalmi_36-behalotecha_5_41031_5.mp3\n"
     ]
    },
    {
     "name": "stderr",
     "output_type": "stream",
     "text": [
      "Loading yerushalmi nusach (3/4):  82%|████████▏ | 2256/2766 [00:08<00:02, 254.66it/s]"
     ]
    },
    {
     "name": "stdout",
     "output_type": "stream",
     "text": [
      "the audio is not mp3 or the length is not legal:  audio_files_new_data/yerushalmi_23-saw_2_30709_2.mp3\n",
      "the audio is not mp3 or the length is not legal:  audio_files_new_data/yerushalmi_36-behalotecha_5_41031_6.mp3\n",
      "the audio is not mp3 or the length is not legal:  audio_files_new_data/yerushalmi_14-vaera_6_20912_4.mp3\n"
     ]
    },
    {
     "name": "stderr",
     "output_type": "stream",
     "text": [
      "Loading yerushalmi nusach (3/4):  85%|████████▍ | 2341/2766 [00:08<00:01, 270.74it/s]"
     ]
    },
    {
     "name": "stdout",
     "output_type": "stream",
     "text": [
      "the audio is not mp3 or the length is not legal:  audio_files_new_data/yerushalmi_14-vaera_6_20909_4.mp3\n",
      "the audio is not mp3 or the length is not legal:  audio_files_new_data/yerushalmi_36-behalotecha_5_41029_7.mp3\n"
     ]
    },
    {
     "name": "stderr",
     "output_type": "stream",
     "text": [
      "Loading yerushalmi nusach (3/4):  88%|████████▊ | 2423/2766 [00:09<00:01, 249.78it/s]"
     ]
    },
    {
     "name": "stdout",
     "output_type": "stream",
     "text": [
      "the audio is not mp3 or the length is not legal:  audio_files_new_data/yerushalmi_36-behalotecha_6_41118_9.mp3\n",
      "the audio is not mp3 or the length is not legal:  audio_files_new_data/yerushalmi_23-saw_2_30709_3.mp3\n"
     ]
    },
    {
     "name": "stderr",
     "output_type": "stream",
     "text": [
      "Loading yerushalmi nusach (3/4):  93%|█████████▎| 2561/2766 [00:09<00:00, 267.02it/s]"
     ]
    },
    {
     "name": "stdout",
     "output_type": "stream",
     "text": [
      "the audio is not mp3 or the length is not legal:  audio_files_new_data/yerushalmi_36-behalotecha_5_41030_3.mp3\n",
      "the audio is not mp3 or the length is not legal:  audio_files_new_data/yerushalmi_36-behalotecha_5_41030_2.mp3\n",
      "the audio is not mp3 or the length is not legal:  audio_files_new_data/yerushalmi_14-vaera_6_20909_1.mp3\n",
      "the audio is not mp3 or the length is not legal:  audio_files_new_data/yerushalmi_14-vaera_6_20913_2.mp3\n"
     ]
    },
    {
     "name": "stderr",
     "output_type": "stream",
     "text": [
      "Loading yerushalmi nusach (3/4):  96%|█████████▌| 2650/2766 [00:10<00:00, 284.03it/s]"
     ]
    },
    {
     "name": "stdout",
     "output_type": "stream",
     "text": [
      "the audio is not mp3 or the length is not legal:  audio_files_new_data/yerushalmi_36-behalotecha_6_41118_2.mp3\n",
      "the audio is not mp3 or the length is not legal:  audio_files_new_data/yerushalmi_14-vaera_6_20913_5.mp3\n",
      "the audio is not mp3 or the length is not legal:  audio_files_new_data/yerushalmi_14-vaera_6_20915_4.mp3\n",
      "the audio is not mp3 or the length is not legal:  audio_files_new_data/yerushalmi_14-vaera_6_20914_4.mp3\n"
     ]
    },
    {
     "name": "stderr",
     "output_type": "stream",
     "text": [
      "Loading yerushalmi nusach (3/4):  99%|█████████▉| 2733/2766 [00:10<00:00, 258.35it/s]"
     ]
    },
    {
     "name": "stdout",
     "output_type": "stream",
     "text": [
      "the audio is not mp3 or the length is not legal:  audio_files_new_data/yerushalmi_36-behalotecha_5_41030_1.mp3\n",
      "the audio is not mp3 or the length is not legal:  audio_files_new_data/yerushalmi_14-vaera_6_20914_7.mp3\n"
     ]
    },
    {
     "name": "stderr",
     "output_type": "stream",
     "text": [
      "Loading yerushalmi nusach (3/4): 100%|██████████| 2766/2766 [00:10<00:00, 259.99it/s]\n"
     ]
    },
    {
     "name": "stdout",
     "output_type": "stream",
     "text": [
      "the audio is not mp3 or the length is not legal:  audio_files_new_data/yerushalmi_14-vaera_6_20915_2.mp3\n",
      "Num of missing files in yerushalmi nusach:  64\n",
      "dict_keys(['text', 'maroko', 'yerushalmi', 'ashkenazi', 'bavly'])\n"
     ]
    },
    {
     "name": "stderr",
     "output_type": "stream",
     "text": [
      "Loading bavly nusach (4/4):   1%|          | 29/2766 [00:00<00:09, 287.06it/s]"
     ]
    },
    {
     "name": "stdout",
     "output_type": "stream",
     "text": [
      "the audio is not mp3 or the length is not legal:  audio_files_new_data/bavly_24-vayiqra_7_30513_5.mp3\n"
     ]
    },
    {
     "name": "stderr",
     "output_type": "stream",
     "text": [
      "Loading bavly nusach (4/4):   4%|▍         | 121/2766 [00:00<00:09, 292.09it/s]"
     ]
    },
    {
     "name": "stdout",
     "output_type": "stream",
     "text": [
      "the audio is not mp3 or the length is not legal:  audio_files_new_data/bavly_07-vayese_2_12913_6.mp3\n",
      "the audio is not mp3 or the length is not legal:  audio_files_new_data/bavly_07-vayese_5_13041_3.mp3\n",
      "the audio is not mp3 or the length is not legal:  audio_files_new_data/bavly_35-naso_7_40774_2.mp3\n",
      "the audio is not mp3 or the length is not legal:  audio_files_new_data/bavly_07-vayese_5_13037_2.mp3\n"
     ]
    },
    {
     "name": "stderr",
     "output_type": "stream",
     "text": [
      "Loading bavly nusach (4/4):   8%|▊         | 208/2766 [00:00<00:09, 268.54it/s]"
     ]
    },
    {
     "name": "stdout",
     "output_type": "stream",
     "text": [
      "the audio is not mp3 or the length is not legal:  audio_files_new_data/bavly_20-tesawe_4_22904_2.mp3\n",
      "the audio is not mp3 or the length is not legal:  audio_files_new_data/bavly_07-vayese_2_12917_2.mp3\n",
      "the audio is not mp3 or the length is not legal:  audio_files_new_data/bavly_20-tesawe_4_22907_2.mp3\n",
      "the audio is not mp3 or the length is not legal:  audio_files_new_data/bavly_07-vayese_5_13037_6.mp3\n",
      "the audio is not mp3 or the length is not legal:  audio_files_new_data/bavly_07-vayese_3_12919_3.mp3\n",
      "the audio is not mp3 or the length is not legal:  audio_files_new_data/bavly_20-tesawe_4_22912_1.mp3\n"
     ]
    },
    {
     "name": "stderr",
     "output_type": "stream",
     "text": [
      "Loading bavly nusach (4/4):  11%|█         | 293/2766 [00:01<00:09, 267.83it/s]"
     ]
    },
    {
     "name": "stdout",
     "output_type": "stream",
     "text": [
      "the audio is not mp3 or the length is not legal:  audio_files_new_data/bavly_07-vayese_3_12923_4.mp3\n",
      "the audio is not mp3 or the length is not legal:  audio_files_new_data/bavly_14-vaera_6_20908_4.mp3\n",
      "the audio is not mp3 or the length is not legal:  audio_files_new_data/bavly_07-vayese_3_12919_1.mp3\n",
      "the audio is not mp3 or the length is not legal:  audio_files_new_data/bavly_07-vayese_3_12918_4.mp3\n",
      "the audio is not mp3 or the length is not legal:  audio_files_new_data/bavly_07-vayese_3_12924_3.mp3\n",
      "the audio is not mp3 or the length is not legal:  audio_files_new_data/bavly_07-vayese_2_12915_3.mp3\n",
      "the audio is not mp3 or the length is not legal:  audio_files_new_data/bavly_07-vayese_2_12914_4.mp3\n",
      "the audio is not mp3 or the length is not legal:  audio_files_new_data/bavly_14-vaera_6_20911_3.mp3\n"
     ]
    },
    {
     "name": "stderr",
     "output_type": "stream",
     "text": [
      "Loading bavly nusach (4/4):  14%|█▍        | 382/2766 [00:01<00:08, 281.28it/s]"
     ]
    },
    {
     "name": "stdout",
     "output_type": "stream",
     "text": [
      "the audio is not mp3 or the length is not legal:  audio_files_new_data/bavly_20-tesawe_4_22902_4.mp3\n",
      "the audio is not mp3 or the length is not legal:  audio_files_new_data/bavly_35-naso_7_40775_1.mp3\n",
      "the audio is not mp3 or the length is not legal:  audio_files_new_data/bavly_16-beshalach_5_21605_5.mp3\n"
     ]
    },
    {
     "name": "stderr",
     "output_type": "stream",
     "text": [
      "Loading bavly nusach (4/4):  16%|█▌        | 439/2766 [00:01<00:09, 255.22it/s]"
     ]
    },
    {
     "name": "stdout",
     "output_type": "stream",
     "text": [
      "the audio is not mp3 or the length is not legal:  audio_files_new_data/bavly_45-vaethanan_2_50423_4.mp3\n",
      "the audio is not mp3 or the length is not legal:  audio_files_new_data/bavly_37-shelac-lecha_1_41304_3.mp3\n",
      "the audio is not mp3 or the length is not legal:  audio_files_new_data/bavly_32-behar_1_32510_5.mp3\n",
      "the audio is not mp3 or the length is not legal:  audio_files_new_data/bavly_32-behar_1_32506_4.mp3\n"
     ]
    },
    {
     "name": "stderr",
     "output_type": "stream",
     "text": [
      "Loading bavly nusach (4/4):  20%|█▉        | 546/2766 [00:02<00:08, 248.53it/s]"
     ]
    },
    {
     "name": "stdout",
     "output_type": "stream",
     "text": [
      "the audio is not mp3 or the length is not legal:  audio_files_new_data/bavly_16-beshalach_5_21605_1.mp3\n",
      "the audio is not mp3 or the length is not legal:  audio_files_new_data/bavly_08-vayishlach_6_13617_7.mp3\n",
      "the audio is not mp3 or the length is not legal:  audio_files_new_data/bavly_20-tesawe_4_22913_4.mp3\n"
     ]
    },
    {
     "name": "stderr",
     "output_type": "stream",
     "text": [
      "Loading bavly nusach (4/4):  22%|██▏       | 602/2766 [00:02<00:08, 263.04it/s]"
     ]
    },
    {
     "name": "stdout",
     "output_type": "stream",
     "text": [
      "the audio is not mp3 or the length is not legal:  audio_files_new_data/bavly_20-tesawe_4_22903_4.mp3\n",
      "the audio is not mp3 or the length is not legal:  audio_files_new_data/bavly_07-vayese_5_13038_2.mp3\n",
      "the audio is not mp3 or the length is not legal:  audio_files_new_data/bavly_07-vayese_5_13035_5.mp3\n",
      "the audio is not mp3 or the length is not legal:  audio_files_new_data/bavly_32-behar_1_32508_1.mp3\n"
     ]
    },
    {
     "name": "stderr",
     "output_type": "stream",
     "text": [
      "Loading bavly nusach (4/4):  24%|██▎       | 655/2766 [00:02<00:08, 239.84it/s]"
     ]
    },
    {
     "name": "stdout",
     "output_type": "stream",
     "text": [
      "the audio is not mp3 or the length is not legal:  audio_files_new_data/bavly_08-vayishlach_6_13616_4.mp3\n",
      "the audio is not mp3 or the length is not legal:  audio_files_new_data/bavly_20-tesawe_4_22902_3.mp3\n"
     ]
    },
    {
     "name": "stderr",
     "output_type": "stream",
     "text": [
      "Loading bavly nusach (4/4):  26%|██▌       | 709/2766 [00:02<00:08, 251.85it/s]"
     ]
    },
    {
     "name": "stdout",
     "output_type": "stream",
     "text": [
      "the audio is not mp3 or the length is not legal:  audio_files_new_data/bavly_35-naso_7_40777_3.mp3\n",
      "the audio is not mp3 or the length is not legal:  audio_files_new_data/bavly_20-tesawe_4_22911_2.mp3\n",
      "the audio is not mp3 or the length is not legal:  audio_files_new_data/bavly_20-tesawe_4_22913_3.mp3\n"
     ]
    },
    {
     "name": "stderr",
     "output_type": "stream",
     "text": [
      "Loading bavly nusach (4/4):  29%|██▊       | 791/2766 [00:03<00:07, 262.43it/s]"
     ]
    },
    {
     "name": "stdout",
     "output_type": "stream",
     "text": [
      "the audio is not mp3 or the length is not legal:  audio_files_new_data/bavly_20-tesawe_4_22909_1.mp3\n",
      "the audio is not mp3 or the length is not legal:  audio_files_new_data/bavly_20-tesawe_4_22905_6.mp3\n",
      "the audio is not mp3 or the length is not legal:  audio_files_new_data/bavly_20-tesawe_4_22912_4.mp3\n",
      "the audio is not mp3 or the length is not legal:  audio_files_new_data/bavly_32-behar_1_32508_2.mp3\n",
      "the audio is not mp3 or the length is not legal:  audio_files_new_data/bavly_14-vaera_6_20910_6.mp3\n"
     ]
    },
    {
     "name": "stderr",
     "output_type": "stream",
     "text": [
      "Loading bavly nusach (4/4):  31%|███       | 848/2766 [00:03<00:07, 271.71it/s]"
     ]
    },
    {
     "name": "stdout",
     "output_type": "stream",
     "text": [
      "the audio is not mp3 or the length is not legal:  audio_files_new_data/bavly_14-vaera_6_20909_6.mp3\n",
      "the audio is not mp3 or the length is not legal:  audio_files_new_data/bavly_07-vayese_5_13040_2.mp3\n",
      "the audio is not mp3 or the length is not legal:  audio_files_new_data/bavly_07-vayese_3_12923_1.mp3\n",
      "the audio is not mp3 or the length is not legal:  audio_files_new_data/bavly_20-tesawe_4_22905_2.mp3\n"
     ]
    },
    {
     "name": "stderr",
     "output_type": "stream",
     "text": [
      "Loading bavly nusach (4/4):  33%|███▎      | 903/2766 [00:03<00:07, 243.18it/s]"
     ]
    },
    {
     "name": "stdout",
     "output_type": "stream",
     "text": [
      "the audio is not mp3 or the length is not legal:  audio_files_new_data/bavly_07-vayese_3_12921_1.mp3\n"
     ]
    },
    {
     "name": "stderr",
     "output_type": "stream",
     "text": [
      "Loading bavly nusach (4/4):  35%|███▍      | 959/2766 [00:03<00:06, 258.68it/s]"
     ]
    },
    {
     "name": "stdout",
     "output_type": "stream",
     "text": [
      "the audio is not mp3 or the length is not legal:  audio_files_new_data/bavly_14-vaera_6_20914_2.mp3\n",
      "the audio is not mp3 or the length is not legal:  audio_files_new_data/bavly_20-tesawe_4_22904_1.mp3\n",
      "the audio is not mp3 or the length is not legal:  audio_files_new_data/bavly_20-tesawe_4_22913_2.mp3\n"
     ]
    },
    {
     "name": "stderr",
     "output_type": "stream",
     "text": [
      "Loading bavly nusach (4/4):  38%|███▊      | 1039/2766 [00:04<00:06, 253.72it/s]"
     ]
    },
    {
     "name": "stdout",
     "output_type": "stream",
     "text": [
      "the audio is not mp3 or the length is not legal:  audio_files_new_data/bavly_14-vaera_6_20915_3.mp3\n",
      "the audio is not mp3 or the length is not legal:  audio_files_new_data/bavly_20-tesawe_4_22903_1.mp3\n",
      "the audio is not mp3 or the length is not legal:  audio_files_new_data/bavly_07-vayese_2_12913_7.mp3\n"
     ]
    },
    {
     "name": "stderr",
     "output_type": "stream",
     "text": [
      "Loading bavly nusach (4/4):  40%|███▉      | 1103/2766 [00:04<00:06, 272.30it/s]"
     ]
    },
    {
     "name": "stdout",
     "output_type": "stream",
     "text": [
      "the audio is not mp3 or the length is not legal:  audio_files_new_data/bavly_20-tesawe_4_22907_1.mp3\n",
      "the audio is not mp3 or the length is not legal:  audio_files_new_data/bavly_39-huqat_1_41902_10.mp3\n",
      "the audio is not mp3 or the length is not legal:  audio_files_new_data/bavly_32-behar_1_32508_6.mp3\n"
     ]
    },
    {
     "name": "stderr",
     "output_type": "stream",
     "text": [
      "Loading bavly nusach (4/4):  42%|████▏     | 1158/2766 [00:04<00:06, 255.07it/s]"
     ]
    },
    {
     "name": "stdout",
     "output_type": "stream",
     "text": [
      "the audio is not mp3 or the length is not legal:  audio_files_new_data/bavly_35-naso_7_40773_2.mp3\n",
      "the audio is not mp3 or the length is not legal:  audio_files_new_data/bavly_07-vayese_5_13036_5.mp3\n",
      "the audio is not mp3 or the length is not legal:  audio_files_new_data/bavly_05-haye-sara_5_12460_5.mp3\n"
     ]
    },
    {
     "name": "stderr",
     "output_type": "stream",
     "text": [
      "Loading bavly nusach (4/4):  45%|████▍     | 1244/2766 [00:04<00:05, 272.95it/s]"
     ]
    },
    {
     "name": "stdout",
     "output_type": "stream",
     "text": [
      "the audio is not mp3 or the length is not legal:  audio_files_new_data/bavly_20-tesawe_4_22913_1.mp3\n",
      "the audio is not mp3 or the length is not legal:  audio_files_new_data/bavly_06-toledot_5_12727_7.mp3\n",
      "the audio is not mp3 or the length is not legal:  audio_files_new_data/bavly_07-vayese_3_12924_2.mp3\n",
      "the audio is not mp3 or the length is not legal:  audio_files_new_data/bavly_13-shemot_5_20318_10.mp3\n",
      "the audio is not mp3 or the length is not legal:  audio_files_new_data/bavly_07-vayese_5_13040_5.mp3\n"
     ]
    },
    {
     "name": "stderr",
     "output_type": "stream",
     "text": [
      "Loading bavly nusach (4/4):  48%|████▊     | 1329/2766 [00:05<00:05, 271.20it/s]"
     ]
    },
    {
     "name": "stdout",
     "output_type": "stream",
     "text": [
      "the audio is not mp3 or the length is not legal:  audio_files_new_data/bavly_07-vayese_5_13043_2.mp3\n",
      "the audio is not mp3 or the length is not legal:  audio_files_new_data/bavly_07-vayese_3_12922_1.mp3\n",
      "the audio is not mp3 or the length is not legal:  audio_files_new_data/bavly_32-behar_1_32510_4.mp3\n",
      "the audio is not mp3 or the length is not legal:  audio_files_new_data/bavly_32-behar_1_32507_3.mp3\n",
      "the audio is not mp3 or the length is not legal:  audio_files_new_data/bavly_32-behar_1_32506_3.mp3\n"
     ]
    },
    {
     "name": "stderr",
     "output_type": "stream",
     "text": [
      "Loading bavly nusach (4/4):  50%|█████     | 1385/2766 [00:05<00:05, 259.83it/s]"
     ]
    },
    {
     "name": "stdout",
     "output_type": "stream",
     "text": [
      "the audio is not mp3 or the length is not legal:  audio_files_new_data/bavly_35-naso_7_40773_7.mp3\n"
     ]
    },
    {
     "name": "stderr",
     "output_type": "stream",
     "text": [
      "Loading bavly nusach (4/4):  53%|█████▎    | 1467/2766 [00:05<00:05, 259.48it/s]"
     ]
    },
    {
     "name": "stdout",
     "output_type": "stream",
     "text": [
      "the audio is not mp3 or the length is not legal:  audio_files_new_data/bavly_07-vayese_2_12913_8.mp3\n",
      "the audio is not mp3 or the length is not legal:  audio_files_new_data/bavly_32-behar_1_32508_3.mp3\n",
      "the audio is not mp3 or the length is not legal:  audio_files_new_data/bavly_35-naso_7_40775_2.mp3\n"
     ]
    },
    {
     "name": "stderr",
     "output_type": "stream",
     "text": [
      "Loading bavly nusach (4/4):  55%|█████▌    | 1522/2766 [00:05<00:04, 255.12it/s]"
     ]
    },
    {
     "name": "stdout",
     "output_type": "stream",
     "text": [
      "the audio is not mp3 or the length is not legal:  audio_files_new_data/bavly_32-behar_1_32510_6.mp3\n",
      "the audio is not mp3 or the length is not legal:  audio_files_new_data/bavly_14-vaera_6_20912_3.mp3\n",
      "the audio is not mp3 or the length is not legal:  audio_files_new_data/bavly_07-vayese_5_13038_4.mp3\n"
     ]
    },
    {
     "name": "stderr",
     "output_type": "stream",
     "text": [
      "Loading bavly nusach (4/4):  57%|█████▋    | 1580/2766 [00:06<00:04, 268.93it/s]"
     ]
    },
    {
     "name": "stdout",
     "output_type": "stream",
     "text": [
      "the audio is not mp3 or the length is not legal:  audio_files_new_data/bavly_14-vaera_6_20914_8.mp3\n",
      "the audio is not mp3 or the length is not legal:  audio_files_new_data/bavly_07-vayese_5_13037_5.mp3\n",
      "the audio is not mp3 or the length is not legal:  audio_files_new_data/bavly_32-behar_1_32507_1.mp3\n",
      "the audio is not mp3 or the length is not legal:  audio_files_new_data/bavly_20-tesawe_4_22912_2.mp3\n",
      "the audio is not mp3 or the length is not legal:  audio_files_new_data/bavly_07-vayese_5_13040_3.mp3\n",
      "the audio is not mp3 or the length is not legal:  audio_files_new_data/bavly_14-vaera_6_20915_1.mp3\n"
     ]
    },
    {
     "name": "stderr",
     "output_type": "stream",
     "text": [
      "Loading bavly nusach (4/4):  60%|██████    | 1664/2766 [00:06<00:04, 257.15it/s]"
     ]
    },
    {
     "name": "stdout",
     "output_type": "stream",
     "text": [
      "the audio is not mp3 or the length is not legal:  audio_files_new_data/bavly_35-naso_6_40767_4.mp3\n",
      "the audio is not mp3 or the length is not legal:  audio_files_new_data/bavly_35-naso_6_40767_6.mp3\n",
      "the audio is not mp3 or the length is not legal:  audio_files_new_data/bavly_14-vaera_6_20909_2.mp3\n",
      "the audio is not mp3 or the length is not legal:  audio_files_new_data/bavly_14-vaera_6_20911_1.mp3\n"
     ]
    },
    {
     "name": "stderr",
     "output_type": "stream",
     "text": [
      "Loading bavly nusach (4/4):  63%|██████▎   | 1751/2766 [00:06<00:03, 276.26it/s]"
     ]
    },
    {
     "name": "stdout",
     "output_type": "stream",
     "text": [
      "the audio is not mp3 or the length is not legal:  audio_files_new_data/bavly_14-vaera_6_20913_3.mp3\n",
      "the audio is not mp3 or the length is not legal:  audio_files_new_data/bavly_14-vaera_6_20914_1.mp3\n",
      "the audio is not mp3 or the length is not legal:  audio_files_new_data/bavly_32-behar_1_32509_2.mp3\n",
      "the audio is not mp3 or the length is not legal:  audio_files_new_data/bavly_07-vayese_2_12913_3.mp3\n",
      "the audio is not mp3 or the length is not legal:  audio_files_new_data/bavly_07-vayese_2_12913_2.mp3\n"
     ]
    },
    {
     "name": "stderr",
     "output_type": "stream",
     "text": [
      "Loading bavly nusach (4/4):  65%|██████▌   | 1810/2766 [00:06<00:03, 271.47it/s]"
     ]
    },
    {
     "name": "stdout",
     "output_type": "stream",
     "text": [
      "the audio is not mp3 or the length is not legal:  audio_files_new_data/bavly_05-haye-sara_5_12454_5.mp3\n",
      "the audio is not mp3 or the length is not legal:  audio_files_new_data/bavly_35-naso_6_40769_4.mp3\n",
      "the audio is not mp3 or the length is not legal:  audio_files_new_data/bavly_14-vaera_6_20913_1.mp3\n",
      "the audio is not mp3 or the length is not legal:  audio_files_new_data/bavly_35-naso_3_40508_7.mp3\n",
      "the audio is not mp3 or the length is not legal:  audio_files_new_data/bavly_07-vayese_5_13042_2.mp3\n",
      "the audio is not mp3 or the length is not legal:  audio_files_new_data/bavly_09-vayeshev_3_13724_4.mp3\n"
     ]
    },
    {
     "name": "stderr",
     "output_type": "stream",
     "text": [
      "Loading bavly nusach (4/4):  68%|██████▊   | 1868/2766 [00:07<00:03, 279.65it/s]"
     ]
    },
    {
     "name": "stdout",
     "output_type": "stream",
     "text": [
      "the audio is not mp3 or the length is not legal:  audio_files_new_data/bavly_35-naso_7_40774_1.mp3\n",
      "the audio is not mp3 or the length is not legal:  audio_files_new_data/bavly_45-vaethanan_2_50419_10.mp3\n",
      "the audio is not mp3 or the length is not legal:  audio_files_new_data/bavly_07-vayese_5_13035_4.mp3\n",
      "the audio is not mp3 or the length is not legal:  audio_files_new_data/bavly_14-vaera_6_20909_3.mp3\n",
      "the audio is not mp3 or the length is not legal:  audio_files_new_data/bavly_14-vaera_6_20908_5.mp3\n"
     ]
    },
    {
     "name": "stderr",
     "output_type": "stream",
     "text": [
      "Loading bavly nusach (4/4):  72%|███████▏  | 1982/2766 [00:07<00:02, 264.94it/s]"
     ]
    },
    {
     "name": "stdout",
     "output_type": "stream",
     "text": [
      "the audio is not mp3 or the length is not legal:  audio_files_new_data/bavly_35-naso_6_40765_2.mp3\n",
      "the audio is not mp3 or the length is not legal:  audio_files_new_data/bavly_14-vaera_6_20908_1.mp3\n",
      "the audio is not mp3 or the length is not legal:  audio_files_new_data/bavly_14-vaera_6_20910_9.mp3\n",
      "the audio is not mp3 or the length is not legal:  audio_files_new_data/bavly_14-vaera_6_20911_4.mp3\n",
      "the audio is not mp3 or the length is not legal:  audio_files_new_data/bavly_07-vayese_2_12914_3.mp3\n",
      "the audio is not mp3 or the length is not legal:  audio_files_new_data/bavly_07-vayese_5_13033_6.mp3\n"
     ]
    },
    {
     "name": "stderr",
     "output_type": "stream",
     "text": [
      "Loading bavly nusach (4/4):  75%|███████▍  | 2067/2766 [00:07<00:02, 270.86it/s]"
     ]
    },
    {
     "name": "stdout",
     "output_type": "stream",
     "text": [
      "the audio is not mp3 or the length is not legal:  audio_files_new_data/bavly_14-vaera_4_20711_2.mp3\n",
      "the audio is not mp3 or the length is not legal:  audio_files_new_data/bavly_07-vayese_3_12924_1.mp3\n",
      "the audio is not mp3 or the length is not legal:  audio_files_new_data/bavly_35-naso_7_40775_3.mp3\n",
      "the audio is not mp3 or the length is not legal:  audio_files_new_data/bavly_14-vaera_6_20910_1.mp3\n",
      "the audio is not mp3 or the length is not legal:  audio_files_new_data/bavly_07-vayese_5_13039_1.mp3\n",
      "the audio is not mp3 or the length is not legal:  audio_files_new_data/bavly_07-vayese_5_13036_1.mp3\n",
      "the audio is not mp3 or the length is not legal:  audio_files_new_data/bavly_07-vayese_5_13038_1.mp3\n"
     ]
    },
    {
     "name": "stderr",
     "output_type": "stream",
     "text": [
      "Loading bavly nusach (4/4):  76%|███████▌  | 2095/2766 [00:07<00:02, 268.82it/s]"
     ]
    },
    {
     "name": "stdout",
     "output_type": "stream",
     "text": [
      "the audio is not mp3 or the length is not legal:  audio_files_new_data/bavly_07-vayese_5_13035_3.mp3\n",
      "the audio is not mp3 or the length is not legal:  audio_files_new_data/bavly_07-vayese_5_13035_7.mp3\n"
     ]
    },
    {
     "name": "stderr",
     "output_type": "stream",
     "text": [
      "Loading bavly nusach (4/4):  79%|███████▊  | 2178/2766 [00:08<00:02, 260.33it/s]"
     ]
    },
    {
     "name": "stdout",
     "output_type": "stream",
     "text": [
      "the audio is not mp3 or the length is not legal:  audio_files_new_data/bavly_20-tesawe_4_22909_2.mp3\n",
      "the audio is not mp3 or the length is not legal:  audio_files_new_data/bavly_20-tesawe_4_22909_7.mp3\n",
      "the audio is not mp3 or the length is not legal:  audio_files_new_data/bavly_14-vaera_6_20910_7.mp3\n",
      "the audio is not mp3 or the length is not legal:  audio_files_new_data/bavly_07-vayese_5_13033_5.mp3\n",
      "the audio is not mp3 or the length is not legal:  audio_files_new_data/bavly_13-shemot_4_20315_10.mp3\n"
     ]
    },
    {
     "name": "stderr",
     "output_type": "stream",
     "text": [
      "Loading bavly nusach (4/4):  82%|████████▏ | 2262/2766 [00:08<00:01, 268.97it/s]"
     ]
    },
    {
     "name": "stdout",
     "output_type": "stream",
     "text": [
      "the audio is not mp3 or the length is not legal:  audio_files_new_data/bavly_07-vayese_5_13043_1.mp3\n",
      "the audio is not mp3 or the length is not legal:  audio_files_new_data/bavly_23-saw_2_30709_2.mp3\n",
      "the audio is not mp3 or the length is not legal:  audio_files_new_data/bavly_07-vayese_3_12920_3.mp3\n",
      "the audio is not mp3 or the length is not legal:  audio_files_new_data/bavly_07-vayese_5_13038_3.mp3\n",
      "the audio is not mp3 or the length is not legal:  audio_files_new_data/bavly_14-vaera_6_20912_4.mp3\n"
     ]
    },
    {
     "name": "stderr",
     "output_type": "stream",
     "text": [
      "Loading bavly nusach (4/4):  84%|████████▍ | 2317/2766 [00:08<00:01, 265.34it/s]"
     ]
    },
    {
     "name": "stdout",
     "output_type": "stream",
     "text": [
      "the audio is not mp3 or the length is not legal:  audio_files_new_data/bavly_14-vaera_6_20909_4.mp3\n",
      "the audio is not mp3 or the length is not legal:  audio_files_new_data/bavly_20-tesawe_4_22905_5.mp3\n",
      "the audio is not mp3 or the length is not legal:  audio_files_new_data/bavly_07-vayese_2_12912_3.mp3\n"
     ]
    },
    {
     "name": "stderr",
     "output_type": "stream",
     "text": [
      "Loading bavly nusach (4/4):  86%|████████▌ | 2371/2766 [00:09<00:01, 244.53it/s]"
     ]
    },
    {
     "name": "stdout",
     "output_type": "stream",
     "text": [
      "the audio is not mp3 or the length is not legal:  audio_files_new_data/bavly_32-behar_1_32509_3.mp3\n",
      "the audio is not mp3 or the length is not legal:  audio_files_new_data/bavly_35-naso_6_40767_7.mp3\n",
      "the audio is not mp3 or the length is not legal:  audio_files_new_data/bavly_32-behar_1_32508_7.mp3\n",
      "the audio is not mp3 or the length is not legal:  audio_files_new_data/bavly_40-balak_3_42223_7.mp3\n",
      "the audio is not mp3 or the length is not legal:  audio_files_new_data/bavly_20-tesawe_4_22905_3.mp3\n",
      "the audio is not mp3 or the length is not legal:  audio_files_new_data/bavly_51-nisavim_5_53009_10.mp3\n"
     ]
    },
    {
     "name": "stderr",
     "output_type": "stream",
     "text": [
      "Loading bavly nusach (4/4):  89%|████████▊ | 2451/2766 [00:09<00:01, 257.14it/s]"
     ]
    },
    {
     "name": "stdout",
     "output_type": "stream",
     "text": [
      "the audio is not mp3 or the length is not legal:  audio_files_new_data/bavly_20-tesawe_4_22904_3.mp3\n",
      "the audio is not mp3 or the length is not legal:  audio_files_new_data/bavly_23-saw_2_30709_3.mp3\n"
     ]
    },
    {
     "name": "stderr",
     "output_type": "stream",
     "text": [
      "Loading bavly nusach (4/4):  91%|█████████ | 2509/2766 [00:09<00:00, 270.49it/s]"
     ]
    },
    {
     "name": "stdout",
     "output_type": "stream",
     "text": [
      "the audio is not mp3 or the length is not legal:  audio_files_new_data/bavly_35-naso_6_40769_3.mp3\n",
      "the audio is not mp3 or the length is not legal:  audio_files_new_data/bavly_07-vayese_2_12913_9.mp3\n"
     ]
    },
    {
     "name": "stderr",
     "output_type": "stream",
     "text": [
      "Loading bavly nusach (4/4):  93%|█████████▎| 2567/2766 [00:09<00:00, 265.72it/s]"
     ]
    },
    {
     "name": "stdout",
     "output_type": "stream",
     "text": [
      "the audio is not mp3 or the length is not legal:  audio_files_new_data/bavly_07-vayese_3_12920_1.mp3\n",
      "the audio is not mp3 or the length is not legal:  audio_files_new_data/bavly_14-vaera_6_20909_1.mp3\n",
      "the audio is not mp3 or the length is not legal:  audio_files_new_data/bavly_07-vayese_5_13042_3.mp3\n",
      "the audio is not mp3 or the length is not legal:  audio_files_new_data/bavly_20-tesawe_4_22903_3.mp3\n",
      "the audio is not mp3 or the length is not legal:  audio_files_new_data/bavly_14-vaera_6_20913_2.mp3\n",
      "the audio is not mp3 or the length is not legal:  audio_files_new_data/bavly_14-vaera_4_20711_3.mp3\n",
      "the audio is not mp3 or the length is not legal:  audio_files_new_data/bavly_07-vayese_3_12918_1.mp3\n"
     ]
    },
    {
     "name": "stderr",
     "output_type": "stream",
     "text": [
      "Loading bavly nusach (4/4):  95%|█████████▍| 2621/2766 [00:10<00:00, 246.21it/s]"
     ]
    },
    {
     "name": "stdout",
     "output_type": "stream",
     "text": [
      "the audio is not mp3 or the length is not legal:  audio_files_new_data/bavly_07-vayese_5_13041_1.mp3\n",
      "the audio is not mp3 or the length is not legal:  audio_files_new_data/bavly_35-naso_6_40767_5.mp3\n",
      "the audio is not mp3 or the length is not legal:  audio_files_new_data/bavly_14-vaera_6_20913_5.mp3\n",
      "the audio is not mp3 or the length is not legal:  audio_files_new_data/bavly_14-vaera_6_20915_4.mp3\n",
      "the audio is not mp3 or the length is not legal:  audio_files_new_data/bavly_14-vaera_6_20914_4.mp3\n",
      "the audio is not mp3 or the length is not legal:  audio_files_new_data/bavly_07-vayese_5_13041_5.mp3\n"
     ]
    },
    {
     "name": "stderr",
     "output_type": "stream",
     "text": [
      "Loading bavly nusach (4/4):  97%|█████████▋| 2677/2766 [00:10<00:00, 261.41it/s]"
     ]
    },
    {
     "name": "stdout",
     "output_type": "stream",
     "text": [
      "the audio is not mp3 or the length is not legal:  audio_files_new_data/bavly_07-vayese_3_12920_2.mp3\n",
      "the audio is not mp3 or the length is not legal:  audio_files_new_data/bavly_07-vayese_5_13037_3.mp3\n",
      "the audio is not mp3 or the length is not legal:  audio_files_new_data/bavly_07-vayese_2_12914_1.mp3\n"
     ]
    },
    {
     "name": "stderr",
     "output_type": "stream",
     "text": [
      "Loading bavly nusach (4/4): 100%|██████████| 2766/2766 [00:10<00:00, 260.30it/s]\n"
     ]
    },
    {
     "name": "stdout",
     "output_type": "stream",
     "text": [
      "the audio is not mp3 or the length is not legal:  audio_files_new_data/bavly_14-vaera_6_20914_7.mp3\n",
      "the audio is not mp3 or the length is not legal:  audio_files_new_data/bavly_14-vaera_6_20915_2.mp3\n",
      "Num of missing files in bavly nusach:  159\n"
     ]
    },
    {
     "name": "stderr",
     "output_type": "stream",
     "text": [
      "100%|██████████| 21/21 [00:03<00:00,  5.27it/s]"
     ]
    },
    {
     "name": "stdout",
     "output_type": "stream",
     "text": [
      "success_count:  21\n",
      "fail_count:  0\n",
      "diff_list:  []\n",
      "3055\n"
     ]
    },
    {
     "name": "stderr",
     "output_type": "stream",
     "text": [
      "\n"
     ]
    }
   ],
   "source": [
    "if COMBINE_DATA:\n",
    "    val_data1 = parashat_hashavua_dataset(new_data = True, few_data=FASTTEST, train=False ,validation=True,  num_of_words_in_sample=4, nusachim=NUSACHIM, processor=processor)\n",
    "    val_data2 = parashat_hashavua_dataset(new_data = False, train=False ,validation=True, num_of_words_in_sample=13, random=RANDOM, processor=processor)\n",
    "    val_data = ConcatDataset([val_data1, val_data2])\n",
    "    \n",
    "else:\n",
    "    if NEWDATA == \"other\":\n",
    "        val_data = parashat_hashavua_dataset(new_data = NEWDATA, few_data=FASTTEST, train=False ,validation=True,  num_of_words_in_sample=1, nusachim=NUSACHIM, processor=processor)\n",
    "    elif NEWDATA:\n",
    "        val_data = parashat_hashavua_dataset(new_data = True, few_data=FASTTEST, train=False ,validation=True,  num_of_words_in_sample=4, nusachim=NUSACHIM, processor=processor)\n",
    "    else:\n",
    "        val_data = parashat_hashavua_dataset(new_data = False, train=False ,validation=True, num_of_words_in_sample=13, random=RANDOM, processor=processor)\n",
    "    \n",
    "\n",
    "print(len(val_data))"
   ]
  },
  {
   "cell_type": "code",
   "execution_count": 13,
   "metadata": {},
   "outputs": [
    {
     "name": "stdout",
     "output_type": "stream",
     "text": [
      "train new data length:  85010\n",
      "train old data length:  69820\n",
      "val new data length:  2692\n",
      "val old data length:  363\n"
     ]
    }
   ],
   "source": [
    "print(\"train new data length: \", len(train_data1))\n",
    "print(\"train old data length: \", len(train_data2))\n",
    "\n",
    "print(\"val new data length: \", len(val_data1))\n",
    "print(\"val old data length: \", len(val_data2))"
   ]
  },
  {
   "cell_type": "code",
   "execution_count": 14,
   "metadata": {},
   "outputs": [],
   "source": [
    "from dataclasses import dataclass\n",
    "from typing import Any, Dict, List, Union\n",
    "\n",
    "@dataclass\n",
    "class DataCollatorSpeechSeq2SeqWithPadding:\n",
    "    processor: Any\n",
    "\n",
    "    def __call__(self, features: List[Dict[str, Union[List[int], torch.Tensor]]]) -> Dict[str, torch.Tensor]:\n",
    "        # split inputs and labels since they have to be of different lengths and need different padding methods\n",
    "        # first treat the audio inputs by simply returning torch tensors\n",
    "        input_features = [{\"input_features\": feature[\"input_features\"]} for feature in features]\n",
    "        batch = self.processor.feature_extractor.pad(input_features, return_tensors=\"pt\")\n",
    "\n",
    "        # get the tokenized label sequences\n",
    "        label_features = [{\"input_ids\": feature[\"labels\"]} for feature in features]\n",
    "        # pad the labels to max length\n",
    "        labels_batch = self.processor.tokenizer.pad(label_features, return_tensors=\"pt\")\n",
    "\n",
    "        # replace padding with -100 to ignore loss correctly\n",
    "        labels = labels_batch[\"input_ids\"].masked_fill(labels_batch.attention_mask.ne(1), -100)\n",
    "\n",
    "        # if bos token is appended in previous tokenization step,\n",
    "        # cut bos token here as it's append later anyways\n",
    "        if (labels[:, 0] == self.processor.tokenizer.bos_token_id).all().cpu().item():\n",
    "            labels = labels[:, 1:]\n",
    "\n",
    "        batch[\"labels\"] = labels\n",
    "\n",
    "        return batch"
   ]
  },
  {
   "cell_type": "code",
   "execution_count": 15,
   "metadata": {
    "id": "Rjgjvgy5AlkD"
   },
   "outputs": [],
   "source": [
    "data_collator = DataCollatorSpeechSeq2SeqWithPadding(processor=processor)"
   ]
  },
  {
   "cell_type": "code",
   "execution_count": 16,
   "metadata": {},
   "outputs": [],
   "source": [
    "import concurrent.futures\n",
    "import evaluate\n",
    "import time\n",
    "import cantilLocations_evaluation\n",
    "\n",
    "\n",
    "# # possible metrics : \"wer\", \"cer\", \"bleu\", \"rouge\", \"sacrebleu\", \"sari\":\n",
    "# # 1. `wer`: Word Error Rate.\n",
    "# # 2. `cer`: Character Error Rate.\n",
    "# # 3. `bleu`: Bilingual Evaluation Understudy.\n",
    "# # 4. `rouge`: Recall-Oriented Understudy for Gisting Evaluation.\n",
    "# # 5. `sacrebleu`: A standardized BLEU score implementation for more consistent machine translation evaluation.\n",
    "# # 6. `sari`: System Agnostic Refinement Index. \n",
    "\n",
    "WER_CALCULATOR = evaluate.load(\"wer\")\n",
    "def compute_metrics(pred):\n",
    "    eval_list = cantilLocations_evaluation.calculate_precision_recall_f1_for_string_list_with_method_list\n",
    "    pred_ids = pred.predictions\n",
    "    label_ids = pred.label_ids\n",
    "    \n",
    "    # method to calculate the metrics(method can be \"Exact\", \"Letter_Shift\", \"Word_Level\", \"Word_Shift\")\n",
    "    methods = [\"Exact\", \"Letter_Shift\", \"Word_Level\", \"Word_Shift\"]\n",
    "\n",
    "    # replace -100 with the pad_token_id\n",
    "    label_ids[label_ids == -100] = processor.tokenizer.pad_token_id\n",
    "    \n",
    "    start_time = time.time()\n",
    "    \n",
    "    # we do not want to group tokens when computing the metrics\n",
    "    pred_str = processor.tokenizer.batch_decode(pred_ids, skip_special_tokens=True)\n",
    "    label_str = processor.tokenizer.batch_decode(label_ids, skip_special_tokens=True)\n",
    "    \n",
    "    decode_time = time.time() - start_time\n",
    "    \n",
    "    # evaluate the metrics\n",
    "    results = eval_list(pred_str, label_str, methods)\n",
    "    \n",
    "    \n",
    "    \n",
    "    # compute the average of each metric\n",
    "    avg = {}\n",
    "    for i in range(4):\n",
    "        avg[\"avg_precision_\" + methods[i]] = np.mean(results[i][0])\n",
    "        avg[\"avg_recall_\" + methods[i]] = np.mean(results[i][1])\n",
    "        avg[\"avg_f1_\" + methods[i]] = np.mean(results[i][2])\n",
    "    \n",
    "    precision_list_exact = results[methods.index(\"Exact\")][0]\n",
    "    recall_list_exact = results[methods.index(\"Exact\")][1]\n",
    "    f1_list_exact = results[methods.index(\"Exact\")][2]\n",
    "    \n",
    "    # compute the median\n",
    "    precision_median_exact = np.median(precision_list_exact)\n",
    "    recall_median_exact = np.median(recall_list_exact)\n",
    "    f1_median_exact = np.median(f1_list_exact)\n",
    "    \n",
    "    \n",
    "    # max and min:\n",
    "    precision_max_exact = np.max(precision_list_exact)\n",
    "    recall_max_exact = np.max(recall_list_exact)\n",
    "    f1_max_exact = np.max(f1_list_exact)\n",
    "    best_index = np.argmax(f1_list_exact)\n",
    "    \n",
    "    f1_min = [0, 0, 0, 0]\n",
    "    recall_min = [0, 0, 0, 0]\n",
    "    precision_min = [0, 0, 0, 0]\n",
    "    \n",
    "    for i in range(4):\n",
    "        precision_min[i] = np.min(results[i][0])\n",
    "        recall_min[i] = np.min(results[i][1])\n",
    "        f1_min[i] = np.min(results[i][2])\n",
    "    \n",
    "    worst_index = [np.argmin(results[i][2]) for i in range(4)] \n",
    "    \n",
    "    \n",
    "    \n",
    "    start_time = time.time()\n",
    "    # WER\n",
    "    wer = 100 * WER_CALCULATOR.compute(predictions=pred_str, references=label_str)\n",
    "    \n",
    "    wer_time = time.time() - start_time\n",
    "    \n",
    "    best_pred = pred_str[best_index]\n",
    "    best_label = label_str[best_index]\n",
    "    worst_pred = [pred_str[worst_index[i]] for i in range(4)]\n",
    "    worst_label = [label_str[worst_index[i]] for i in range(4)]\n",
    "    \n",
    "    # print\n",
    "    # best:\n",
    "    print(f\"best f1 for {methods[0]}: {f1_max_exact}\\nbest pred: {best_pred}\\nbest label: {best_label}\\n\")\n",
    "    \n",
    "    # worst (the worst for each method):\n",
    "    for i in range(4):\n",
    "        print(f\"worst f1 for {methods[i]}: {f1_min[i]}\\nworst pred: {worst_pred[i]}\\nworst label: {worst_label[i]}\\n\")\n",
    "    \n",
    "    \n",
    "    \n",
    "    print(\"Time taken for each part:\")\n",
    "    print(f\"Decode calculation: {decode_time} seconds\")\n",
    "    print(f\"WER calculation: {wer_time} seconds\")\n",
    "    \n",
    "    # matric_dict = {\"wer\": wer, \"precision\": precision_avg, \"recall\": recall_avg, \"f1\": f1_avg, \"precision_median\": precision_median, \"recall_median\": recall_median, \"f1_median\": f1_median, \"precision_max\": precision_max, \"recall_max\": recall_max, \"f1_max\": f1_max, \"precision_min\": precision_min, \"recall_min\": recall_min, \"f1_min\": f1_min}\n",
    "    \n",
    "    # create the matric_dict with the metrics\n",
    "    matric_dict = {\"wer\": wer}\n",
    "    for i in range(4):\n",
    "        matric_dict[\"avg_precision_\" + methods[i]] = avg[\"avg_precision_\" + methods[i]]\n",
    "        matric_dict[\"avg_recall_\" + methods[i]] = avg[\"avg_recall_\" + methods[i]]\n",
    "        matric_dict[\"avg_f1_\" + methods[i]] = avg[\"avg_f1_\" + methods[i]]\n",
    "    matric_dict[\"precision_median_exact\"] = precision_median_exact\n",
    "    matric_dict[\"recall_median_exact\"] = recall_median_exact\n",
    "    matric_dict[\"f1_median_exact\"] = f1_median_exact\n",
    "    matric_dict[\"precision_max_exact\"] = precision_max_exact\n",
    "    matric_dict[\"recall_max_exact\"] = recall_max_exact\n",
    "    matric_dict[\"f1_max_exact\"] = f1_max_exact\n",
    "    for i in range(4):\n",
    "        matric_dict[\"precision_min_\" + methods[i]] = precision_min[i]\n",
    "        matric_dict[\"recall_min_\" + methods[i]] = recall_min[i]\n",
    "        matric_dict[\"f1_min_\" + methods[i]] = f1_min[i]\n",
    "    # print(matric_dict)\n",
    "    return matric_dict"
   ]
  },
  {
   "cell_type": "code",
   "execution_count": 17,
   "metadata": {},
   "outputs": [],
   "source": [
    "INIT_OUTPUT_LAYER = False"
   ]
  },
  {
   "cell_type": "code",
   "execution_count": 18,
   "metadata": {
    "id": "QKFSkVdnf427"
   },
   "outputs": [],
   "source": [
    "model = WhisperForConditionalGeneration.from_pretrained(BASE_MODEL_NAME, use_cache=False) # we can add \"force_download=True\" to download the model again\n",
    "\n",
    "model.generation_config.language = \"he\" \n",
    "\n",
    "\n",
    "\n",
    "\n",
    "if ADDTOKENS:\n",
    "    model.resize_token_embeddings(len(processor.tokenizer))\n",
    "    \n",
    "\n",
    "model.config.forced_decoder_ids = None\n",
    "model.config.suppress_tokens = []\n",
    "\n",
    "model.config.decoder_input_ids = None\n",
    "\n",
    "\n",
    "\n",
    "import torch.nn as nn\n",
    "\n",
    "\n",
    "# # initialize the last layer of the model:\n",
    "# if INIT_OUTPUT_LAYER:\n",
    "#     # Get the proj_out layer\n",
    "#     proj_out = model.get_output_embeddings()\n",
    "\n",
    "#     # Reinitialize the weights\n",
    "#     nn.init.xavier_uniform_(proj_out.weight)\n",
    "\n",
    "#     # If there's a bias, reinitialize it too\n",
    "#     if proj_out.bias is not None:\n",
    "#         nn.init.zeros_(proj_out.bias)\n",
    "\n",
    "\n"
   ]
  },
  {
   "cell_type": "code",
   "execution_count": 19,
   "metadata": {
    "id": "dPTtpvQpfdpw"
   },
   "outputs": [],
   "source": [
    "from transformers import Seq2SeqTrainingArguments\n",
    "\n",
    "training_args = Seq2SeqTrainingArguments(\n",
    "    output_dir= MODEL_NAME,  # change to a repo name of your choice\n",
    "    per_device_train_batch_size=BATCH_SIZE,\n",
    "    gradient_accumulation_steps=1,  # increase by 2x for every 2x decrease in batch size\n",
    "    learning_rate=LR, # was 1e-5\n",
    "    warmup_steps=WARMUP_STEPS, # was 500\n",
    "    max_steps=MAX_STEPS, # was 4000\n",
    "    gradient_checkpointing=True,\n",
    "    gradient_checkpointing_kwargs={'use_reentrant':False}, # I added that because UserWarning: \"The default value of use_reentrant will be updated to be False in the future.\"\n",
    "    fp16=torch.cuda.is_available(), # I added that because fp16 can't be use on CPU but on cuda\n",
    "    per_device_eval_batch_size=32,\n",
    "    predict_with_generate=True,\n",
    "    eval_strategy=\"steps\", \n",
    "    generation_max_length=225, # without this, it crushes the tesorboard\n",
    "    save_steps=SAVE_STEPS, \n",
    "    eval_steps=EVAL_STEPS,   \n",
    "    logging_steps=1, \n",
    "    report_to=[\"tensorboard\"],\n",
    "    load_best_model_at_end=True,\n",
    "    metric_for_best_model= \"avg_f1_Exact\",# \"avg_f1_...\" like \"avg_f1_Exact\"\n",
    "    greater_is_better=True, # if we use f1 score in eval so greater is better\n",
    "    push_to_hub=True,\n",
    "    # I added the dataloader_prefetch_factor to support newer versions of torch (now it must be int and not None. and the default is 2).\n",
    "    dataloader_prefetch_factor=2, # support newer versions of torch\n",
    "    dataloader_num_workers=1, # parallelize the data loading\n",
    "    weight_decay=WEIGHT_DECAY,\n",
    "    # run_name=RUN_NAME, # It doesn't work\n",
    ")\n"
   ]
  },
  {
   "cell_type": "code",
   "execution_count": 20,
   "metadata": {},
   "outputs": [],
   "source": [
    "# less validation data for testing\n",
    "val_data = [val_data[i] for i in range(0, len(val_data), 16)] # take every 16th element"
   ]
  },
  {
   "cell_type": "code",
   "execution_count": 21,
   "metadata": {
    "colab": {
     "base_uri": "https://localhost:8080/"
    },
    "id": "AcVCNi63f93B",
    "outputId": "a11f3708-67bb-4cab-f046-c65d3a62716a"
   },
   "outputs": [
    {
     "name": "stderr",
     "output_type": "stream",
     "text": [
      "max_steps is given, it will override any value given in num_train_epochs\n"
     ]
    }
   ],
   "source": [
    "from transformers import Seq2SeqTrainer, TrainerCallback\n",
    "\n",
    "\n",
    "class EvaluateFirstStepCallback(TrainerCallback):\n",
    "    def on_step_begin(self, args, state, control, model, tokenizer, optimizer, lr_scheduler, train_dataloader, eval_dataloader, **kwargs):\n",
    "        if state.global_step == 0:\n",
    "            control.should_evaluate = True\n",
    "\n",
    "\n",
    "\n",
    "trainer = Seq2SeqTrainer(\n",
    "    args=training_args,\n",
    "    model=model,\n",
    "    train_dataset=train_data,\n",
    "    eval_dataset=val_data,\n",
    "    data_collator=data_collator,\n",
    "    compute_metrics=compute_metrics,\n",
    "    tokenizer=processor.feature_extractor,\n",
    "    callbacks = [EvaluateFirstStepCallback()] if EVALUATE_FIRST_STEP else None\n",
    ")\n",
    "\n"
   ]
  },
  {
   "cell_type": "code",
   "execution_count": 22,
   "metadata": {
    "id": "Qy9nQs9rgBuC"
   },
   "outputs": [
    {
     "data": {
      "text/plain": [
       "[]"
      ]
     },
     "execution_count": 22,
     "metadata": {},
     "output_type": "execute_result"
    }
   ],
   "source": [
    "processor.save_pretrained(training_args.output_dir)"
   ]
  },
  {
   "cell_type": "code",
   "execution_count": 23,
   "metadata": {},
   "outputs": [],
   "source": [
    "def flags_warnings():\n",
    "    if FASTTEST:\n",
    "        for i in range(10):\n",
    "            print(\"!!!TEST-MODE!!! \\t \\t to test the code only\")\n",
    "\n",
    "    if not ADDTOKENS:\n",
    "        print(\"!!!ADDTOKENS==False!!!\")\n",
    "\n",
    "    if not NEWDATA:\n",
    "        print(\"!!!NEWDATA==False!!!\")"
   ]
  },
  {
   "cell_type": "code",
   "execution_count": 24,
   "metadata": {
    "colab": {
     "base_uri": "https://localhost:8080/",
     "height": 1000
    },
    "id": "qD-GTTcE_qTd",
    "outputId": "74f1f977-1073-4e8c-f6b2-caa78dd1afed"
   },
   "outputs": [
    {
     "name": "stdout",
     "output_type": "stream",
     "text": [
      "!!!TEST-MODE!!! \t \t to test the code only\n",
      "!!!TEST-MODE!!! \t \t to test the code only\n",
      "!!!TEST-MODE!!! \t \t to test the code only\n",
      "!!!TEST-MODE!!! \t \t to test the code only\n",
      "!!!TEST-MODE!!! \t \t to test the code only\n",
      "!!!TEST-MODE!!! \t \t to test the code only\n",
      "!!!TEST-MODE!!! \t \t to test the code only\n",
      "!!!TEST-MODE!!! \t \t to test the code only\n",
      "!!!TEST-MODE!!! \t \t to test the code only\n",
      "!!!TEST-MODE!!! \t \t to test the code only\n"
     ]
    },
    {
     "data": {
      "text/html": [
       "\n",
       "    <div>\n",
       "      \n",
       "      <progress value='20' max='20' style='width:300px; height:20px; vertical-align: middle;'></progress>\n",
       "      [20/20 00:10, Epoch 0/1]\n",
       "    </div>\n",
       "    <table border=\"1\" class=\"dataframe\">\n",
       "  <thead>\n",
       " <tr style=\"text-align: left;\">\n",
       "      <th>Step</th>\n",
       "      <th>Training Loss</th>\n",
       "      <th>Validation Loss</th>\n",
       "      <th>Wer</th>\n",
       "      <th>Avg Precision Exact</th>\n",
       "      <th>Avg Recall Exact</th>\n",
       "      <th>Avg F1 Exact</th>\n",
       "      <th>Avg Precision Letter Shift</th>\n",
       "      <th>Avg Recall Letter Shift</th>\n",
       "      <th>Avg F1 Letter Shift</th>\n",
       "      <th>Avg Precision Word Level</th>\n",
       "      <th>Avg Recall Word Level</th>\n",
       "      <th>Avg F1 Word Level</th>\n",
       "      <th>Avg Precision Word Shift</th>\n",
       "      <th>Avg Recall Word Shift</th>\n",
       "      <th>Avg F1 Word Shift</th>\n",
       "      <th>Precision Median Exact</th>\n",
       "      <th>Recall Median Exact</th>\n",
       "      <th>F1 Median Exact</th>\n",
       "      <th>Precision Max Exact</th>\n",
       "      <th>Recall Max Exact</th>\n",
       "      <th>F1 Max Exact</th>\n",
       "      <th>Precision Min Exact</th>\n",
       "      <th>Recall Min Exact</th>\n",
       "      <th>F1 Min Exact</th>\n",
       "      <th>Precision Min Letter Shift</th>\n",
       "      <th>Recall Min Letter Shift</th>\n",
       "      <th>F1 Min Letter Shift</th>\n",
       "      <th>Precision Min Word Level</th>\n",
       "      <th>Recall Min Word Level</th>\n",
       "      <th>F1 Min Word Level</th>\n",
       "      <th>Precision Min Word Shift</th>\n",
       "      <th>Recall Min Word Shift</th>\n",
       "      <th>F1 Min Word Shift</th>\n",
       "    </tr>\n",
       "  </thead>\n",
       "  <tbody>\n",
       "    <tr>\n",
       "      <td>20</td>\n",
       "      <td>6.066600</td>\n",
       "      <td>5.885577</td>\n",
       "      <td>100.000000</td>\n",
       "      <td>0.002481</td>\n",
       "      <td>0.000304</td>\n",
       "      <td>0.000542</td>\n",
       "      <td>0.047388</td>\n",
       "      <td>0.035392</td>\n",
       "      <td>0.037132</td>\n",
       "      <td>0.008411</td>\n",
       "      <td>0.026165</td>\n",
       "      <td>0.012517</td>\n",
       "      <td>0.144453</td>\n",
       "      <td>0.130780</td>\n",
       "      <td>0.131303</td>\n",
       "      <td>0.000000</td>\n",
       "      <td>0.000000</td>\n",
       "      <td>0.000000</td>\n",
       "      <td>0.076923</td>\n",
       "      <td>0.009434</td>\n",
       "      <td>0.016807</td>\n",
       "      <td>0.000000</td>\n",
       "      <td>0.000000</td>\n",
       "      <td>0.000000</td>\n",
       "      <td>0.000000</td>\n",
       "      <td>0.000000</td>\n",
       "      <td>0.000000</td>\n",
       "      <td>0.000000</td>\n",
       "      <td>0.000000</td>\n",
       "      <td>0.000000</td>\n",
       "      <td>0.000000</td>\n",
       "      <td>0.000000</td>\n",
       "      <td>0.000000</td>\n",
       "    </tr>\n",
       "  </tbody>\n",
       "</table><p>"
      ],
      "text/plain": [
       "<IPython.core.display.HTML object>"
      ]
     },
     "metadata": {},
     "output_type": "display_data"
    },
    {
     "name": "stdout",
     "output_type": "stream",
     "text": [
      "this sequence of  4  words is too long!\n",
      "sequence audio length:  32.8620625\n",
      "sequence text length(in tokens):  48\n",
      "text:  לֽא־מ֖ות תמתֽון׃ כ֚י יד֣ע אלה֔ים כ֗י ביום֙ אכלכ֣ם ממ֔נו\n",
      "this sequence of  4  words is too long!\n",
      "sequence audio length:  32.9549375\n",
      "sequence text length(in tokens):  46\n",
      "text:  כ֚י יד֣ע אלה֔ים כ֗י ביום֙ אכלכ֣ם ממ֔נו ונפקח֖ו עֽיניכ֑ם\n",
      "best f1 for Exact: 0.01680672268907563\n",
      "best pred:  וה֢֑֡֡֜֨֨֨֨֨֨֨֨֨֨֨֨ר֡ו֡�֡�֡�֡�֡�֡�֡�֡�֡�֡�֡�֡�֡�֡�֡�֡�֡�֡�֡�֡�֡�֡�֡�֡�֡�֡�֡�֡�֡�֡�֡�֡�֡�֡�֡�֡�֡�֡�֡�֡�֡�֡�֡�֡�֡�֡�֡�֡�֡�֡�֡�֡�֡�֡�֡�֡�֡�֡�֡�֡�֡�֡�֡�֡�֡�֡�֡�֡�֡�֡�֡�֡�֡�֡�֡�֡�֡�֡�֡�֡�֡�֡�֡�֡�֡�֡�֡�֡�֡�֡�֡�֡�֡�֡�֡�֡�֡�֡�֡�֡�\n",
      "best label: וי֨אמר֙ אברה֔ם והֽער֥יך את֖ו הכה֑ן היל֥ך בתֽורת֖י אם־לֽא׃ כֽאש֛ר\n",
      "\n",
      "worst f1 for Exact: 0.0\n",
      "worst pred:  גם א�֜ק֧ול֡ול֡ים וחול֑֨֨֨֨֨֨֨֨֨֨ר֨ר֨֨ר֨֨֨ר֨֨ר֨֨ר֨֨֨ר֨֨֨֨֨֨ר֨֨֨֨֨֨֨֨֨֨֨֨֨֨֨֨֨֨֨֨֨֨֨֨֨֨֨֨֨֨֨֨֨֨֨֨֨֨֨֨֨֨֨֨֨֨֨֨֨֨֨֨֨֨֨֨֨֨֨֨֨֨֨֨֨֨֨֨֨֨֨֨֨֨֨֨֨֨֨֨֨֨֨֨֨֨֨֨֨֨֨֨֨֨֨֨֨֨֨֨֨֨֨֨֨֨֨֨֨֨֨֨֨֨֨֨֨֨֨֨֨֨֨֨֨֨֨֨֨֨֨֨֨֨֨֨֨֨֨֨֨֨֨֨֨֨֨֨֨֨֨֨֨֨֨֨֨֨֨֨֨֨֨֨֨֨֨֨֨֨\n",
      "worst label: ג֤ם כל־חלי֙ וכל־מכ֔ה והנ֣ה מן־היא֗ר כֽאש֛ר והֽית֥ה לכה֖ן כמנחֽה׃\n",
      "\n",
      "worst f1 for Letter_Shift: 0.0\n",
      "worst pred:  גם א�֜ק֧ול֡ול֡ים וחול֑֨֨֨֨֨֨֨֨֨֨ר֨ר֨֨ר֨֨֨ר֨֨ר֨֨ר֨֨֨ר֨֨֨֨֨֨ר֨֨֨֨֨֨֨֨֨֨֨֨֨֨֨֨֨֨֨֨֨֨֨֨֨֨֨֨֨֨֨֨֨֨֨֨֨֨֨֨֨֨֨֨֨֨֨֨֨֨֨֨֨֨֨֨֨֨֨֨֨֨֨֨֨֨֨֨֨֨֨֨֨֨֨֨֨֨֨֨֨֨֨֨֨֨֨֨֨֨֨֨֨֨֨֨֨֨֨֨֨֨֨֨֨֨֨֨֨֨֨֨֨֨֨֨֨֨֨֨֨֨֨֨֨֨֨֨֨֨֨֨֨֨֨֨֨֨֨֨֨֨֨֨֨֨֨֨֨֨֨֨֨֨֨֨֨֨֨֨֨֨֨֨֨֨֨֨֨֨\n",
      "worst label: ג֤ם כל־חלי֙ וכל־מכ֔ה והנ֣ה מן־היא֗ר כֽאש֛ר והֽית֥ה לכה֖ן כמנחֽה׃\n",
      "\n",
      "worst f1 for Word_Level: 0.0\n",
      "worst pred:  גם א�֜ק֧ול֡ול֡ים וחול֑֨֨֨֨֨֨֨֨֨֨ר֨ר֨֨ר֨֨֨ר֨֨ר֨֨ר֨֨֨ר֨֨֨֨֨֨ר֨֨֨֨֨֨֨֨֨֨֨֨֨֨֨֨֨֨֨֨֨֨֨֨֨֨֨֨֨֨֨֨֨֨֨֨֨֨֨֨֨֨֨֨֨֨֨֨֨֨֨֨֨֨֨֨֨֨֨֨֨֨֨֨֨֨֨֨֨֨֨֨֨֨֨֨֨֨֨֨֨֨֨֨֨֨֨֨֨֨֨֨֨֨֨֨֨֨֨֨֨֨֨֨֨֨֨֨֨֨֨֨֨֨֨֨֨֨֨֨֨֨֨֨֨֨֨֨֨֨֨֨֨֨֨֨֨֨֨֨֨֨֨֨֨֨֨֨֨֨֨֨֨֨֨֨֨֨֨֨֨֨֨֨֨֨֨֨֨֨\n",
      "worst label: ג֤ם כל־חלי֙ וכל־מכ֔ה והנ֣ה מן־היא֗ר כֽאש֛ר והֽית֥ה לכה֖ן כמנחֽה׃\n",
      "\n",
      "worst f1 for Word_Shift: 0.0\n",
      "worst pred:  גם א�֜ק֧ול֡ול֡ים וחול֑֨֨֨֨֨֨֨֨֨֨ר֨ר֨֨ר֨֨֨ר֨֨ר֨֨ר֨֨֨ר֨֨֨֨֨֨ר֨֨֨֨֨֨֨֨֨֨֨֨֨֨֨֨֨֨֨֨֨֨֨֨֨֨֨֨֨֨֨֨֨֨֨֨֨֨֨֨֨֨֨֨֨֨֨֨֨֨֨֨֨֨֨֨֨֨֨֨֨֨֨֨֨֨֨֨֨֨֨֨֨֨֨֨֨֨֨֨֨֨֨֨֨֨֨֨֨֨֨֨֨֨֨֨֨֨֨֨֨֨֨֨֨֨֨֨֨֨֨֨֨֨֨֨֨֨֨֨֨֨֨֨֨֨֨֨֨֨֨֨֨֨֨֨֨֨֨֨֨֨֨֨֨֨֨֨֨֨֨֨֨֨֨֨֨֨֨֨֨֨֨֨֨֨֨֨֨֨\n",
      "worst label: ג֤ם כל־חלי֙ וכל־מכ֔ה והנ֣ה מן־היא֗ר כֽאש֛ר והֽית֥ה לכה֖ן כמנחֽה׃\n",
      "\n",
      "Time taken for each part:\n",
      "Decode calculation: 2.3922133445739746 seconds\n",
      "WER calculation: 0.006825447082519531 seconds\n"
     ]
    },
    {
     "name": "stderr",
     "output_type": "stream",
     "text": [
      "Some non-default generation parameters are set in the model config. These should go into a GenerationConfig file (https://huggingface.co/docs/transformers/generation_strategies#save-a-custom-decoding-strategy-with-your-model) instead. This warning will be raised to an exception in v4.41.\n",
      "Non-default generation parameters: {'max_length': 448, 'suppress_tokens': [], 'begin_suppress_tokens': [220, 50257]}\n",
      "There were missing keys in the checkpoint model loaded: ['proj_out.weight'].\n"
     ]
    }
   ],
   "source": [
    "flags_warnings()\n",
    "\n",
    "trainer_state = trainer.train()"
   ]
  },
  {
   "cell_type": "code",
   "execution_count": 25,
   "metadata": {},
   "outputs": [],
   "source": [
    "# model.generation_config.save_pretrained(MODEL_NAME, push_to_hub=True)"
   ]
  },
  {
   "cell_type": "code",
   "execution_count": 26,
   "metadata": {
    "id": "c704f91e-241b-48c9-b8e0-f0da396a9663"
   },
   "outputs": [],
   "source": [
    "kwargs = {\n",
    "    # \"dataset_args\": \"config: he, split: test\",\n",
    "    \"language\": \"he\",\n",
    "    \"model_name\": \"he-cantillation\",\n",
    "    \"finetuned_from\": BASE_MODEL_NAME,\n",
    "    \"tasks\": \"automatic-speech-recognition-cantillation\",\n",
    "    \"tags\": \"hf-asr-leaderboard\",\n",
    "}"
   ]
  },
  {
   "cell_type": "code",
   "execution_count": 27,
   "metadata": {},
   "outputs": [],
   "source": [
    "# # create a GenerationConfig file\n",
    "# from transformers import GenerationConfig\n",
    "\n"
   ]
  },
  {
   "cell_type": "code",
   "execution_count": 28,
   "metadata": {},
   "outputs": [
    {
     "name": "stderr",
     "output_type": "stream",
     "text": [
      "Some non-default generation parameters are set in the model config. These should go into a GenerationConfig file (https://huggingface.co/docs/transformers/generation_strategies#save-a-custom-decoding-strategy-with-your-model) instead. This warning will be raised to an exception in v4.41.\n",
      "Non-default generation parameters: {'max_length': 448, 'suppress_tokens': [], 'begin_suppress_tokens': [220, 50257]}\n",
      "Some non-default generation parameters are set in the model config. These should go into a GenerationConfig file (https://huggingface.co/docs/transformers/generation_strategies#save-a-custom-decoding-strategy-with-your-model) instead. This warning will be raised to an exception in v4.41.\n",
      "Non-default generation parameters: {'max_length': 448, 'suppress_tokens': [], 'begin_suppress_tokens': [220, 50257]}\n"
     ]
    }
   ],
   "source": [
    "\n",
    "trainer.save_model()"
   ]
  },
  {
   "cell_type": "code",
   "execution_count": 29,
   "metadata": {
    "id": "d7030622-caf7-4039-939b-6195cdaa2585"
   },
   "outputs": [
    {
     "name": "stderr",
     "output_type": "stream",
     "text": [
      "Some non-default generation parameters are set in the model config. These should go into a GenerationConfig file (https://huggingface.co/docs/transformers/generation_strategies#save-a-custom-decoding-strategy-with-your-model) instead. This warning will be raised to an exception in v4.41.\n",
      "Non-default generation parameters: {'max_length': 448, 'suppress_tokens': [], 'begin_suppress_tokens': [220, 50257]}\n"
     ]
    },
    {
     "data": {
      "text/plain": [
       "CommitInfo(commit_url='https://huggingface.co/cantillation/Teamim-tiny_WeightDecay-0.05_Augmented_New-Data_date-10-07-2024_11-18/commit/f9e2b629563f6de444026acfa5aa68aa6996b963', commit_message='End of training', commit_description='', oid='f9e2b629563f6de444026acfa5aa68aa6996b963', pr_url=None, pr_revision=None, pr_num=None)"
      ]
     },
     "execution_count": 29,
     "metadata": {},
     "output_type": "execute_result"
    }
   ],
   "source": [
    "trainer.push_to_hub(**kwargs)\n",
    "# processor.push_to_hub(\"cantillation\" +training_args.output_dir[1:])"
   ]
  },
  {
   "cell_type": "code",
   "execution_count": 30,
   "metadata": {
    "colab": {
     "base_uri": "https://localhost:8080/"
    },
    "id": "230S-_GFHIpl",
    "outputId": "b467540c-4243-4d41-f98d-aef680c12701"
   },
   "outputs": [
    {
     "data": {
      "text/plain": [
       "[7e-06, 7e-06]"
      ]
     },
     "execution_count": 30,
     "metadata": {},
     "output_type": "execute_result"
    }
   ],
   "source": [
    "trainer.lr_scheduler.get_lr()"
   ]
  },
  {
   "cell_type": "code",
   "execution_count": 31,
   "metadata": {
    "colab": {
     "base_uri": "https://localhost:8080/",
     "height": 36
    },
    "id": "CIxlou6sDMKA",
    "outputId": "053af6de-2a86-4774-f7cb-ad3a242d9016"
   },
   "outputs": [
    {
     "data": {
      "text/plain": [
       "'<|startoftranscript|><|he|><|transcribe|><|notimestamps|>אש֖ר מע֣ל לֽרק֑יע וֽיהי־כֽן׃ ויקר֧א אלה֛ים לֽרק֖יע שמ֑ים<|endoftext|>'"
      ]
     },
     "execution_count": 31,
     "metadata": {},
     "output_type": "execute_result"
    }
   ],
   "source": [
    "processor.tokenizer.decode(train_data[26][\"labels\"])"
   ]
  },
  {
   "cell_type": "code",
   "execution_count": 32,
   "metadata": {},
   "outputs": [],
   "source": [
    "# !pip install peft"
   ]
  },
  {
   "cell_type": "code",
   "execution_count": 33,
   "metadata": {},
   "outputs": [],
   "source": [
    "\n",
    "from datetime import datetime\n",
    "\n",
    "\n",
    "def log_training_to_markdown_file(training_args, training_loss, epoch, step, validation_loss, f1, recall, precision, filename=\"training_log.md\"):\n",
    "    # Get the current date and time\n",
    "    now = datetime.now()\n",
    "\n",
    "    # Format the date and time as a string\n",
    "    date_time = now.strftime(\"%m/%d/%Y, %H:%M:%S\")\n",
    "\n",
    "    with open(filename, 'a') as f:\n",
    "        f.write(f\"| {date_time} | {training_args.output_dir } | {training_args.per_device_train_batch_size} | {training_args.gradient_accumulation_steps} | {training_args.learning_rate} | {training_args.warmup_steps} | {training_args.max_steps} | {training_args.gradient_checkpointing} | {training_args.gradient_checkpointing_kwargs} | {training_args.fp16} | {training_args.eval_strategy} | {training_args.per_device_eval_batch_size} | {training_args.predict_with_generate} | {training_args.generation_max_length} | {training_args.save_steps} | {training_args.eval_steps} | {training_args.logging_steps} | {training_args.report_to} | {training_args.load_best_model_at_end} | {training_args.metric_for_best_model} | {training_args.greater_is_better} | {training_args.push_to_hub} | {training_loss} | {epoch} | {step} | {validation_loss} | {f1} | {recall} | {precision} |\\n\")\n",
    "\n",
    "def create_markdown_file_with_headers(filename=\"./markdown_files/training_log_new.md\"):\n",
    "    with open(filename, 'w') as f:\n",
    "        f.write(\"| Date Time | Repo Name | Batch Size | Gradient Accumulation Steps | Learning Rate | Warmup Steps | Max Steps | Gradient Checkpointing | Gradient Checkpointing Kwargs | FP16 | Evaluation Strategy | Eval Batch Size | Predict with Generate | Max Length | Save Steps | Eval Steps | Logging Steps | Report To | Load Best Model at End | Metric for Best Model | Greater is Better | Push to Hub | Training Loss | Epoch | Step | Validation Loss | f1 | recall | precision |\\n\")\n",
    "        f.write(\"|---|---|---|---|---|---|---|---|---|---|---|---|---|---|---|---|---|---|---|---|---|---|---|---|---|---|----|---|---|\\n\")\n",
    "\n",
    "# Create the Markdown file with headers\n",
    "#create_markdown_file_with_headers()\n",
    "        \n",
    "\n",
    "def get_logs_with_step(trainer, step = 1500):\n",
    "    # Initialize an empty dictionary to store the merged logs\n",
    "    merged_logs_with_step = {}\n",
    "\n",
    "    # Iterate over the log history\n",
    "    for log in trainer.state.log_history:\n",
    "        # Check if the 'step' key exists in the log and if it equals the provided step\n",
    "        if 'step' in log and log['step'] == step:\n",
    "            # If it does, merge the log into the merged_logs_with_step dictionary\n",
    "            merged_logs_with_step.update(log)\n",
    "\n",
    "    # Return the merged logs\n",
    "    return merged_logs_with_step\n",
    "\n",
    "\n",
    "# Get the training loss\n",
    "training_loss = trainer_state.training_loss\n",
    "# Get the step and epoch from the TrainerState\n",
    "step = trainer.state.global_step\n",
    "epoch = trainer.state.epoch\n",
    "\n",
    "# Get the log history at the specified step\n",
    "history = get_logs_with_step(trainer,training_args.max_steps)\n",
    "# Get the evaluation details from the log history\n",
    "validation_loss = history['eval_loss']\n",
    "f1 = history['eval_avg_f1_Exact']\n",
    "recall = history['eval_avg_recall_Exact']\n",
    "precision = history['eval_avg_precision_Exact']\n",
    "\n",
    "# Log the training details\n",
    "log_training_to_markdown_file(training_args, training_loss, epoch, step, validation_loss, f1, recall, precision, filename=\"./markdown_files/training_log_new.md\")\n"
   ]
  },
  {
   "cell_type": "code",
   "execution_count": 34,
   "metadata": {},
   "outputs": [
    {
     "data": {
      "text/markdown": [
       "| Date Time | Repo Name | Batch Size | Gradient Accumulation Steps | Learning Rate | Warmup Steps | Max Steps | Gradient Checkpointing | Gradient Checkpointing Kwargs | FP16 | Evaluation Strategy | Eval Batch Size | Predict with Generate | Max Length | Save Steps | Eval Steps | Logging Steps | Report To | Load Best Model at End | Metric for Best Model | Greater is Better | Push to Hub | Training Loss | Epoch | Step | Validation Loss | f1 | recall | precision |\n",
       "|---|---|---|---|---|---|---|---|---|---|---|---|---|---|---|---|---|---|---|---|---|---|---|---|---|---|----|---|---|\n",
       "| 03/21/2024, 08:40:08 | ./Teamim-AllNusah-whisper-small_Random-True_Mid | 8 | 1 | 1e-05 | 1000 | 100000 | True | {'use_reentrant': False} | True | steps | 32 | True | 225 | 10000 | 10000 | 25 | ['tensorboard'] | True | avg_f1_Exact | True | True | 0.021550073864677687 | 8.0 | 100000 | 0.184482142329216 | 0.8996304230096901 | 0.8996085856138029 | 0.9003176340674156 |\n",
       "| 03/21/2024, 13:03:45 | ./Teamim-AllNusah-whisper-base_Random-True_Mid | 8 | 1 | 1e-05 | 1000 | 100000 | True | {'use_reentrant': False} | True | steps | 32 | True | 225 | 10000 | 10000 | 25 | ['tensorboard'] | True | avg_f1_Exact | True | True | 0.03545441636119969 | 8.0 | 100000 | 0.20118673145771027 | 0.8617680742203201 | 0.8626021186921445 | 0.8617811978432426 |\n",
       "| 03/21/2024, 16:41:01 | ./Teamim-AllNusah-whisper-tiny_Random-True_Mid | 8 | 1 | 1e-05 | 1000 | 100000 | True | {'use_reentrant': False} | True | steps | 32 | True | 225 | 10000 | 10000 | 25 | ['tensorboard'] | True | avg_f1_Exact | True | True | 0.04949023559953086 | 8.0 | 100000 | 0.21391823887825012 | 0.8324883831395741 | 0.8338224092406237 | 0.8322131178574591 |\n",
       "| 03/23/2024, 07:00:56 | ./Teamim-AllNusah-whisper-medium_Random-True_Mid | 8 | 1 | 1e-05 | 1000 | 100000 | True | {'use_reentrant': False} | True | steps | 32 | True | 225 | 10000 | 10000 | 25 | ['tensorboard'] | True | avg_f1_Exact | True | True | 0.016411178880098305 | 8.0 | 100000 | 0.19175758957862854 | 0.9241458540823655 | 0.9248030309610401 | 0.9241210924324863 |\n",
       "| 05/15/2024, 04:43:26 | ./Teamim-medium_Random-True_OriginalData | 8 | 1 | 1e-05 | 100 | 20000 | True | {'use_reentrant': False} | True | steps | 32 | True | 225 | 10000 | 200 | 25 | ['tensorboard'] | True | avg_f1_Exact | True | True | 0.06837314007226378 | 1.6 | 20000 | 0.32565802335739136 | 0.7752270688239551 | 0.7795095778021163 | 0.7720285537597026 |\n",
       "| 05/16/2024, 20:40:49 | ./Teamim-medium_Random-True_OriginalData | 8 | 1 | 1e-05 | 100 | 5000 | True | {'use_reentrant': False} | True | steps | 32 | True | 225 | 1000 | 500 | 25 | ['tensorboard'] | True | avg_f1_Exact | True | True | 0.1853820906639099 | 0.4 | 5000 | 0.14098824560642242 | 0.892768311387271 | 0.8960657159022651 | 0.890549476438386 |\n",
       "| 06/26/2024, 20:15:14 | ./Teamim-large-v2_Random-True_Augmented_date-26-06-2024_10-34-39 | 8 | 1 | 1e-05 | 50 | 8000 | True | {'use_reentrant': False} | True | steps | 32 | True | 225 | 4000 | 1000 | 25 | ['tensorboard'] | True | avg_f1_Exact | True | True | 0.07693093957193196 | 0.64 | 8000 | 0.10415194183588028 | 0.908830758369049 | 0.9087716050227665 | 0.9096437277663242 |\n",
       "| 06/27/2024, 07:35:51 | ./Teamim-large-v2_Random-True_DropOut-0.3_WeightDecay-1e-05_Augmented_date-26-06-2024_22-25-46 | 8 | 1 | 1e-05 | 50 | 8000 | True | {'use_reentrant': False} | True | steps | 32 | True | 225 | 4000 | 1000 | 25 | ['tensorboard'] | True | avg_f1_Exact | True | True | 0.07779751290939749 | 0.64 | 8000 | 0.10385266691446304 | 0.905166113465824 | 0.9050807123897499 | 0.9059804085487052 |\n",
       "| 06/27/2024, 10:36:32 | ./Teamim-tiny_Random-True_DropOut-0.1_WeightDecay-1e-06_Augmented_date-27-06-2024_09-48-25 | 8 | 1 | 0.0001 | 50 | 20000 | True | {'use_reentrant': False} | True | steps | 32 | True | 225 | 4000 | 4000 | 25 | ['tensorboard'] | True | avg_f1_Exact | True | True | 0.0803652085084468 | 1.6 | 20000 | 0.16346947848796844 | 0.8548035032054514 | 0.8549944618611862 | 0.8554998107697397 |\n",
       "| 06/27/2024, 13:27:58 | ./Teamim-tiny_Random-True_DropOut-0.1_WeightDecay-1e-06_Augmented_date-27-06-2024_11-10-07 | 8 | 1 | 0.0001 | 50 | 100000 | True | {'use_reentrant': False} | True | steps | 32 | True | 225 | 10000 | 10000 | 25 | ['tensorboard'] | True | avg_f1_Exact | True | True | 0.025959196008964208 | 8.0 | 100000 | 0.25516340136528015 | 0.8109987026864801 | 0.811303476205186 | 0.8114957652968597 |\n",
       "| 06/28/2024, 08:39:08 | ./Teamim-large-v2_Random-True_DropOut-0.3_Augmented_date-27-06-2024_20-55-08 | 8 | 1 | 1e-05 | 50 | 10000 | True | {'use_reentrant': False} | True | steps | 32 | True | 225 | 4000 | 1000 | 25 | ['tensorboard'] | True | avg_f1_Exact | True | True | 0.06029476949423552 | 0.8 | 10000 | 0.10647618770599365 | 0.9152141727991959 | 0.915339132943093 | 0.9157900829991397 |\n",
       "| 06/29/2024, 11:21:42 | ./Teamim-large-v2_DropOut-0.5_Augmented_Combined-Data_date-28-06-2024_16-28 | 8 | 1 | 1e-05 | 50 | 30000 | True | {'use_reentrant': False} | True | steps | 32 | True | 225 | 5000 | 5000 | 25 | ['tensorboard'] | True | avg_f1_Exact | True | True | 0.04124099235981703 | 1.550147263990079 | 30000 | 0.08113238960504532 | 0.9307567418702926 | 0.9306261921216916 | 0.9315657931117158 |\n",
       "| 07/07/2024, 07:02:58 | ./Teamim-tiny_DropOut-0.5_Augmented_Combined-Data_date-06-07-2024_20-19 | 8 | 1 | 1e-05 | 1000 | 500000 | True | {'use_reentrant': False} | True | steps | 32 | True | 225 | 10000 | 10000 | 25 | ['tensorboard'] | True | avg_f1_Exact | True | True | 0.015838049768279662 | 25.83445282628914 | 500000 | 0.28065910935401917 | 0.8382398748092069 | 0.8396515727745174 | 0.8377787036458046 |\n",
       "| 07/07/2024, 11:17:43 | ./Teamim-tiny_DropOut-0.5_Augmented_Combined-Data_date-07-07-2024_08-34 | 8 | 1 | 1e-06 | 1000 | 50000 | True | {'use_reentrant': False} | True | steps | 32 | True | 225 | 2000 | 2000 | 25 | ['tensorboard'] | True | avg_f1_Exact | True | True | 4.609999258880615 | 2.583445282628914 | 50000 | 3.9591798782348633 | 0.009378289372690269 | 0.04822695035460992 | 0.005298875867134267 |\n",
       "| 07/09/2024, 10:06:01 | ./Teamim-tiny_DropOut-0.5_Augmented_Combined-Data_date-09-07-2024_09-42 | 8 | 1 | 1e-05 | 1000 | 5000 | True | {'use_reentrant': False} | True | steps | 32 | True | 225 | 5000 | 5000 | 25 | ['tensorboard'] | True | avg_f1_Exact | True | True | 0.22825482025146485 | 0.2583445282628914 | 5000 | 0.24147212505340576 | 0.6445448712872567 | 0.646263029110693 | 0.6444298169163766 |\n",
       "| 07/09/2024, 10:37:24 | ./Teamim-tiny_DropOut-0.5_Augmented_Combined-Data_date-09-07-2024_10-17 | 8 | 1 | 1e-05 | 1000 | 5000 | True | {'use_reentrant': False} | True | steps | 32 | True | 225 | 5000 | 5000 | 25 | ['tensorboard'] | True | avg_f1_Exact | True | True | 0.7733024370193482 | 0.2583445282628914 | 5000 | 0.3109682500362396 | 0.5581406054525616 | 0.5585648823768209 | 0.5594666132101971 |\n",
       "| 07/09/2024, 11:12:56 | ./Teamim-tiny_DropOut-0.5_New-Data_date-09-07-2024_11-11 | 8 | 1 | 1e-05 | 10 | 500 | True | {'use_reentrant': False} | True | steps | 32 | True | 225 | 500 | 500 | 25 | ['tensorboard'] | True | avg_f1_Exact | True | True | 1.0505921382904053 | 2.0161290322580645 | 500 | 1.3115513324737549 | 0.1484441251212925 | 0.14456711157737018 | 0.15370444473024028 |\n",
       "| 07/09/2024, 11:15:18 | ./Teamim-tiny_DropOut-0.5_New-Data_date-09-07-2024_11-13 | 8 | 1 | 1e-05 | 10 | 500 | True | {'use_reentrant': False} | True | steps | 32 | True | 225 | 500 | 500 | 1 | ['tensorboard'] | True | avg_f1_Exact | True | True | 1.077277862995863 | 2.0161290322580645 | 500 | 1.3493123054504395 | 0.11196754871749044 | 0.10726905771306977 | 0.11832617585992708 |\n",
       "| 07/09/2024, 11:36:15 | ./Teamim-tiny_Old-Data_date-09-07-2024_11-28 | 8 | 1 | 1e-05 | 10 | 5000 | True | {'use_reentrant': False} | True | steps | 32 | True | None | 5000 | 5000 | 25 | ['tensorboard'] | True | avg_f1_Exact | True | True | 0.5126914912223816 | 0.5728689275893676 | 5000 | 0.3567802906036377 | 0.634995933585646 | 0.6379584155289065 | 0.6338327879650193 |\n",
       "| 07/09/2024, 11:42:25 | ./Teamim-tiny_Old-Data_date-09-07-2024_11-35 | 8 | 1 | 1e-05 | 10 | 5000 | True | {'use_reentrant': False} | True | steps | 32 | True | None | 5000 | 5000 | 1 | ['tensorboard'] | True | avg_f1_Exact | True | True | 0.18801606579720975 | 0.5728689275893676 | 5000 | 0.31880703568458557 | 0.6706442946707739 | 0.6743758098704623 | 0.668774170427063 |\n",
       "| 07/09/2024, 11:53:38 | ./Teamim-tiny_Old-Data_date-09-07-2024_11-49 | 8 | 1 | 1e-05 | 10 | 2000 | True | {'use_reentrant': False} | True | steps | 32 | True | None | 2000 | 2000 | 1 | ['tensorboard'] | True | avg_f1_Exact | True | True | 0.8328142464011907 | 0.229147571035747 | 2000 | 0.5039238333702087 | 0.4936389928158449 | 0.4886240458797581 | 0.5012416646714167 |\n",
       "| 07/09/2024, 11:58:28 | ./Teamim-tiny_Old-Data_date-09-07-2024_11-54 | 8 | 1 | 1e-05 | 10 | 2000 | True | {'use_reentrant': False} | True | steps | 32 | True | None | 2000 | 2000 | 1 | ['tensorboard'] | True | avg_f1_Exact | True | True | 0.365867255397141 | 0.229147571035747 | 2000 | 0.3993128836154938 | 0.5797832830507968 | 0.5774234055165023 | 0.584343533723699 |\n",
       "| 07/09/2024, 12:09:02 | ./Teamim-tiny_DropOut-0.5_Old-Data_date-09-07-2024_12-05 | 8 | 1 | 1e-05 | 10 | 2000 | True | {'use_reentrant': False} | True | steps | 32 | True | None | 2000 | 2000 | 25 | ['tensorboard'] | True | avg_f1_Exact | True | True | 0.8246453580856323 | 0.229147571035747 | 2000 | 0.4964655935764313 | 0.47605439414429945 | 0.475031230810278 | 0.47864142285629896 |\n",
       "| 07/09/2024, 12:15:58 | ./Teamim-tiny_DropOut-0.5_Old-Data_date-09-07-2024_12-10 | 8 | 1 | 1e-05 | 10 | 2000 | True | {'use_reentrant': False} | True | steps | 32 | True | None | 2000 | 2000 | 25 | ['tensorboard'] | True | avg_f1_Exact | True | True | 5.292523445129395 | 0.229147571035747 | 2000 | 4.263174533843994 | 0.0 | 0.0 | 0.0 |\n",
       "| 07/09/2024, 12:23:25 | ./Teamim-tiny_Old-Data_date-09-07-2024_12-19 | 8 | 1 | 1e-05 | 10 | 2000 | True | {'use_reentrant': False} | True | steps | 32 | True | None | 2000 | 2000 | 25 | ['tensorboard'] | True | avg_f1_Exact | True | True | 0.8288912086486816 | 0.229147571035747 | 2000 | 0.4990358352661133 | 0.4843666288922216 | 0.48244298149499903 | 0.4881738287730023 |\n",
       "| 07/09/2024, 12:29:29 | ./Teamim-tiny_Old-Data_date-09-07-2024_12-25 | 8 | 1 | 1e-05 | 10 | 2000 | True | {'use_reentrant': False} | True | steps | 32 | True | None | 2000 | 2000 | 25 | ['tensorboard'] | True | avg_f1_Exact | True | True | 0.3652078564167023 | 0.229147571035747 | 2000 | 0.3952443301677704 | 0.5750990925954228 | 0.5760319179011449 | 0.5761704243109201 |\n",
       "| 07/09/2024, 16:27:34 | ./Teamim-large-v2_WeightDecay-0.001_Augmented_Combined-Data_date-09-07-2024_12-45 | 8 | 1 | 1e-05 | 10 | 3000 | True | {'use_reentrant': False} | True | steps | 32 | True | None | 1000 | 1000 | 25 | ['tensorboard'] | True | avg_f1_Exact | True | True | 0.18225202290217082 | 0.15500671695773482 | 3000 | 0.10876211524009705 | 0.8742152068160314 | 0.874028143812048 | 0.8756704628054444 |\n",
       "| 07/09/2024, 20:26:39 | ./Teamim-large-v2_WeightDecay-0.05_Augmented_Combined-Data_date-09-07-2024_16-25 | 8 | 1 | 1e-05 | 10 | 3000 | True | {'use_reentrant': False} | True | steps | 32 | True | None | 1000 | 1000 | 25 | ['tensorboard'] | True | avg_f1_Exact | True | True | 0.18418040355046592 | 0.15500671695773482 | 3000 | 0.10779104381799698 | 0.8753049831557934 | 0.8757985810756497 | 0.8760230096430711 |\n",
       "| 07/09/2024, 20:28:27 | ./Teamim-tiny_WeightDecay-0.05_Augmented_Old-Data_date-09-07-2024_20-24 | 8 | 1 | 1e-05 | 10 | 100 | True | {'use_reentrant': False} | True | steps | 32 | True | None | 100 | 100 | 1 | ['tensorboard'] | True | avg_f1_Exact | True | True | 3.929404218196869 | 0.011457378551787351 | 100 | 2.541598081588745 | 0.010927425159273266 | 0.011082292050566352 | 0.011376425839235756 |\n",
       "| 07/10/2024, 02:15:49 | ./Teamim-large-v2_WeightDecay-0.1_Augmented_Combined-Data_date-09-07-2024_22-34 | 8 | 1 | 1e-05 | 10 | 3000 | True | {'use_reentrant': False} | True | steps | 32 | True | None | 1000 | 1000 | 25 | ['tensorboard'] | True | avg_f1_Exact | True | True | 0.181333984653155 | 0.15500671695773482 | 3000 | 0.10994978994131088 | 0.8625706975697263 | 0.8618330635588181 | 0.8645391287123869 |\n",
       "| 07/10/2024, 10:50:00 | ./Teamim-tiny_WeightDecay-0.05_Augmented_New-Data_date-10-07-2024_10-45 | 32 | 1 | 1e-05 | 10 | 200 | True | {'use_reentrant': False} | True | steps | 32 | True | None | 200 | 200 | 1 | ['tensorboard'] | True | avg_f1_Exact | True | True | 5.8823949813842775 | 3.225806451612903 | 200 | 4.498262882232666 | 0.00515324005770875 | 0.00771854131152231 | 0.007464007685499971 |\n",
       "| 07/10/2024, 10:57:30 | ./Teamim-tiny_WeightDecay-0.05_Augmented_New-Data_date-10-07-2024_10-55 | 32 | 1 | 1e-05 | 10 | 200 | True | {'use_reentrant': False} | True | steps | 32 | True | None | 200 | 200 | 1 | ['tensorboard'] | True | avg_f1_Exact | True | True | 5.933233528137207 | 3.225806451612903 | 200 | 4.567381858825684 | 0.015275305979308354 | 0.01370306340988145 | 0.01776123605391898 |\n",
       "| 07/10/2024, 11:02:02 | ./Teamim-tiny_WeightDecay-0.05_Augmented_New-Data_date-10-07-2024_11-01 | 32 | 1 | 1e-05 | 10 | 20 | True | {'use_reentrant': False} | True | steps | 32 | True | None | 20 | 20 | 1 | ['tensorboard'] | True | avg_f1_Exact | True | True | 12.212247085571288 | 0.3225806451612903 | 20 | 10.23202133178711 | 0.0 | 0.0 | 0.0 |\n",
       "| 07/10/2024, 11:06:12 | ./Teamim-tiny_WeightDecay-0.05_Augmented_New-Data_date-10-07-2024_11-05 | 32 | 1 | 1e-05 | 10 | 20 | True | {'use_reentrant': False} | True | steps | 32 | True | None | 20 | 20 | 1 | ['tensorboard'] | True | avg_f1_Exact | True | True | 11.964767503738404 | 0.3225806451612903 | 20 | 10.37028980255127 | 0.0 | 0.0 | 0.0 |\n",
       "| 07/10/2024, 11:13:09 | ./Teamim-tiny_WeightDecay-0.05_Augmented_New-Data_date-10-07-2024_11-12 | 32 | 1 | 1e-05 | 10 | 20 | True | {'use_reentrant': False} | True | steps | 32 | True | None | 20 | 20 | 1 | ['tensorboard'] | True | avg_f1_Exact | True | True | 12.033249139785767 | 0.3225806451612903 | 20 | 10.375862121582031 | 0.0 | 0.0 | 0.0 |\n",
       "| 07/10/2024, 11:16:09 | ./Teamim-tiny_WeightDecay-0.05_Augmented_New-Data_date-10-07-2024_11-15 | 32 | 1 | 1e-05 | 10 | 20 | True | {'use_reentrant': False} | True | steps | 32 | True | 225 | 20 | 20 | 1 | ['tensorboard'] | True | avg_f1_Exact | True | True | 12.690243005752563 | 0.3225806451612903 | 20 | 10.641993522644043 | 0.0 | 0.0 | 0.0 |\n",
       "| 07/10/2024, 11:19:33 | ./Teamim-tiny_WeightDecay-0.05_Augmented_New-Data_date-10-07-2024_11-18 | 32 | 1 | 1e-05 | 10 | 20 | True | {'use_reentrant': False} | True | steps | 32 | True | 225 | 20 | 20 | 1 | ['tensorboard'] | True | avg_f1_Exact | True | True | 8.46168749332428 | 0.3225806451612903 | 20 | 5.885577201843262 | 0.0005421523448088912 | 0.00030432136335970786 | 0.0024813895781637717 |\n"
      ],
      "text/plain": [
       "<IPython.core.display.Markdown object>"
      ]
     },
     "metadata": {},
     "output_type": "display_data"
    }
   ],
   "source": [
    "#load the markdown file\n",
    "from IPython.display import Markdown\n",
    "\n",
    "# Open the file in read mode\n",
    "with open('./markdown_files/training_log_new.md', 'r') as file:\n",
    "    # Read the content of the file\n",
    "    content = file.read()\n",
    "\n",
    "# Display the content as Markdown\n",
    "display(Markdown(content))"
   ]
  },
  {
   "cell_type": "markdown",
   "metadata": {},
   "source": [
    "| Model Name | Model Name | data | steps | lr |\n",
    "|----------|----------|----------|--------|--------|\n",
    "| whisper-medium-he-teamim-base | medium | all | 10,000 | 3e-5 |\n",
    "| whisper-medium-he-teamim-ashkenazi-01 | base | ashkenazi | 9,000 | 1e-6 |\n",
    "\n",
    "\n"
   ]
  },
  {
   "cell_type": "markdown",
   "metadata": {},
   "source": [
    "# Test the model"
   ]
  },
  {
   "cell_type": "code",
   "execution_count": 35,
   "metadata": {},
   "outputs": [],
   "source": [
    "model_name = \"cantillation/Teamim-large-v2_Random-True_Augmented_date-26-06-2024_10-34-39\""
   ]
  },
  {
   "cell_type": "code",
   "execution_count": 36,
   "metadata": {},
   "outputs": [
    {
     "name": "stderr",
     "output_type": "stream",
     "text": [
      "Loading checkpoint shards: 100%|██████████| 2/2 [00:00<00:00,  2.15it/s]\n",
      "Special tokens have been added in the vocabulary, make sure the associated word embeddings are fine-tuned or trained.\n"
     ]
    }
   ],
   "source": [
    "# load the model\n",
    "model = WhisperForConditionalGeneration.from_pretrained(model_name)\n",
    "processor = WhisperProcessor.from_pretrained(model_name)\n",
    "\n",
    "# load the test data\n",
    "# test_data = parashat_hashavua_dataset(few_data=FASTTEST, train=False ,validation=False, test=True,  num_of_words_in_sample=4, nusachim=NUSACHIM, processor=processor)\n",
    "\n",
    "# create the data collator\n",
    "data_collator = DataCollatorSpeechSeq2SeqWithPadding(processor=processor)\n"
   ]
  },
  {
   "cell_type": "code",
   "execution_count": 37,
   "metadata": {},
   "outputs": [
    {
     "ename": "NameError",
     "evalue": "name 'test_data' is not defined",
     "output_type": "error",
     "traceback": [
      "\u001b[0;31m---------------------------------------------------------------------------\u001b[0m",
      "\u001b[0;31mNameError\u001b[0m                                 Traceback (most recent call last)",
      "Cell \u001b[0;32mIn[37], line 5\u001b[0m\n\u001b[1;32m      1\u001b[0m \u001b[38;5;28;01mfrom\u001b[39;00m \u001b[38;5;21;01mtransformers\u001b[39;00m \u001b[38;5;28;01mimport\u001b[39;00m Seq2SeqTrainer\n\u001b[1;32m      2\u001b[0m trainer \u001b[38;5;241m=\u001b[39m Seq2SeqTrainer(\n\u001b[1;32m      3\u001b[0m     args\u001b[38;5;241m=\u001b[39mtraining_args,\n\u001b[1;32m      4\u001b[0m     model\u001b[38;5;241m=\u001b[39mmodel,\n\u001b[0;32m----> 5\u001b[0m     eval_dataset\u001b[38;5;241m=\u001b[39m\u001b[43mtest_data\u001b[49m,\n\u001b[1;32m      6\u001b[0m     data_collator\u001b[38;5;241m=\u001b[39mdata_collator,\n\u001b[1;32m      7\u001b[0m     compute_metrics\u001b[38;5;241m=\u001b[39mcompute_metrics,\n\u001b[1;32m      8\u001b[0m     tokenizer\u001b[38;5;241m=\u001b[39mprocessor\u001b[38;5;241m.\u001b[39mfeature_extractor,\n\u001b[1;32m      9\u001b[0m )\n\u001b[1;32m     11\u001b[0m \u001b[38;5;66;03m# evaluate the model\u001b[39;00m\n\u001b[1;32m     12\u001b[0m results \u001b[38;5;241m=\u001b[39m trainer\u001b[38;5;241m.\u001b[39mevaluate() \u001b[38;5;66;03m# we use evaluate to get the metrics\u001b[39;00m\n",
      "\u001b[0;31mNameError\u001b[0m: name 'test_data' is not defined"
     ]
    }
   ],
   "source": [
    "from transformers import Seq2SeqTrainer\n",
    "trainer = Seq2SeqTrainer(\n",
    "    args=training_args,\n",
    "    model=model,\n",
    "    eval_dataset=test_data,\n",
    "    data_collator=data_collator,\n",
    "    compute_metrics=compute_metrics,\n",
    "    tokenizer=processor.feature_extractor,\n",
    ")\n",
    "\n",
    "# evaluate the model\n",
    "results = trainer.evaluate() # we use evaluate to get the metrics\n",
    "print(results)\n",
    "# save the results to a json file\n",
    "# create the results file\n",
    "with open(f\"results_{MODEL_NAME.split('/')[-1]}.json\", 'w') as f:\n",
    "    json.dump(results, f, indent=4)\n"
   ]
  },
  {
   "cell_type": "code",
   "execution_count": null,
   "metadata": {},
   "outputs": [],
   "source": [
    "# that was just on small test data, we need to evaluate on a bigger test data in the future !!!\n",
    "\n",
    "# The model that was trained only on one dataset (which is slightly more similar to the style of the test data)\n",
    "{'eval_loss': 0.7734131813049316, 'eval_wer': 61.811023622047244, 'eval_avg_precision_Exact': 0.46710057318055453, 'eval_avg_recall_Exact': 0.5216817130186114, 'eval_avg_f1_Exact': 0.4904648408291106, 'eval_avg_precision_Letter_Shift': 0.4789416732569487, 'eval_avg_recall_Letter_Shift': 0.5334662248031231, 'eval_avg_f1_Letter_Shift': 0.5022712162718498, 'eval_avg_precision_Word_Level': 0.500396535917345, 'eval_avg_recall_Word_Level': 0.5445642177192979, 'eval_avg_f1_Word_Level': 0.518676288124462, 'eval_avg_precision_Word_Shift': 0.5926319891153651, 'eval_avg_recall_Word_Shift': 0.6415232658013406, 'eval_avg_f1_Word_Shift': 0.6130332240673503, 'eval_precision_median_exact': 0.5185185185185185, 'eval_recall_median_exact': 0.5714285714285714, 'eval_f1_median_exact': 0.5384615384615384, 'eval_precision_max_exact': 0.7857142857142857, 'eval_recall_max_exact': 0.8181818181818182, 'eval_f1_max_exact': 0.8, 'eval_precision_min_Exact': 0.0, 'eval_recall_min_Exact': 0.0, 'eval_f1_min_Exact': 0.0, 'eval_precision_min_Letter_Shift': 0.0, 'eval_recall_min_Letter_Shift': 0.0, 'eval_f1_min_Letter_Shift': 0.0, 'eval_precision_min_Word_Level': 0.0, 'eval_recall_min_Word_Level': 0.0, 'eval_f1_min_Word_Level': 0.0, 'eval_precision_min_Word_Shift': 0.25, 'eval_recall_min_Word_Shift': 0.2777777777777778, 'eval_f1_min_Word_Shift': 0.2631578947368421}\n",
    "\n",
    "# The model that was trained on two datasets (the second dataset is much more different from the test data)\n",
    "{'eval_loss': 1.015082836151123, 'eval_wer': 61.811023622047244, 'eval_avg_precision_Exact': 0.49305580535527055, 'eval_avg_recall_Exact': 0.4932712533026013, 'eval_avg_f1_Exact': 0.49279243354847346, 'eval_avg_precision_Letter_Shift': 0.4963025586020238, 'eval_avg_recall_Letter_Shift': 0.4964060495408457, 'eval_avg_f1_Letter_Shift': 0.49598222621195037, 'eval_avg_precision_Word_Level': 0.5137405627001068, 'eval_avg_recall_Word_Level': 0.5019255300603264, 'eval_avg_f1_Word_Level': 0.5073072310311691, 'eval_avg_precision_Word_Shift': 0.6237927402365905, 'eval_avg_recall_Word_Shift': 0.613736202842786, 'eval_avg_f1_Word_Shift': 0.6182032164583927, 'eval_precision_median_exact': 0.5294117647058824, 'eval_recall_median_exact': 0.5416666666666666, 'eval_f1_median_exact': 0.5142857142857143, 'eval_precision_max_exact': 0.7142857142857143, 'eval_recall_max_exact': 0.6818181818181818, 'eval_f1_max_exact': 0.6976744186046512, 'eval_precision_min_Exact': 0.05, 'eval_recall_min_Exact': 0.05, 'eval_f1_min_Exact': 0.05000000000000001, 'eval_precision_min_Letter_Shift': 0.05, 'eval_recall_min_Letter_Shift': 0.05, 'eval_f1_min_Letter_Shift': 0.05000000000000001, 'eval_precision_min_Word_Level': 0.05, 'eval_recall_min_Word_Level': 0.05, 'eval_f1_min_Word_Level': 0.05000000000000001, 'eval_precision_min_Word_Shift': 0.3, 'eval_recall_min_Word_Shift': 0.3, 'eval_f1_min_Word_Shift': 0.3}\n",
    "\n",
    "# we can see that the model that was trained on two datasets has a higher f1 score"
   ]
  },
  {
   "cell_type": "code",
   "execution_count": null,
   "metadata": {},
   "outputs": [],
   "source": []
  }
 ],
 "metadata": {
  "accelerator": "GPU",
  "colab": {
   "gpuType": "T4",
   "provenance": []
  },
  "kernelspec": {
   "display_name": "Python 3 (ipykernel)",
   "language": "python",
   "name": "python3"
  },
  "language_info": {
   "codemirror_mode": {
    "name": "ipython",
    "version": 3
   },
   "file_extension": ".py",
   "mimetype": "text/x-python",
   "name": "python",
   "nbconvert_exporter": "python",
   "pygments_lexer": "ipython3",
   "version": "3.10.13"
  },
  "widgets": {
   "application/vnd.jupyter.widget-state+json": {
    "01faaca5760942e19ce23a2ceae7351b": {
     "model_module": "@jupyter-widgets/base",
     "model_module_version": "1.2.0",
     "model_name": "LayoutModel",
     "state": {
      "_model_module": "@jupyter-widgets/base",
      "_model_module_version": "1.2.0",
      "_model_name": "LayoutModel",
      "_view_count": null,
      "_view_module": "@jupyter-widgets/base",
      "_view_module_version": "1.2.0",
      "_view_name": "LayoutView",
      "align_content": null,
      "align_items": null,
      "align_self": null,
      "border": null,
      "bottom": null,
      "display": null,
      "flex": null,
      "flex_flow": null,
      "grid_area": null,
      "grid_auto_columns": null,
      "grid_auto_flow": null,
      "grid_auto_rows": null,
      "grid_column": null,
      "grid_gap": null,
      "grid_row": null,
      "grid_template_areas": null,
      "grid_template_columns": null,
      "grid_template_rows": null,
      "height": null,
      "justify_content": null,
      "justify_items": null,
      "left": null,
      "margin": null,
      "max_height": null,
      "max_width": null,
      "min_height": null,
      "min_width": null,
      "object_fit": null,
      "object_position": null,
      "order": null,
      "overflow": null,
      "overflow_x": null,
      "overflow_y": null,
      "padding": null,
      "right": null,
      "top": null,
      "visibility": null,
      "width": null
     }
    },
    "04d5cae97661408b89e36c56f7a4026e": {
     "model_module": "@jupyter-widgets/base",
     "model_module_version": "1.2.0",
     "model_name": "LayoutModel",
     "state": {
      "_model_module": "@jupyter-widgets/base",
      "_model_module_version": "1.2.0",
      "_model_name": "LayoutModel",
      "_view_count": null,
      "_view_module": "@jupyter-widgets/base",
      "_view_module_version": "1.2.0",
      "_view_name": "LayoutView",
      "align_content": null,
      "align_items": null,
      "align_self": null,
      "border": null,
      "bottom": null,
      "display": null,
      "flex": null,
      "flex_flow": null,
      "grid_area": null,
      "grid_auto_columns": null,
      "grid_auto_flow": null,
      "grid_auto_rows": null,
      "grid_column": null,
      "grid_gap": null,
      "grid_row": null,
      "grid_template_areas": null,
      "grid_template_columns": null,
      "grid_template_rows": null,
      "height": null,
      "justify_content": null,
      "justify_items": null,
      "left": null,
      "margin": null,
      "max_height": null,
      "max_width": null,
      "min_height": null,
      "min_width": null,
      "object_fit": null,
      "object_position": null,
      "order": null,
      "overflow": null,
      "overflow_x": null,
      "overflow_y": null,
      "padding": null,
      "right": null,
      "top": null,
      "visibility": null,
      "width": null
     }
    },
    "06ac5aaf19ed4abe831d57859fea50cd": {
     "model_module": "@jupyter-widgets/base",
     "model_module_version": "1.2.0",
     "model_name": "LayoutModel",
     "state": {
      "_model_module": "@jupyter-widgets/base",
      "_model_module_version": "1.2.0",
      "_model_name": "LayoutModel",
      "_view_count": null,
      "_view_module": "@jupyter-widgets/base",
      "_view_module_version": "1.2.0",
      "_view_name": "LayoutView",
      "align_content": null,
      "align_items": null,
      "align_self": null,
      "border": null,
      "bottom": null,
      "display": null,
      "flex": null,
      "flex_flow": null,
      "grid_area": null,
      "grid_auto_columns": null,
      "grid_auto_flow": null,
      "grid_auto_rows": null,
      "grid_column": null,
      "grid_gap": null,
      "grid_row": null,
      "grid_template_areas": null,
      "grid_template_columns": null,
      "grid_template_rows": null,
      "height": null,
      "justify_content": null,
      "justify_items": null,
      "left": null,
      "margin": null,
      "max_height": null,
      "max_width": null,
      "min_height": null,
      "min_width": null,
      "object_fit": null,
      "object_position": null,
      "order": null,
      "overflow": null,
      "overflow_x": null,
      "overflow_y": null,
      "padding": null,
      "right": null,
      "top": null,
      "visibility": null,
      "width": null
     }
    },
    "08687b2b049d4789b8448eb41351d752": {
     "model_module": "@jupyter-widgets/controls",
     "model_module_version": "1.5.0",
     "model_name": "DescriptionStyleModel",
     "state": {
      "_model_module": "@jupyter-widgets/controls",
      "_model_module_version": "1.5.0",
      "_model_name": "DescriptionStyleModel",
      "_view_count": null,
      "_view_module": "@jupyter-widgets/base",
      "_view_module_version": "1.2.0",
      "_view_name": "StyleView",
      "description_width": ""
     }
    },
    "0a80d2c631d0452bb97f23bcf8b46a50": {
     "model_module": "@jupyter-widgets/base",
     "model_module_version": "1.2.0",
     "model_name": "LayoutModel",
     "state": {
      "_model_module": "@jupyter-widgets/base",
      "_model_module_version": "1.2.0",
      "_model_name": "LayoutModel",
      "_view_count": null,
      "_view_module": "@jupyter-widgets/base",
      "_view_module_version": "1.2.0",
      "_view_name": "LayoutView",
      "align_content": null,
      "align_items": null,
      "align_self": null,
      "border": null,
      "bottom": null,
      "display": null,
      "flex": null,
      "flex_flow": null,
      "grid_area": null,
      "grid_auto_columns": null,
      "grid_auto_flow": null,
      "grid_auto_rows": null,
      "grid_column": null,
      "grid_gap": null,
      "grid_row": null,
      "grid_template_areas": null,
      "grid_template_columns": null,
      "grid_template_rows": null,
      "height": null,
      "justify_content": null,
      "justify_items": null,
      "left": null,
      "margin": null,
      "max_height": null,
      "max_width": null,
      "min_height": null,
      "min_width": null,
      "object_fit": null,
      "object_position": null,
      "order": null,
      "overflow": null,
      "overflow_x": null,
      "overflow_y": null,
      "padding": null,
      "right": null,
      "top": null,
      "visibility": null,
      "width": null
     }
    },
    "0c213ab36bcd4b1db96723a7df11da1c": {
     "model_module": "@jupyter-widgets/base",
     "model_module_version": "1.2.0",
     "model_name": "LayoutModel",
     "state": {
      "_model_module": "@jupyter-widgets/base",
      "_model_module_version": "1.2.0",
      "_model_name": "LayoutModel",
      "_view_count": null,
      "_view_module": "@jupyter-widgets/base",
      "_view_module_version": "1.2.0",
      "_view_name": "LayoutView",
      "align_content": null,
      "align_items": null,
      "align_self": null,
      "border": null,
      "bottom": null,
      "display": null,
      "flex": null,
      "flex_flow": null,
      "grid_area": null,
      "grid_auto_columns": null,
      "grid_auto_flow": null,
      "grid_auto_rows": null,
      "grid_column": null,
      "grid_gap": null,
      "grid_row": null,
      "grid_template_areas": null,
      "grid_template_columns": null,
      "grid_template_rows": null,
      "height": null,
      "justify_content": null,
      "justify_items": null,
      "left": null,
      "margin": null,
      "max_height": null,
      "max_width": null,
      "min_height": null,
      "min_width": null,
      "object_fit": null,
      "object_position": null,
      "order": null,
      "overflow": null,
      "overflow_x": null,
      "overflow_y": null,
      "padding": null,
      "right": null,
      "top": null,
      "visibility": null,
      "width": null
     }
    },
    "0ea3a85a270b4d7b8650f3e89fe5cfdb": {
     "model_module": "@jupyter-widgets/controls",
     "model_module_version": "1.5.0",
     "model_name": "DescriptionStyleModel",
     "state": {
      "_model_module": "@jupyter-widgets/controls",
      "_model_module_version": "1.5.0",
      "_model_name": "DescriptionStyleModel",
      "_view_count": null,
      "_view_module": "@jupyter-widgets/base",
      "_view_module_version": "1.2.0",
      "_view_name": "StyleView",
      "description_width": ""
     }
    },
    "100dabe937314a60a8d58a210cfb9aa6": {
     "model_module": "@jupyter-widgets/controls",
     "model_module_version": "1.5.0",
     "model_name": "ProgressStyleModel",
     "state": {
      "_model_module": "@jupyter-widgets/controls",
      "_model_module_version": "1.5.0",
      "_model_name": "ProgressStyleModel",
      "_view_count": null,
      "_view_module": "@jupyter-widgets/base",
      "_view_module_version": "1.2.0",
      "_view_name": "StyleView",
      "bar_color": null,
      "description_width": ""
     }
    },
    "10fb32887c78484e9208a870e310d587": {
     "model_module": "@jupyter-widgets/controls",
     "model_module_version": "1.5.0",
     "model_name": "HTMLModel",
     "state": {
      "_dom_classes": [],
      "_model_module": "@jupyter-widgets/controls",
      "_model_module_version": "1.5.0",
      "_model_name": "HTMLModel",
      "_view_count": null,
      "_view_module": "@jupyter-widgets/controls",
      "_view_module_version": "1.5.0",
      "_view_name": "HTMLView",
      "description": "",
      "description_tooltip": null,
      "layout": "IPY_MODEL_fa7cd3ad9e77456fa334bb5594376837",
      "placeholder": "​",
      "style": "IPY_MODEL_08687b2b049d4789b8448eb41351d752",
      "value": "vocab.json: 100%"
     }
    },
    "12c68f1f61094daeb54db0a55f44fc7c": {
     "model_module": "@jupyter-widgets/controls",
     "model_module_version": "1.5.0",
     "model_name": "DescriptionStyleModel",
     "state": {
      "_model_module": "@jupyter-widgets/controls",
      "_model_module_version": "1.5.0",
      "_model_name": "DescriptionStyleModel",
      "_view_count": null,
      "_view_module": "@jupyter-widgets/base",
      "_view_module_version": "1.2.0",
      "_view_name": "StyleView",
      "description_width": ""
     }
    },
    "133401d2f1fa42ec87ea6730a15b6dfe": {
     "model_module": "@jupyter-widgets/controls",
     "model_module_version": "1.5.0",
     "model_name": "HBoxModel",
     "state": {
      "_dom_classes": [],
      "_model_module": "@jupyter-widgets/controls",
      "_model_module_version": "1.5.0",
      "_model_name": "HBoxModel",
      "_view_count": null,
      "_view_module": "@jupyter-widgets/controls",
      "_view_module_version": "1.5.0",
      "_view_name": "HBoxView",
      "box_style": "",
      "children": [
       "IPY_MODEL_c4454aa4bca64e82b937a0c96ad566dc",
       "IPY_MODEL_9e9ffe6d3d834b15b150160fa9064feb",
       "IPY_MODEL_7110a1e0d21b4d26b564a940cf66c750"
      ],
      "layout": "IPY_MODEL_5bd61101ed7e4db2aa4b98a67a4cd7a8"
     }
    },
    "15e04991c6894be7ac9f9ec5a439a9db": {
     "model_module": "@jupyter-widgets/controls",
     "model_module_version": "1.5.0",
     "model_name": "DescriptionStyleModel",
     "state": {
      "_model_module": "@jupyter-widgets/controls",
      "_model_module_version": "1.5.0",
      "_model_name": "DescriptionStyleModel",
      "_view_count": null,
      "_view_module": "@jupyter-widgets/base",
      "_view_module_version": "1.2.0",
      "_view_name": "StyleView",
      "description_width": ""
     }
    },
    "16b45f394d444df4b4673b62e23e5a9a": {
     "model_module": "@jupyter-widgets/controls",
     "model_module_version": "1.5.0",
     "model_name": "HTMLModel",
     "state": {
      "_dom_classes": [],
      "_model_module": "@jupyter-widgets/controls",
      "_model_module_version": "1.5.0",
      "_model_name": "HTMLModel",
      "_view_count": null,
      "_view_module": "@jupyter-widgets/controls",
      "_view_module_version": "1.5.0",
      "_view_name": "HTMLView",
      "description": "",
      "description_tooltip": null,
      "layout": "IPY_MODEL_5245d189cbb040e59bffdb4d9e27080f",
      "placeholder": "​",
      "style": "IPY_MODEL_7a215547c92841c28fd5e458ee97a607",
      "value": " 52.7k/52.7k [00:00&lt;00:00, 903kB/s]"
     }
    },
    "185cd1ec26db4fc9be4e2428eb6fa8af": {
     "model_module": "@jupyter-widgets/controls",
     "model_module_version": "1.5.0",
     "model_name": "DescriptionStyleModel",
     "state": {
      "_model_module": "@jupyter-widgets/controls",
      "_model_module_version": "1.5.0",
      "_model_name": "DescriptionStyleModel",
      "_view_count": null,
      "_view_module": "@jupyter-widgets/base",
      "_view_module_version": "1.2.0",
      "_view_name": "StyleView",
      "description_width": ""
     }
    },
    "1b607f29b531437eb69ee394984361c8": {
     "model_module": "@jupyter-widgets/base",
     "model_module_version": "1.2.0",
     "model_name": "LayoutModel",
     "state": {
      "_model_module": "@jupyter-widgets/base",
      "_model_module_version": "1.2.0",
      "_model_name": "LayoutModel",
      "_view_count": null,
      "_view_module": "@jupyter-widgets/base",
      "_view_module_version": "1.2.0",
      "_view_name": "LayoutView",
      "align_content": null,
      "align_items": null,
      "align_self": null,
      "border": null,
      "bottom": null,
      "display": null,
      "flex": null,
      "flex_flow": null,
      "grid_area": null,
      "grid_auto_columns": null,
      "grid_auto_flow": null,
      "grid_auto_rows": null,
      "grid_column": null,
      "grid_gap": null,
      "grid_row": null,
      "grid_template_areas": null,
      "grid_template_columns": null,
      "grid_template_rows": null,
      "height": null,
      "justify_content": null,
      "justify_items": null,
      "left": null,
      "margin": null,
      "max_height": null,
      "max_width": null,
      "min_height": null,
      "min_width": null,
      "object_fit": null,
      "object_position": null,
      "order": null,
      "overflow": null,
      "overflow_x": null,
      "overflow_y": null,
      "padding": null,
      "right": null,
      "top": null,
      "visibility": null,
      "width": null
     }
    },
    "1bd92ac56ff645b58fa128917b196486": {
     "model_module": "@jupyter-widgets/controls",
     "model_module_version": "1.5.0",
     "model_name": "ProgressStyleModel",
     "state": {
      "_model_module": "@jupyter-widgets/controls",
      "_model_module_version": "1.5.0",
      "_model_name": "ProgressStyleModel",
      "_view_count": null,
      "_view_module": "@jupyter-widgets/base",
      "_view_module_version": "1.2.0",
      "_view_name": "StyleView",
      "bar_color": null,
      "description_width": ""
     }
    },
    "21ceafb8ada744a0913d70c323f7e9ff": {
     "model_module": "@jupyter-widgets/base",
     "model_module_version": "1.2.0",
     "model_name": "LayoutModel",
     "state": {
      "_model_module": "@jupyter-widgets/base",
      "_model_module_version": "1.2.0",
      "_model_name": "LayoutModel",
      "_view_count": null,
      "_view_module": "@jupyter-widgets/base",
      "_view_module_version": "1.2.0",
      "_view_name": "LayoutView",
      "align_content": null,
      "align_items": null,
      "align_self": null,
      "border": null,
      "bottom": null,
      "display": null,
      "flex": null,
      "flex_flow": null,
      "grid_area": null,
      "grid_auto_columns": null,
      "grid_auto_flow": null,
      "grid_auto_rows": null,
      "grid_column": null,
      "grid_gap": null,
      "grid_row": null,
      "grid_template_areas": null,
      "grid_template_columns": null,
      "grid_template_rows": null,
      "height": null,
      "justify_content": null,
      "justify_items": null,
      "left": null,
      "margin": null,
      "max_height": null,
      "max_width": null,
      "min_height": null,
      "min_width": null,
      "object_fit": null,
      "object_position": null,
      "order": null,
      "overflow": null,
      "overflow_x": null,
      "overflow_y": null,
      "padding": null,
      "right": null,
      "top": null,
      "visibility": null,
      "width": null
     }
    },
    "2242f7a8c58340548fa7f42903a57ba5": {
     "model_module": "@jupyter-widgets/base",
     "model_module_version": "1.2.0",
     "model_name": "LayoutModel",
     "state": {
      "_model_module": "@jupyter-widgets/base",
      "_model_module_version": "1.2.0",
      "_model_name": "LayoutModel",
      "_view_count": null,
      "_view_module": "@jupyter-widgets/base",
      "_view_module_version": "1.2.0",
      "_view_name": "LayoutView",
      "align_content": null,
      "align_items": null,
      "align_self": null,
      "border": null,
      "bottom": null,
      "display": null,
      "flex": null,
      "flex_flow": null,
      "grid_area": null,
      "grid_auto_columns": null,
      "grid_auto_flow": null,
      "grid_auto_rows": null,
      "grid_column": null,
      "grid_gap": null,
      "grid_row": null,
      "grid_template_areas": null,
      "grid_template_columns": null,
      "grid_template_rows": null,
      "height": null,
      "justify_content": null,
      "justify_items": null,
      "left": null,
      "margin": null,
      "max_height": null,
      "max_width": null,
      "min_height": null,
      "min_width": null,
      "object_fit": null,
      "object_position": null,
      "order": null,
      "overflow": null,
      "overflow_x": null,
      "overflow_y": null,
      "padding": null,
      "right": null,
      "top": null,
      "visibility": null,
      "width": null
     }
    },
    "22addcb748c44dda8ea77a6a546d63fa": {
     "model_module": "@jupyter-widgets/controls",
     "model_module_version": "1.5.0",
     "model_name": "DescriptionStyleModel",
     "state": {
      "_model_module": "@jupyter-widgets/controls",
      "_model_module_version": "1.5.0",
      "_model_name": "DescriptionStyleModel",
      "_view_count": null,
      "_view_module": "@jupyter-widgets/base",
      "_view_module_version": "1.2.0",
      "_view_name": "StyleView",
      "description_width": ""
     }
    },
    "23fc529d69324e719c944468edb644fc": {
     "model_module": "@jupyter-widgets/controls",
     "model_module_version": "1.5.0",
     "model_name": "FloatProgressModel",
     "state": {
      "_dom_classes": [],
      "_model_module": "@jupyter-widgets/controls",
      "_model_module_version": "1.5.0",
      "_model_name": "FloatProgressModel",
      "_view_count": null,
      "_view_module": "@jupyter-widgets/controls",
      "_view_module_version": "1.5.0",
      "_view_name": "ProgressView",
      "bar_style": "success",
      "description": "",
      "description_tooltip": null,
      "layout": "IPY_MODEL_0a80d2c631d0452bb97f23bcf8b46a50",
      "max": 2480452,
      "min": 0,
      "orientation": "horizontal",
      "style": "IPY_MODEL_a5fb0e2907a24c6ca57c1f1aef97b07f",
      "value": 2480452
     }
    },
    "24640a92d2b143a79a5df55bbd8d44fa": {
     "model_module": "@jupyter-widgets/base",
     "model_module_version": "1.2.0",
     "model_name": "LayoutModel",
     "state": {
      "_model_module": "@jupyter-widgets/base",
      "_model_module_version": "1.2.0",
      "_model_name": "LayoutModel",
      "_view_count": null,
      "_view_module": "@jupyter-widgets/base",
      "_view_module_version": "1.2.0",
      "_view_name": "LayoutView",
      "align_content": null,
      "align_items": null,
      "align_self": null,
      "border": null,
      "bottom": null,
      "display": null,
      "flex": null,
      "flex_flow": null,
      "grid_area": null,
      "grid_auto_columns": null,
      "grid_auto_flow": null,
      "grid_auto_rows": null,
      "grid_column": null,
      "grid_gap": null,
      "grid_row": null,
      "grid_template_areas": null,
      "grid_template_columns": null,
      "grid_template_rows": null,
      "height": null,
      "justify_content": null,
      "justify_items": null,
      "left": null,
      "margin": null,
      "max_height": null,
      "max_width": null,
      "min_height": null,
      "min_width": null,
      "object_fit": null,
      "object_position": null,
      "order": null,
      "overflow": null,
      "overflow_x": null,
      "overflow_y": null,
      "padding": null,
      "right": null,
      "top": null,
      "visibility": null,
      "width": null
     }
    },
    "27c16a4bbf30486399809e23298c6c7d": {
     "model_module": "@jupyter-widgets/base",
     "model_module_version": "1.2.0",
     "model_name": "LayoutModel",
     "state": {
      "_model_module": "@jupyter-widgets/base",
      "_model_module_version": "1.2.0",
      "_model_name": "LayoutModel",
      "_view_count": null,
      "_view_module": "@jupyter-widgets/base",
      "_view_module_version": "1.2.0",
      "_view_name": "LayoutView",
      "align_content": null,
      "align_items": null,
      "align_self": null,
      "border": null,
      "bottom": null,
      "display": null,
      "flex": null,
      "flex_flow": null,
      "grid_area": null,
      "grid_auto_columns": null,
      "grid_auto_flow": null,
      "grid_auto_rows": null,
      "grid_column": null,
      "grid_gap": null,
      "grid_row": null,
      "grid_template_areas": null,
      "grid_template_columns": null,
      "grid_template_rows": null,
      "height": null,
      "justify_content": null,
      "justify_items": null,
      "left": null,
      "margin": null,
      "max_height": null,
      "max_width": null,
      "min_height": null,
      "min_width": null,
      "object_fit": null,
      "object_position": null,
      "order": null,
      "overflow": null,
      "overflow_x": null,
      "overflow_y": null,
      "padding": null,
      "right": null,
      "top": null,
      "visibility": null,
      "width": null
     }
    },
    "2cd16c713b1e448cbe56d7b645526974": {
     "model_module": "@jupyter-widgets/controls",
     "model_module_version": "1.5.0",
     "model_name": "HBoxModel",
     "state": {
      "_dom_classes": [],
      "_model_module": "@jupyter-widgets/controls",
      "_model_module_version": "1.5.0",
      "_model_name": "HBoxModel",
      "_view_count": null,
      "_view_module": "@jupyter-widgets/controls",
      "_view_module_version": "1.5.0",
      "_view_name": "HBoxView",
      "box_style": "",
      "children": [
       "IPY_MODEL_fefb0bd8e24e4b10b338079c09138a6d",
       "IPY_MODEL_23fc529d69324e719c944468edb644fc",
       "IPY_MODEL_538dd0816a67491395b2091a7d27a2a4"
      ],
      "layout": "IPY_MODEL_96d3147f58114a1b86d44588746ae430"
     }
    },
    "2cd82edd43284cbaae30a2c136fe88a6": {
     "model_module": "@jupyter-widgets/base",
     "model_module_version": "1.2.0",
     "model_name": "LayoutModel",
     "state": {
      "_model_module": "@jupyter-widgets/base",
      "_model_module_version": "1.2.0",
      "_model_name": "LayoutModel",
      "_view_count": null,
      "_view_module": "@jupyter-widgets/base",
      "_view_module_version": "1.2.0",
      "_view_name": "LayoutView",
      "align_content": null,
      "align_items": null,
      "align_self": null,
      "border": null,
      "bottom": null,
      "display": null,
      "flex": null,
      "flex_flow": null,
      "grid_area": null,
      "grid_auto_columns": null,
      "grid_auto_flow": null,
      "grid_auto_rows": null,
      "grid_column": null,
      "grid_gap": null,
      "grid_row": null,
      "grid_template_areas": null,
      "grid_template_columns": null,
      "grid_template_rows": null,
      "height": null,
      "justify_content": null,
      "justify_items": null,
      "left": null,
      "margin": null,
      "max_height": null,
      "max_width": null,
      "min_height": null,
      "min_width": null,
      "object_fit": null,
      "object_position": null,
      "order": null,
      "overflow": null,
      "overflow_x": null,
      "overflow_y": null,
      "padding": null,
      "right": null,
      "top": null,
      "visibility": null,
      "width": null
     }
    },
    "2e0d4c7ac8a843458171c4621c6542ad": {
     "model_module": "@jupyter-widgets/base",
     "model_module_version": "1.2.0",
     "model_name": "LayoutModel",
     "state": {
      "_model_module": "@jupyter-widgets/base",
      "_model_module_version": "1.2.0",
      "_model_name": "LayoutModel",
      "_view_count": null,
      "_view_module": "@jupyter-widgets/base",
      "_view_module_version": "1.2.0",
      "_view_name": "LayoutView",
      "align_content": null,
      "align_items": null,
      "align_self": null,
      "border": null,
      "bottom": null,
      "display": null,
      "flex": null,
      "flex_flow": null,
      "grid_area": null,
      "grid_auto_columns": null,
      "grid_auto_flow": null,
      "grid_auto_rows": null,
      "grid_column": null,
      "grid_gap": null,
      "grid_row": null,
      "grid_template_areas": null,
      "grid_template_columns": null,
      "grid_template_rows": null,
      "height": null,
      "justify_content": null,
      "justify_items": null,
      "left": null,
      "margin": null,
      "max_height": null,
      "max_width": null,
      "min_height": null,
      "min_width": null,
      "object_fit": null,
      "object_position": null,
      "order": null,
      "overflow": null,
      "overflow_x": null,
      "overflow_y": null,
      "padding": null,
      "right": null,
      "top": null,
      "visibility": null,
      "width": null
     }
    },
    "316a81bbcf3b405e9a94d257d4533f3a": {
     "model_module": "@jupyter-widgets/controls",
     "model_module_version": "1.5.0",
     "model_name": "HBoxModel",
     "state": {
      "_dom_classes": [],
      "_model_module": "@jupyter-widgets/controls",
      "_model_module_version": "1.5.0",
      "_model_name": "HBoxModel",
      "_view_count": null,
      "_view_module": "@jupyter-widgets/controls",
      "_view_module_version": "1.5.0",
      "_view_name": "HBoxView",
      "box_style": "",
      "children": [
       "IPY_MODEL_e2c168b61eb245cb95bbafb1b7eb634a",
       "IPY_MODEL_71b051da44964e9a88a3cfca6dbe97ef",
       "IPY_MODEL_e139e59deda04a26b72af44980c05f8d"
      ],
      "layout": "IPY_MODEL_21ceafb8ada744a0913d70c323f7e9ff"
     }
    },
    "33dcf8564d2244d0adde04ce42025fc7": {
     "model_module": "@jupyter-widgets/controls",
     "model_module_version": "1.5.0",
     "model_name": "HBoxModel",
     "state": {
      "_dom_classes": [],
      "_model_module": "@jupyter-widgets/controls",
      "_model_module_version": "1.5.0",
      "_model_name": "HBoxModel",
      "_view_count": null,
      "_view_module": "@jupyter-widgets/controls",
      "_view_module_version": "1.5.0",
      "_view_name": "HBoxView",
      "box_style": "",
      "children": [
       "IPY_MODEL_abf73c08d2d949f8afb7fee0fca3ffcb",
       "IPY_MODEL_510c16bd2a924ab280309e953496190e",
       "IPY_MODEL_e9543234fc264713b087f55906497c2c"
      ],
      "layout": "IPY_MODEL_cfc79a2ce18045e587edd9046934d9ac"
     }
    },
    "3f15f8c19f1949b789d2b63dcb1a7656": {
     "model_module": "@jupyter-widgets/base",
     "model_module_version": "1.2.0",
     "model_name": "LayoutModel",
     "state": {
      "_model_module": "@jupyter-widgets/base",
      "_model_module_version": "1.2.0",
      "_model_name": "LayoutModel",
      "_view_count": null,
      "_view_module": "@jupyter-widgets/base",
      "_view_module_version": "1.2.0",
      "_view_name": "LayoutView",
      "align_content": null,
      "align_items": null,
      "align_self": null,
      "border": null,
      "bottom": null,
      "display": null,
      "flex": null,
      "flex_flow": null,
      "grid_area": null,
      "grid_auto_columns": null,
      "grid_auto_flow": null,
      "grid_auto_rows": null,
      "grid_column": null,
      "grid_gap": null,
      "grid_row": null,
      "grid_template_areas": null,
      "grid_template_columns": null,
      "grid_template_rows": null,
      "height": null,
      "justify_content": null,
      "justify_items": null,
      "left": null,
      "margin": null,
      "max_height": null,
      "max_width": null,
      "min_height": null,
      "min_width": null,
      "object_fit": null,
      "object_position": null,
      "order": null,
      "overflow": null,
      "overflow_x": null,
      "overflow_y": null,
      "padding": null,
      "right": null,
      "top": null,
      "visibility": null,
      "width": null
     }
    },
    "4143d82c179e4dfdb1d0410dd43dfe4b": {
     "model_module": "@jupyter-widgets/controls",
     "model_module_version": "1.5.0",
     "model_name": "HTMLModel",
     "state": {
      "_dom_classes": [],
      "_model_module": "@jupyter-widgets/controls",
      "_model_module_version": "1.5.0",
      "_model_name": "HTMLModel",
      "_view_count": null,
      "_view_module": "@jupyter-widgets/controls",
      "_view_module_version": "1.5.0",
      "_view_name": "HTMLView",
      "description": "",
      "description_tooltip": null,
      "layout": "IPY_MODEL_3f15f8c19f1949b789d2b63dcb1a7656",
      "placeholder": "​",
      "style": "IPY_MODEL_9f4d37ee7302483f9150da8adf395af1",
      "value": " 494k/494k [00:00&lt;00:00, 12.1MB/s]"
     }
    },
    "49145c534efc4c04a755c56f7744a653": {
     "model_module": "@jupyter-widgets/base",
     "model_module_version": "1.2.0",
     "model_name": "LayoutModel",
     "state": {
      "_model_module": "@jupyter-widgets/base",
      "_model_module_version": "1.2.0",
      "_model_name": "LayoutModel",
      "_view_count": null,
      "_view_module": "@jupyter-widgets/base",
      "_view_module_version": "1.2.0",
      "_view_name": "LayoutView",
      "align_content": null,
      "align_items": null,
      "align_self": null,
      "border": null,
      "bottom": null,
      "display": null,
      "flex": null,
      "flex_flow": null,
      "grid_area": null,
      "grid_auto_columns": null,
      "grid_auto_flow": null,
      "grid_auto_rows": null,
      "grid_column": null,
      "grid_gap": null,
      "grid_row": null,
      "grid_template_areas": null,
      "grid_template_columns": null,
      "grid_template_rows": null,
      "height": null,
      "justify_content": null,
      "justify_items": null,
      "left": null,
      "margin": null,
      "max_height": null,
      "max_width": null,
      "min_height": null,
      "min_width": null,
      "object_fit": null,
      "object_position": null,
      "order": null,
      "overflow": null,
      "overflow_x": null,
      "overflow_y": null,
      "padding": null,
      "right": null,
      "top": null,
      "visibility": null,
      "width": null
     }
    },
    "4db6e9f35e7f4d39bfd86a98379be401": {
     "model_module": "@jupyter-widgets/base",
     "model_module_version": "1.2.0",
     "model_name": "LayoutModel",
     "state": {
      "_model_module": "@jupyter-widgets/base",
      "_model_module_version": "1.2.0",
      "_model_name": "LayoutModel",
      "_view_count": null,
      "_view_module": "@jupyter-widgets/base",
      "_view_module_version": "1.2.0",
      "_view_name": "LayoutView",
      "align_content": null,
      "align_items": null,
      "align_self": null,
      "border": null,
      "bottom": null,
      "display": null,
      "flex": null,
      "flex_flow": null,
      "grid_area": null,
      "grid_auto_columns": null,
      "grid_auto_flow": null,
      "grid_auto_rows": null,
      "grid_column": null,
      "grid_gap": null,
      "grid_row": null,
      "grid_template_areas": null,
      "grid_template_columns": null,
      "grid_template_rows": null,
      "height": null,
      "justify_content": null,
      "justify_items": null,
      "left": null,
      "margin": null,
      "max_height": null,
      "max_width": null,
      "min_height": null,
      "min_width": null,
      "object_fit": null,
      "object_position": null,
      "order": null,
      "overflow": null,
      "overflow_x": null,
      "overflow_y": null,
      "padding": null,
      "right": null,
      "top": null,
      "visibility": null,
      "width": null
     }
    },
    "4e938c64a5594900a997f957b36b4680": {
     "model_module": "@jupyter-widgets/controls",
     "model_module_version": "1.5.0",
     "model_name": "HTMLModel",
     "state": {
      "_dom_classes": [],
      "_model_module": "@jupyter-widgets/controls",
      "_model_module_version": "1.5.0",
      "_model_name": "HTMLModel",
      "_view_count": null,
      "_view_module": "@jupyter-widgets/controls",
      "_view_module_version": "1.5.0",
      "_view_name": "HTMLView",
      "description": "",
      "description_tooltip": null,
      "layout": "IPY_MODEL_2e0d4c7ac8a843458171c4621c6542ad",
      "placeholder": "​",
      "style": "IPY_MODEL_12c68f1f61094daeb54db0a55f44fc7c",
      "value": " 2.08k/2.08k [00:00&lt;00:00, 65.7kB/s]"
     }
    },
    "510c16bd2a924ab280309e953496190e": {
     "model_module": "@jupyter-widgets/controls",
     "model_module_version": "1.5.0",
     "model_name": "FloatProgressModel",
     "state": {
      "_dom_classes": [],
      "_model_module": "@jupyter-widgets/controls",
      "_model_module_version": "1.5.0",
      "_model_name": "FloatProgressModel",
      "_view_count": null,
      "_view_module": "@jupyter-widgets/controls",
      "_view_module_version": "1.5.0",
      "_view_name": "ProgressView",
      "bar_style": "success",
      "description": "",
      "description_tooltip": null,
      "layout": "IPY_MODEL_24640a92d2b143a79a5df55bbd8d44fa",
      "max": 34604,
      "min": 0,
      "orientation": "horizontal",
      "style": "IPY_MODEL_519b109bed9f4661a1311f48a712b562",
      "value": 34604
     }
    },
    "519b109bed9f4661a1311f48a712b562": {
     "model_module": "@jupyter-widgets/controls",
     "model_module_version": "1.5.0",
     "model_name": "ProgressStyleModel",
     "state": {
      "_model_module": "@jupyter-widgets/controls",
      "_model_module_version": "1.5.0",
      "_model_name": "ProgressStyleModel",
      "_view_count": null,
      "_view_module": "@jupyter-widgets/base",
      "_view_module_version": "1.2.0",
      "_view_name": "StyleView",
      "bar_color": null,
      "description_width": ""
     }
    },
    "5245d189cbb040e59bffdb4d9e27080f": {
     "model_module": "@jupyter-widgets/base",
     "model_module_version": "1.2.0",
     "model_name": "LayoutModel",
     "state": {
      "_model_module": "@jupyter-widgets/base",
      "_model_module_version": "1.2.0",
      "_model_name": "LayoutModel",
      "_view_count": null,
      "_view_module": "@jupyter-widgets/base",
      "_view_module_version": "1.2.0",
      "_view_name": "LayoutView",
      "align_content": null,
      "align_items": null,
      "align_self": null,
      "border": null,
      "bottom": null,
      "display": null,
      "flex": null,
      "flex_flow": null,
      "grid_area": null,
      "grid_auto_columns": null,
      "grid_auto_flow": null,
      "grid_auto_rows": null,
      "grid_column": null,
      "grid_gap": null,
      "grid_row": null,
      "grid_template_areas": null,
      "grid_template_columns": null,
      "grid_template_rows": null,
      "height": null,
      "justify_content": null,
      "justify_items": null,
      "left": null,
      "margin": null,
      "max_height": null,
      "max_width": null,
      "min_height": null,
      "min_width": null,
      "object_fit": null,
      "object_position": null,
      "order": null,
      "overflow": null,
      "overflow_x": null,
      "overflow_y": null,
      "padding": null,
      "right": null,
      "top": null,
      "visibility": null,
      "width": null
     }
    },
    "538dd0816a67491395b2091a7d27a2a4": {
     "model_module": "@jupyter-widgets/controls",
     "model_module_version": "1.5.0",
     "model_name": "HTMLModel",
     "state": {
      "_dom_classes": [],
      "_model_module": "@jupyter-widgets/controls",
      "_model_module_version": "1.5.0",
      "_model_name": "HTMLModel",
      "_view_count": null,
      "_view_module": "@jupyter-widgets/controls",
      "_view_module_version": "1.5.0",
      "_view_name": "HTMLView",
      "description": "",
      "description_tooltip": null,
      "layout": "IPY_MODEL_06ac5aaf19ed4abe831d57859fea50cd",
      "placeholder": "​",
      "style": "IPY_MODEL_22addcb748c44dda8ea77a6a546d63fa",
      "value": " 2.48M/2.48M [00:00&lt;00:00, 9.35MB/s]"
     }
    },
    "5888f6a638f7433f824762fff4fa7a67": {
     "model_module": "@jupyter-widgets/controls",
     "model_module_version": "1.5.0",
     "model_name": "DescriptionStyleModel",
     "state": {
      "_model_module": "@jupyter-widgets/controls",
      "_model_module_version": "1.5.0",
      "_model_name": "DescriptionStyleModel",
      "_view_count": null,
      "_view_module": "@jupyter-widgets/base",
      "_view_module_version": "1.2.0",
      "_view_name": "StyleView",
      "description_width": ""
     }
    },
    "59fec107f8b544f4aab87649641d9b59": {
     "model_module": "@jupyter-widgets/controls",
     "model_module_version": "1.5.0",
     "model_name": "DescriptionStyleModel",
     "state": {
      "_model_module": "@jupyter-widgets/controls",
      "_model_module_version": "1.5.0",
      "_model_name": "DescriptionStyleModel",
      "_view_count": null,
      "_view_module": "@jupyter-widgets/base",
      "_view_module_version": "1.2.0",
      "_view_name": "StyleView",
      "description_width": ""
     }
    },
    "5bd61101ed7e4db2aa4b98a67a4cd7a8": {
     "model_module": "@jupyter-widgets/base",
     "model_module_version": "1.2.0",
     "model_name": "LayoutModel",
     "state": {
      "_model_module": "@jupyter-widgets/base",
      "_model_module_version": "1.2.0",
      "_model_name": "LayoutModel",
      "_view_count": null,
      "_view_module": "@jupyter-widgets/base",
      "_view_module_version": "1.2.0",
      "_view_name": "LayoutView",
      "align_content": null,
      "align_items": null,
      "align_self": null,
      "border": null,
      "bottom": null,
      "display": null,
      "flex": null,
      "flex_flow": null,
      "grid_area": null,
      "grid_auto_columns": null,
      "grid_auto_flow": null,
      "grid_auto_rows": null,
      "grid_column": null,
      "grid_gap": null,
      "grid_row": null,
      "grid_template_areas": null,
      "grid_template_columns": null,
      "grid_template_rows": null,
      "height": null,
      "justify_content": null,
      "justify_items": null,
      "left": null,
      "margin": null,
      "max_height": null,
      "max_width": null,
      "min_height": null,
      "min_width": null,
      "object_fit": null,
      "object_position": null,
      "order": null,
      "overflow": null,
      "overflow_x": null,
      "overflow_y": null,
      "padding": null,
      "right": null,
      "top": null,
      "visibility": null,
      "width": null
     }
    },
    "5cb6bcd290ff4f32999e8d1b979d5e3d": {
     "model_module": "@jupyter-widgets/controls",
     "model_module_version": "1.5.0",
     "model_name": "FloatProgressModel",
     "state": {
      "_dom_classes": [],
      "_model_module": "@jupyter-widgets/controls",
      "_model_module_version": "1.5.0",
      "_model_name": "FloatProgressModel",
      "_view_count": null,
      "_view_module": "@jupyter-widgets/controls",
      "_view_module_version": "1.5.0",
      "_view_name": "ProgressView",
      "bar_style": "success",
      "description": "",
      "description_tooltip": null,
      "layout": "IPY_MODEL_2242f7a8c58340548fa7f42903a57ba5",
      "max": 493864,
      "min": 0,
      "orientation": "horizontal",
      "style": "IPY_MODEL_100dabe937314a60a8d58a210cfb9aa6",
      "value": 493864
     }
    },
    "6157f3fa11594fd6954f2d1846f73b32": {
     "model_module": "@jupyter-widgets/base",
     "model_module_version": "1.2.0",
     "model_name": "LayoutModel",
     "state": {
      "_model_module": "@jupyter-widgets/base",
      "_model_module_version": "1.2.0",
      "_model_name": "LayoutModel",
      "_view_count": null,
      "_view_module": "@jupyter-widgets/base",
      "_view_module_version": "1.2.0",
      "_view_name": "LayoutView",
      "align_content": null,
      "align_items": null,
      "align_self": null,
      "border": null,
      "bottom": null,
      "display": null,
      "flex": null,
      "flex_flow": null,
      "grid_area": null,
      "grid_auto_columns": null,
      "grid_auto_flow": null,
      "grid_auto_rows": null,
      "grid_column": null,
      "grid_gap": null,
      "grid_row": null,
      "grid_template_areas": null,
      "grid_template_columns": null,
      "grid_template_rows": null,
      "height": null,
      "justify_content": null,
      "justify_items": null,
      "left": null,
      "margin": null,
      "max_height": null,
      "max_width": null,
      "min_height": null,
      "min_width": null,
      "object_fit": null,
      "object_position": null,
      "order": null,
      "overflow": null,
      "overflow_x": null,
      "overflow_y": null,
      "padding": null,
      "right": null,
      "top": null,
      "visibility": null,
      "width": null
     }
    },
    "64e6654cda3d488b9221b22528c8e587": {
     "model_module": "@jupyter-widgets/controls",
     "model_module_version": "1.5.0",
     "model_name": "HTMLModel",
     "state": {
      "_dom_classes": [],
      "_model_module": "@jupyter-widgets/controls",
      "_model_module_version": "1.5.0",
      "_model_name": "HTMLModel",
      "_view_count": null,
      "_view_module": "@jupyter-widgets/controls",
      "_view_module_version": "1.5.0",
      "_view_name": "HTMLView",
      "description": "",
      "description_tooltip": null,
      "layout": "IPY_MODEL_c406f962c1364f4fb2a557b785621c8c",
      "placeholder": "​",
      "style": "IPY_MODEL_185cd1ec26db4fc9be4e2428eb6fa8af",
      "value": "normalizer.json: 100%"
     }
    },
    "6800636d2c8b429eac1ffd4ad2e0b562": {
     "model_module": "@jupyter-widgets/controls",
     "model_module_version": "1.5.0",
     "model_name": "DescriptionStyleModel",
     "state": {
      "_model_module": "@jupyter-widgets/controls",
      "_model_module_version": "1.5.0",
      "_model_name": "DescriptionStyleModel",
      "_view_count": null,
      "_view_module": "@jupyter-widgets/base",
      "_view_module_version": "1.2.0",
      "_view_name": "StyleView",
      "description_width": ""
     }
    },
    "6a4478f248e84866b3d21436aa5ea9ee": {
     "model_module": "@jupyter-widgets/controls",
     "model_module_version": "1.5.0",
     "model_name": "ProgressStyleModel",
     "state": {
      "_model_module": "@jupyter-widgets/controls",
      "_model_module_version": "1.5.0",
      "_model_name": "ProgressStyleModel",
      "_view_count": null,
      "_view_module": "@jupyter-widgets/base",
      "_view_module_version": "1.2.0",
      "_view_name": "StyleView",
      "bar_color": null,
      "description_width": ""
     }
    },
    "7110a1e0d21b4d26b564a940cf66c750": {
     "model_module": "@jupyter-widgets/controls",
     "model_module_version": "1.5.0",
     "model_name": "HTMLModel",
     "state": {
      "_dom_classes": [],
      "_model_module": "@jupyter-widgets/controls",
      "_model_module_version": "1.5.0",
      "_model_name": "HTMLModel",
      "_view_count": null,
      "_view_module": "@jupyter-widgets/controls",
      "_view_module_version": "1.5.0",
      "_view_name": "HTMLView",
      "description": "",
      "description_tooltip": null,
      "layout": "IPY_MODEL_f9d61d0a94e142f691e5130fa9a66423",
      "placeholder": "​",
      "style": "IPY_MODEL_9c5767c57dcb471382ee157a477ed347",
      "value": " 805/805 [00:00&lt;00:00, 16.5kB/s]"
     }
    },
    "7164e2022ebe4e918d90e66543066152": {
     "model_module": "@jupyter-widgets/base",
     "model_module_version": "1.2.0",
     "model_name": "LayoutModel",
     "state": {
      "_model_module": "@jupyter-widgets/base",
      "_model_module_version": "1.2.0",
      "_model_name": "LayoutModel",
      "_view_count": null,
      "_view_module": "@jupyter-widgets/base",
      "_view_module_version": "1.2.0",
      "_view_name": "LayoutView",
      "align_content": null,
      "align_items": null,
      "align_self": null,
      "border": null,
      "bottom": null,
      "display": null,
      "flex": null,
      "flex_flow": null,
      "grid_area": null,
      "grid_auto_columns": null,
      "grid_auto_flow": null,
      "grid_auto_rows": null,
      "grid_column": null,
      "grid_gap": null,
      "grid_row": null,
      "grid_template_areas": null,
      "grid_template_columns": null,
      "grid_template_rows": null,
      "height": null,
      "justify_content": null,
      "justify_items": null,
      "left": null,
      "margin": null,
      "max_height": null,
      "max_width": null,
      "min_height": null,
      "min_width": null,
      "object_fit": null,
      "object_position": null,
      "order": null,
      "overflow": null,
      "overflow_x": null,
      "overflow_y": null,
      "padding": null,
      "right": null,
      "top": null,
      "visibility": null,
      "width": null
     }
    },
    "71b051da44964e9a88a3cfca6dbe97ef": {
     "model_module": "@jupyter-widgets/controls",
     "model_module_version": "1.5.0",
     "model_name": "FloatProgressModel",
     "state": {
      "_dom_classes": [],
      "_model_module": "@jupyter-widgets/controls",
      "_model_module_version": "1.5.0",
      "_model_name": "FloatProgressModel",
      "_view_count": null,
      "_view_module": "@jupyter-widgets/controls",
      "_view_module_version": "1.5.0",
      "_view_name": "ProgressView",
      "bar_style": "success",
      "description": "",
      "description_tooltip": null,
      "layout": "IPY_MODEL_939d7a5d9c3f47ac94d6d06509239d73",
      "max": 184990,
      "min": 0,
      "orientation": "horizontal",
      "style": "IPY_MODEL_e39746e3d94d4b23a36e13b3e71565cc",
      "value": 184990
     }
    },
    "76629e173c844c27b836d3b042547fc9": {
     "model_module": "@jupyter-widgets/controls",
     "model_module_version": "1.5.0",
     "model_name": "DescriptionStyleModel",
     "state": {
      "_model_module": "@jupyter-widgets/controls",
      "_model_module_version": "1.5.0",
      "_model_name": "DescriptionStyleModel",
      "_view_count": null,
      "_view_module": "@jupyter-widgets/base",
      "_view_module_version": "1.2.0",
      "_view_name": "StyleView",
      "description_width": ""
     }
    },
    "7a215547c92841c28fd5e458ee97a607": {
     "model_module": "@jupyter-widgets/controls",
     "model_module_version": "1.5.0",
     "model_name": "DescriptionStyleModel",
     "state": {
      "_model_module": "@jupyter-widgets/controls",
      "_model_module_version": "1.5.0",
      "_model_name": "DescriptionStyleModel",
      "_view_count": null,
      "_view_module": "@jupyter-widgets/base",
      "_view_module_version": "1.2.0",
      "_view_name": "StyleView",
      "description_width": ""
     }
    },
    "82e2bdb42a274f5fbe976efed632cebd": {
     "model_module": "@jupyter-widgets/controls",
     "model_module_version": "1.5.0",
     "model_name": "FloatProgressModel",
     "state": {
      "_dom_classes": [],
      "_model_module": "@jupyter-widgets/controls",
      "_model_module_version": "1.5.0",
      "_model_name": "FloatProgressModel",
      "_view_count": null,
      "_view_module": "@jupyter-widgets/controls",
      "_view_module_version": "1.5.0",
      "_view_name": "ProgressView",
      "bar_style": "success",
      "description": "",
      "description_tooltip": null,
      "layout": "IPY_MODEL_49145c534efc4c04a755c56f7744a653",
      "max": 52666,
      "min": 0,
      "orientation": "horizontal",
      "style": "IPY_MODEL_1bd92ac56ff645b58fa128917b196486",
      "value": 52666
     }
    },
    "8a51be57482f4ed0b2c29f62286f671a": {
     "model_module": "@jupyter-widgets/controls",
     "model_module_version": "1.5.0",
     "model_name": "HTMLModel",
     "state": {
      "_dom_classes": [],
      "_model_module": "@jupyter-widgets/controls",
      "_model_module_version": "1.5.0",
      "_model_name": "HTMLModel",
      "_view_count": null,
      "_view_module": "@jupyter-widgets/controls",
      "_view_module_version": "1.5.0",
      "_view_name": "HTMLView",
      "description": "",
      "description_tooltip": null,
      "layout": "IPY_MODEL_ecd956598a2341be8b0d3472d80360ff",
      "placeholder": "​",
      "style": "IPY_MODEL_6800636d2c8b429eac1ffd4ad2e0b562",
      "value": "merges.txt: 100%"
     }
    },
    "8a923b6fe94e47079421a6f1aaf8789e": {
     "model_module": "@jupyter-widgets/controls",
     "model_module_version": "1.5.0",
     "model_name": "FloatProgressModel",
     "state": {
      "_dom_classes": [],
      "_model_module": "@jupyter-widgets/controls",
      "_model_module_version": "1.5.0",
      "_model_name": "FloatProgressModel",
      "_view_count": null,
      "_view_module": "@jupyter-widgets/controls",
      "_view_module_version": "1.5.0",
      "_view_name": "ProgressView",
      "bar_style": "success",
      "description": "",
      "description_tooltip": null,
      "layout": "IPY_MODEL_edfffe788aa7471c8008222802a6afd2",
      "max": 835550,
      "min": 0,
      "orientation": "horizontal",
      "style": "IPY_MODEL_db072c2ce999423f90287134ba2998be",
      "value": 835550
     }
    },
    "8eb7d858a365494c9d81784e5f11ecc7": {
     "model_module": "@jupyter-widgets/base",
     "model_module_version": "1.2.0",
     "model_name": "LayoutModel",
     "state": {
      "_model_module": "@jupyter-widgets/base",
      "_model_module_version": "1.2.0",
      "_model_name": "LayoutModel",
      "_view_count": null,
      "_view_module": "@jupyter-widgets/base",
      "_view_module_version": "1.2.0",
      "_view_name": "LayoutView",
      "align_content": null,
      "align_items": null,
      "align_self": null,
      "border": null,
      "bottom": null,
      "display": null,
      "flex": null,
      "flex_flow": null,
      "grid_area": null,
      "grid_auto_columns": null,
      "grid_auto_flow": null,
      "grid_auto_rows": null,
      "grid_column": null,
      "grid_gap": null,
      "grid_row": null,
      "grid_template_areas": null,
      "grid_template_columns": null,
      "grid_template_rows": null,
      "height": null,
      "justify_content": null,
      "justify_items": null,
      "left": null,
      "margin": null,
      "max_height": null,
      "max_width": null,
      "min_height": null,
      "min_width": null,
      "object_fit": null,
      "object_position": null,
      "order": null,
      "overflow": null,
      "overflow_x": null,
      "overflow_y": null,
      "padding": null,
      "right": null,
      "top": null,
      "visibility": null,
      "width": null
     }
    },
    "939d7a5d9c3f47ac94d6d06509239d73": {
     "model_module": "@jupyter-widgets/base",
     "model_module_version": "1.2.0",
     "model_name": "LayoutModel",
     "state": {
      "_model_module": "@jupyter-widgets/base",
      "_model_module_version": "1.2.0",
      "_model_name": "LayoutModel",
      "_view_count": null,
      "_view_module": "@jupyter-widgets/base",
      "_view_module_version": "1.2.0",
      "_view_name": "LayoutView",
      "align_content": null,
      "align_items": null,
      "align_self": null,
      "border": null,
      "bottom": null,
      "display": null,
      "flex": null,
      "flex_flow": null,
      "grid_area": null,
      "grid_auto_columns": null,
      "grid_auto_flow": null,
      "grid_auto_rows": null,
      "grid_column": null,
      "grid_gap": null,
      "grid_row": null,
      "grid_template_areas": null,
      "grid_template_columns": null,
      "grid_template_rows": null,
      "height": null,
      "justify_content": null,
      "justify_items": null,
      "left": null,
      "margin": null,
      "max_height": null,
      "max_width": null,
      "min_height": null,
      "min_width": null,
      "object_fit": null,
      "object_position": null,
      "order": null,
      "overflow": null,
      "overflow_x": null,
      "overflow_y": null,
      "padding": null,
      "right": null,
      "top": null,
      "visibility": null,
      "width": null
     }
    },
    "96d3147f58114a1b86d44588746ae430": {
     "model_module": "@jupyter-widgets/base",
     "model_module_version": "1.2.0",
     "model_name": "LayoutModel",
     "state": {
      "_model_module": "@jupyter-widgets/base",
      "_model_module_version": "1.2.0",
      "_model_name": "LayoutModel",
      "_view_count": null,
      "_view_module": "@jupyter-widgets/base",
      "_view_module_version": "1.2.0",
      "_view_name": "LayoutView",
      "align_content": null,
      "align_items": null,
      "align_self": null,
      "border": null,
      "bottom": null,
      "display": null,
      "flex": null,
      "flex_flow": null,
      "grid_area": null,
      "grid_auto_columns": null,
      "grid_auto_flow": null,
      "grid_auto_rows": null,
      "grid_column": null,
      "grid_gap": null,
      "grid_row": null,
      "grid_template_areas": null,
      "grid_template_columns": null,
      "grid_template_rows": null,
      "height": null,
      "justify_content": null,
      "justify_items": null,
      "left": null,
      "margin": null,
      "max_height": null,
      "max_width": null,
      "min_height": null,
      "min_width": null,
      "object_fit": null,
      "object_position": null,
      "order": null,
      "overflow": null,
      "overflow_x": null,
      "overflow_y": null,
      "padding": null,
      "right": null,
      "top": null,
      "visibility": null,
      "width": null
     }
    },
    "977c9a460d9f4d4a93dee3e99da0cf17": {
     "model_module": "@jupyter-widgets/controls",
     "model_module_version": "1.5.0",
     "model_name": "HTMLModel",
     "state": {
      "_dom_classes": [],
      "_model_module": "@jupyter-widgets/controls",
      "_model_module_version": "1.5.0",
      "_model_name": "HTMLModel",
      "_view_count": null,
      "_view_module": "@jupyter-widgets/controls",
      "_view_module_version": "1.5.0",
      "_view_name": "HTMLView",
      "description": "",
      "description_tooltip": null,
      "layout": "IPY_MODEL_27c16a4bbf30486399809e23298c6c7d",
      "placeholder": "​",
      "style": "IPY_MODEL_e1e579ac745a4bb8b302903fc59fa868",
      "value": "special_tokens_map.json: 100%"
     }
    },
    "982f74675ca2483a8b9a8233c9758559": {
     "model_module": "@jupyter-widgets/base",
     "model_module_version": "1.2.0",
     "model_name": "LayoutModel",
     "state": {
      "_model_module": "@jupyter-widgets/base",
      "_model_module_version": "1.2.0",
      "_model_name": "LayoutModel",
      "_view_count": null,
      "_view_module": "@jupyter-widgets/base",
      "_view_module_version": "1.2.0",
      "_view_name": "LayoutView",
      "align_content": null,
      "align_items": null,
      "align_self": null,
      "border": null,
      "bottom": null,
      "display": null,
      "flex": null,
      "flex_flow": null,
      "grid_area": null,
      "grid_auto_columns": null,
      "grid_auto_flow": null,
      "grid_auto_rows": null,
      "grid_column": null,
      "grid_gap": null,
      "grid_row": null,
      "grid_template_areas": null,
      "grid_template_columns": null,
      "grid_template_rows": null,
      "height": null,
      "justify_content": null,
      "justify_items": null,
      "left": null,
      "margin": null,
      "max_height": null,
      "max_width": null,
      "min_height": null,
      "min_width": null,
      "object_fit": null,
      "object_position": null,
      "order": null,
      "overflow": null,
      "overflow_x": null,
      "overflow_y": null,
      "padding": null,
      "right": null,
      "top": null,
      "visibility": null,
      "width": null
     }
    },
    "9c42f7d3daf6488db715deadb7b3c785": {
     "model_module": "@jupyter-widgets/controls",
     "model_module_version": "1.5.0",
     "model_name": "HBoxModel",
     "state": {
      "_dom_classes": [],
      "_model_module": "@jupyter-widgets/controls",
      "_model_module_version": "1.5.0",
      "_model_name": "HBoxModel",
      "_view_count": null,
      "_view_module": "@jupyter-widgets/controls",
      "_view_module_version": "1.5.0",
      "_view_name": "HBoxView",
      "box_style": "",
      "children": [
       "IPY_MODEL_10fb32887c78484e9208a870e310d587",
       "IPY_MODEL_8a923b6fe94e47079421a6f1aaf8789e",
       "IPY_MODEL_f9150615462f4726a39f49304e006307"
      ],
      "layout": "IPY_MODEL_7164e2022ebe4e918d90e66543066152"
     }
    },
    "9c5767c57dcb471382ee157a477ed347": {
     "model_module": "@jupyter-widgets/controls",
     "model_module_version": "1.5.0",
     "model_name": "DescriptionStyleModel",
     "state": {
      "_model_module": "@jupyter-widgets/controls",
      "_model_module_version": "1.5.0",
      "_model_name": "DescriptionStyleModel",
      "_view_count": null,
      "_view_module": "@jupyter-widgets/base",
      "_view_module_version": "1.2.0",
      "_view_name": "StyleView",
      "description_width": ""
     }
    },
    "9e9ffe6d3d834b15b150160fa9064feb": {
     "model_module": "@jupyter-widgets/controls",
     "model_module_version": "1.5.0",
     "model_name": "FloatProgressModel",
     "state": {
      "_dom_classes": [],
      "_model_module": "@jupyter-widgets/controls",
      "_model_module_version": "1.5.0",
      "_model_name": "FloatProgressModel",
      "_view_count": null,
      "_view_module": "@jupyter-widgets/controls",
      "_view_module_version": "1.5.0",
      "_view_name": "ProgressView",
      "bar_style": "success",
      "description": "",
      "description_tooltip": null,
      "layout": "IPY_MODEL_e4630926ae35406faaa326f6fcaf0d09",
      "max": 805,
      "min": 0,
      "orientation": "horizontal",
      "style": "IPY_MODEL_b1899f5c09024ea5aa607a4ad4e84ae8",
      "value": 805
     }
    },
    "9f4d37ee7302483f9150da8adf395af1": {
     "model_module": "@jupyter-widgets/controls",
     "model_module_version": "1.5.0",
     "model_name": "DescriptionStyleModel",
     "state": {
      "_model_module": "@jupyter-widgets/controls",
      "_model_module_version": "1.5.0",
      "_model_name": "DescriptionStyleModel",
      "_view_count": null,
      "_view_module": "@jupyter-widgets/base",
      "_view_module_version": "1.2.0",
      "_view_name": "StyleView",
      "description_width": ""
     }
    },
    "a279b59aecfb477ab6507ace11ac60b0": {
     "model_module": "@jupyter-widgets/controls",
     "model_module_version": "1.5.0",
     "model_name": "DescriptionStyleModel",
     "state": {
      "_model_module": "@jupyter-widgets/controls",
      "_model_module_version": "1.5.0",
      "_model_name": "DescriptionStyleModel",
      "_view_count": null,
      "_view_module": "@jupyter-widgets/base",
      "_view_module_version": "1.2.0",
      "_view_name": "StyleView",
      "description_width": ""
     }
    },
    "a5fb0e2907a24c6ca57c1f1aef97b07f": {
     "model_module": "@jupyter-widgets/controls",
     "model_module_version": "1.5.0",
     "model_name": "ProgressStyleModel",
     "state": {
      "_model_module": "@jupyter-widgets/controls",
      "_model_module_version": "1.5.0",
      "_model_name": "ProgressStyleModel",
      "_view_count": null,
      "_view_module": "@jupyter-widgets/base",
      "_view_module_version": "1.2.0",
      "_view_name": "StyleView",
      "bar_color": null,
      "description_width": ""
     }
    },
    "abf73c08d2d949f8afb7fee0fca3ffcb": {
     "model_module": "@jupyter-widgets/controls",
     "model_module_version": "1.5.0",
     "model_name": "HTMLModel",
     "state": {
      "_dom_classes": [],
      "_model_module": "@jupyter-widgets/controls",
      "_model_module_version": "1.5.0",
      "_model_name": "HTMLModel",
      "_view_count": null,
      "_view_module": "@jupyter-widgets/controls",
      "_view_module_version": "1.5.0",
      "_view_name": "HTMLView",
      "description": "",
      "description_tooltip": null,
      "layout": "IPY_MODEL_0c213ab36bcd4b1db96723a7df11da1c",
      "placeholder": "​",
      "style": "IPY_MODEL_0ea3a85a270b4d7b8650f3e89fe5cfdb",
      "value": "added_tokens.json: 100%"
     }
    },
    "ac65ad6487a945c6948369926488dedf": {
     "model_module": "@jupyter-widgets/controls",
     "model_module_version": "1.5.0",
     "model_name": "HBoxModel",
     "state": {
      "_dom_classes": [],
      "_model_module": "@jupyter-widgets/controls",
      "_model_module_version": "1.5.0",
      "_model_name": "HBoxModel",
      "_view_count": null,
      "_view_module": "@jupyter-widgets/controls",
      "_view_module_version": "1.5.0",
      "_view_name": "HBoxView",
      "box_style": "",
      "children": [
       "IPY_MODEL_8a51be57482f4ed0b2c29f62286f671a",
       "IPY_MODEL_5cb6bcd290ff4f32999e8d1b979d5e3d",
       "IPY_MODEL_4143d82c179e4dfdb1d0410dd43dfe4b"
      ],
      "layout": "IPY_MODEL_8eb7d858a365494c9d81784e5f11ecc7"
     }
    },
    "b1899f5c09024ea5aa607a4ad4e84ae8": {
     "model_module": "@jupyter-widgets/controls",
     "model_module_version": "1.5.0",
     "model_name": "ProgressStyleModel",
     "state": {
      "_model_module": "@jupyter-widgets/controls",
      "_model_module_version": "1.5.0",
      "_model_name": "ProgressStyleModel",
      "_view_count": null,
      "_view_module": "@jupyter-widgets/base",
      "_view_module_version": "1.2.0",
      "_view_name": "StyleView",
      "bar_color": null,
      "description_width": ""
     }
    },
    "b3b38d973c8d47a4a0b6b927eaca02c3": {
     "model_module": "@jupyter-widgets/controls",
     "model_module_version": "1.5.0",
     "model_name": "HBoxModel",
     "state": {
      "_dom_classes": [],
      "_model_module": "@jupyter-widgets/controls",
      "_model_module_version": "1.5.0",
      "_model_name": "HBoxModel",
      "_view_count": null,
      "_view_module": "@jupyter-widgets/controls",
      "_view_module_version": "1.5.0",
      "_view_name": "HBoxView",
      "box_style": "",
      "children": [
       "IPY_MODEL_977c9a460d9f4d4a93dee3e99da0cf17",
       "IPY_MODEL_d734cc7dddff453b8eee7fa2e06512e8",
       "IPY_MODEL_4e938c64a5594900a997f957b36b4680"
      ],
      "layout": "IPY_MODEL_2cd82edd43284cbaae30a2c136fe88a6"
     }
    },
    "bd7275dca2b041deaa3a5d590e2751c9": {
     "model_module": "@jupyter-widgets/controls",
     "model_module_version": "1.5.0",
     "model_name": "DescriptionStyleModel",
     "state": {
      "_model_module": "@jupyter-widgets/controls",
      "_model_module_version": "1.5.0",
      "_model_name": "DescriptionStyleModel",
      "_view_count": null,
      "_view_module": "@jupyter-widgets/base",
      "_view_module_version": "1.2.0",
      "_view_name": "StyleView",
      "description_width": ""
     }
    },
    "c406f962c1364f4fb2a557b785621c8c": {
     "model_module": "@jupyter-widgets/base",
     "model_module_version": "1.2.0",
     "model_name": "LayoutModel",
     "state": {
      "_model_module": "@jupyter-widgets/base",
      "_model_module_version": "1.2.0",
      "_model_name": "LayoutModel",
      "_view_count": null,
      "_view_module": "@jupyter-widgets/base",
      "_view_module_version": "1.2.0",
      "_view_name": "LayoutView",
      "align_content": null,
      "align_items": null,
      "align_self": null,
      "border": null,
      "bottom": null,
      "display": null,
      "flex": null,
      "flex_flow": null,
      "grid_area": null,
      "grid_auto_columns": null,
      "grid_auto_flow": null,
      "grid_auto_rows": null,
      "grid_column": null,
      "grid_gap": null,
      "grid_row": null,
      "grid_template_areas": null,
      "grid_template_columns": null,
      "grid_template_rows": null,
      "height": null,
      "justify_content": null,
      "justify_items": null,
      "left": null,
      "margin": null,
      "max_height": null,
      "max_width": null,
      "min_height": null,
      "min_width": null,
      "object_fit": null,
      "object_position": null,
      "order": null,
      "overflow": null,
      "overflow_x": null,
      "overflow_y": null,
      "padding": null,
      "right": null,
      "top": null,
      "visibility": null,
      "width": null
     }
    },
    "c4454aa4bca64e82b937a0c96ad566dc": {
     "model_module": "@jupyter-widgets/controls",
     "model_module_version": "1.5.0",
     "model_name": "HTMLModel",
     "state": {
      "_dom_classes": [],
      "_model_module": "@jupyter-widgets/controls",
      "_model_module_version": "1.5.0",
      "_model_name": "HTMLModel",
      "_view_count": null,
      "_view_module": "@jupyter-widgets/controls",
      "_view_module_version": "1.5.0",
      "_view_name": "HTMLView",
      "description": "",
      "description_tooltip": null,
      "layout": "IPY_MODEL_f3cdae97e2014ed09fb54ff84318b54d",
      "placeholder": "​",
      "style": "IPY_MODEL_59fec107f8b544f4aab87649641d9b59",
      "value": "tokenizer_config.json: 100%"
     }
    },
    "cfc79a2ce18045e587edd9046934d9ac": {
     "model_module": "@jupyter-widgets/base",
     "model_module_version": "1.2.0",
     "model_name": "LayoutModel",
     "state": {
      "_model_module": "@jupyter-widgets/base",
      "_model_module_version": "1.2.0",
      "_model_name": "LayoutModel",
      "_view_count": null,
      "_view_module": "@jupyter-widgets/base",
      "_view_module_version": "1.2.0",
      "_view_name": "LayoutView",
      "align_content": null,
      "align_items": null,
      "align_self": null,
      "border": null,
      "bottom": null,
      "display": null,
      "flex": null,
      "flex_flow": null,
      "grid_area": null,
      "grid_auto_columns": null,
      "grid_auto_flow": null,
      "grid_auto_rows": null,
      "grid_column": null,
      "grid_gap": null,
      "grid_row": null,
      "grid_template_areas": null,
      "grid_template_columns": null,
      "grid_template_rows": null,
      "height": null,
      "justify_content": null,
      "justify_items": null,
      "left": null,
      "margin": null,
      "max_height": null,
      "max_width": null,
      "min_height": null,
      "min_width": null,
      "object_fit": null,
      "object_position": null,
      "order": null,
      "overflow": null,
      "overflow_x": null,
      "overflow_y": null,
      "padding": null,
      "right": null,
      "top": null,
      "visibility": null,
      "width": null
     }
    },
    "d1d2512ab1de488cb324196730b9dbff": {
     "model_module": "@jupyter-widgets/controls",
     "model_module_version": "1.5.0",
     "model_name": "HBoxModel",
     "state": {
      "_dom_classes": [],
      "_model_module": "@jupyter-widgets/controls",
      "_model_module_version": "1.5.0",
      "_model_name": "HBoxModel",
      "_view_count": null,
      "_view_module": "@jupyter-widgets/controls",
      "_view_module_version": "1.5.0",
      "_view_name": "HBoxView",
      "box_style": "",
      "children": [
       "IPY_MODEL_64e6654cda3d488b9221b22528c8e587",
       "IPY_MODEL_82e2bdb42a274f5fbe976efed632cebd",
       "IPY_MODEL_16b45f394d444df4b4673b62e23e5a9a"
      ],
      "layout": "IPY_MODEL_e80590aaca3d4308991a8640da62b3f2"
     }
    },
    "d734cc7dddff453b8eee7fa2e06512e8": {
     "model_module": "@jupyter-widgets/controls",
     "model_module_version": "1.5.0",
     "model_name": "FloatProgressModel",
     "state": {
      "_dom_classes": [],
      "_model_module": "@jupyter-widgets/controls",
      "_model_module_version": "1.5.0",
      "_model_name": "FloatProgressModel",
      "_view_count": null,
      "_view_module": "@jupyter-widgets/controls",
      "_view_module_version": "1.5.0",
      "_view_name": "ProgressView",
      "bar_style": "success",
      "description": "",
      "description_tooltip": null,
      "layout": "IPY_MODEL_4db6e9f35e7f4d39bfd86a98379be401",
      "max": 2077,
      "min": 0,
      "orientation": "horizontal",
      "style": "IPY_MODEL_6a4478f248e84866b3d21436aa5ea9ee",
      "value": 2077
     }
    },
    "db072c2ce999423f90287134ba2998be": {
     "model_module": "@jupyter-widgets/controls",
     "model_module_version": "1.5.0",
     "model_name": "ProgressStyleModel",
     "state": {
      "_model_module": "@jupyter-widgets/controls",
      "_model_module_version": "1.5.0",
      "_model_name": "ProgressStyleModel",
      "_view_count": null,
      "_view_module": "@jupyter-widgets/base",
      "_view_module_version": "1.2.0",
      "_view_name": "StyleView",
      "bar_color": null,
      "description_width": ""
     }
    },
    "e139e59deda04a26b72af44980c05f8d": {
     "model_module": "@jupyter-widgets/controls",
     "model_module_version": "1.5.0",
     "model_name": "HTMLModel",
     "state": {
      "_dom_classes": [],
      "_model_module": "@jupyter-widgets/controls",
      "_model_module_version": "1.5.0",
      "_model_name": "HTMLModel",
      "_view_count": null,
      "_view_module": "@jupyter-widgets/controls",
      "_view_module_version": "1.5.0",
      "_view_name": "HTMLView",
      "description": "",
      "description_tooltip": null,
      "layout": "IPY_MODEL_04d5cae97661408b89e36c56f7a4026e",
      "placeholder": "​",
      "style": "IPY_MODEL_a279b59aecfb477ab6507ace11ac60b0",
      "value": " 185k/185k [00:00&lt;00:00, 2.82MB/s]"
     }
    },
    "e1e579ac745a4bb8b302903fc59fa868": {
     "model_module": "@jupyter-widgets/controls",
     "model_module_version": "1.5.0",
     "model_name": "DescriptionStyleModel",
     "state": {
      "_model_module": "@jupyter-widgets/controls",
      "_model_module_version": "1.5.0",
      "_model_name": "DescriptionStyleModel",
      "_view_count": null,
      "_view_module": "@jupyter-widgets/base",
      "_view_module_version": "1.2.0",
      "_view_name": "StyleView",
      "description_width": ""
     }
    },
    "e2c168b61eb245cb95bbafb1b7eb634a": {
     "model_module": "@jupyter-widgets/controls",
     "model_module_version": "1.5.0",
     "model_name": "HTMLModel",
     "state": {
      "_dom_classes": [],
      "_model_module": "@jupyter-widgets/controls",
      "_model_module_version": "1.5.0",
      "_model_name": "HTMLModel",
      "_view_count": null,
      "_view_module": "@jupyter-widgets/controls",
      "_view_module_version": "1.5.0",
      "_view_name": "HTMLView",
      "description": "",
      "description_tooltip": null,
      "layout": "IPY_MODEL_982f74675ca2483a8b9a8233c9758559",
      "placeholder": "​",
      "style": "IPY_MODEL_bd7275dca2b041deaa3a5d590e2751c9",
      "value": "preprocessor_config.json: 100%"
     }
    },
    "e39746e3d94d4b23a36e13b3e71565cc": {
     "model_module": "@jupyter-widgets/controls",
     "model_module_version": "1.5.0",
     "model_name": "ProgressStyleModel",
     "state": {
      "_model_module": "@jupyter-widgets/controls",
      "_model_module_version": "1.5.0",
      "_model_name": "ProgressStyleModel",
      "_view_count": null,
      "_view_module": "@jupyter-widgets/base",
      "_view_module_version": "1.2.0",
      "_view_name": "StyleView",
      "bar_color": null,
      "description_width": ""
     }
    },
    "e4630926ae35406faaa326f6fcaf0d09": {
     "model_module": "@jupyter-widgets/base",
     "model_module_version": "1.2.0",
     "model_name": "LayoutModel",
     "state": {
      "_model_module": "@jupyter-widgets/base",
      "_model_module_version": "1.2.0",
      "_model_name": "LayoutModel",
      "_view_count": null,
      "_view_module": "@jupyter-widgets/base",
      "_view_module_version": "1.2.0",
      "_view_name": "LayoutView",
      "align_content": null,
      "align_items": null,
      "align_self": null,
      "border": null,
      "bottom": null,
      "display": null,
      "flex": null,
      "flex_flow": null,
      "grid_area": null,
      "grid_auto_columns": null,
      "grid_auto_flow": null,
      "grid_auto_rows": null,
      "grid_column": null,
      "grid_gap": null,
      "grid_row": null,
      "grid_template_areas": null,
      "grid_template_columns": null,
      "grid_template_rows": null,
      "height": null,
      "justify_content": null,
      "justify_items": null,
      "left": null,
      "margin": null,
      "max_height": null,
      "max_width": null,
      "min_height": null,
      "min_width": null,
      "object_fit": null,
      "object_position": null,
      "order": null,
      "overflow": null,
      "overflow_x": null,
      "overflow_y": null,
      "padding": null,
      "right": null,
      "top": null,
      "visibility": null,
      "width": null
     }
    },
    "e80590aaca3d4308991a8640da62b3f2": {
     "model_module": "@jupyter-widgets/base",
     "model_module_version": "1.2.0",
     "model_name": "LayoutModel",
     "state": {
      "_model_module": "@jupyter-widgets/base",
      "_model_module_version": "1.2.0",
      "_model_name": "LayoutModel",
      "_view_count": null,
      "_view_module": "@jupyter-widgets/base",
      "_view_module_version": "1.2.0",
      "_view_name": "LayoutView",
      "align_content": null,
      "align_items": null,
      "align_self": null,
      "border": null,
      "bottom": null,
      "display": null,
      "flex": null,
      "flex_flow": null,
      "grid_area": null,
      "grid_auto_columns": null,
      "grid_auto_flow": null,
      "grid_auto_rows": null,
      "grid_column": null,
      "grid_gap": null,
      "grid_row": null,
      "grid_template_areas": null,
      "grid_template_columns": null,
      "grid_template_rows": null,
      "height": null,
      "justify_content": null,
      "justify_items": null,
      "left": null,
      "margin": null,
      "max_height": null,
      "max_width": null,
      "min_height": null,
      "min_width": null,
      "object_fit": null,
      "object_position": null,
      "order": null,
      "overflow": null,
      "overflow_x": null,
      "overflow_y": null,
      "padding": null,
      "right": null,
      "top": null,
      "visibility": null,
      "width": null
     }
    },
    "e9543234fc264713b087f55906497c2c": {
     "model_module": "@jupyter-widgets/controls",
     "model_module_version": "1.5.0",
     "model_name": "HTMLModel",
     "state": {
      "_dom_classes": [],
      "_model_module": "@jupyter-widgets/controls",
      "_model_module_version": "1.5.0",
      "_model_name": "HTMLModel",
      "_view_count": null,
      "_view_module": "@jupyter-widgets/controls",
      "_view_module_version": "1.5.0",
      "_view_name": "HTMLView",
      "description": "",
      "description_tooltip": null,
      "layout": "IPY_MODEL_6157f3fa11594fd6954f2d1846f73b32",
      "placeholder": "​",
      "style": "IPY_MODEL_76629e173c844c27b836d3b042547fc9",
      "value": " 34.6k/34.6k [00:00&lt;00:00, 720kB/s]"
     }
    },
    "ecd956598a2341be8b0d3472d80360ff": {
     "model_module": "@jupyter-widgets/base",
     "model_module_version": "1.2.0",
     "model_name": "LayoutModel",
     "state": {
      "_model_module": "@jupyter-widgets/base",
      "_model_module_version": "1.2.0",
      "_model_name": "LayoutModel",
      "_view_count": null,
      "_view_module": "@jupyter-widgets/base",
      "_view_module_version": "1.2.0",
      "_view_name": "LayoutView",
      "align_content": null,
      "align_items": null,
      "align_self": null,
      "border": null,
      "bottom": null,
      "display": null,
      "flex": null,
      "flex_flow": null,
      "grid_area": null,
      "grid_auto_columns": null,
      "grid_auto_flow": null,
      "grid_auto_rows": null,
      "grid_column": null,
      "grid_gap": null,
      "grid_row": null,
      "grid_template_areas": null,
      "grid_template_columns": null,
      "grid_template_rows": null,
      "height": null,
      "justify_content": null,
      "justify_items": null,
      "left": null,
      "margin": null,
      "max_height": null,
      "max_width": null,
      "min_height": null,
      "min_width": null,
      "object_fit": null,
      "object_position": null,
      "order": null,
      "overflow": null,
      "overflow_x": null,
      "overflow_y": null,
      "padding": null,
      "right": null,
      "top": null,
      "visibility": null,
      "width": null
     }
    },
    "edfffe788aa7471c8008222802a6afd2": {
     "model_module": "@jupyter-widgets/base",
     "model_module_version": "1.2.0",
     "model_name": "LayoutModel",
     "state": {
      "_model_module": "@jupyter-widgets/base",
      "_model_module_version": "1.2.0",
      "_model_name": "LayoutModel",
      "_view_count": null,
      "_view_module": "@jupyter-widgets/base",
      "_view_module_version": "1.2.0",
      "_view_name": "LayoutView",
      "align_content": null,
      "align_items": null,
      "align_self": null,
      "border": null,
      "bottom": null,
      "display": null,
      "flex": null,
      "flex_flow": null,
      "grid_area": null,
      "grid_auto_columns": null,
      "grid_auto_flow": null,
      "grid_auto_rows": null,
      "grid_column": null,
      "grid_gap": null,
      "grid_row": null,
      "grid_template_areas": null,
      "grid_template_columns": null,
      "grid_template_rows": null,
      "height": null,
      "justify_content": null,
      "justify_items": null,
      "left": null,
      "margin": null,
      "max_height": null,
      "max_width": null,
      "min_height": null,
      "min_width": null,
      "object_fit": null,
      "object_position": null,
      "order": null,
      "overflow": null,
      "overflow_x": null,
      "overflow_y": null,
      "padding": null,
      "right": null,
      "top": null,
      "visibility": null,
      "width": null
     }
    },
    "f3cdae97e2014ed09fb54ff84318b54d": {
     "model_module": "@jupyter-widgets/base",
     "model_module_version": "1.2.0",
     "model_name": "LayoutModel",
     "state": {
      "_model_module": "@jupyter-widgets/base",
      "_model_module_version": "1.2.0",
      "_model_name": "LayoutModel",
      "_view_count": null,
      "_view_module": "@jupyter-widgets/base",
      "_view_module_version": "1.2.0",
      "_view_name": "LayoutView",
      "align_content": null,
      "align_items": null,
      "align_self": null,
      "border": null,
      "bottom": null,
      "display": null,
      "flex": null,
      "flex_flow": null,
      "grid_area": null,
      "grid_auto_columns": null,
      "grid_auto_flow": null,
      "grid_auto_rows": null,
      "grid_column": null,
      "grid_gap": null,
      "grid_row": null,
      "grid_template_areas": null,
      "grid_template_columns": null,
      "grid_template_rows": null,
      "height": null,
      "justify_content": null,
      "justify_items": null,
      "left": null,
      "margin": null,
      "max_height": null,
      "max_width": null,
      "min_height": null,
      "min_width": null,
      "object_fit": null,
      "object_position": null,
      "order": null,
      "overflow": null,
      "overflow_x": null,
      "overflow_y": null,
      "padding": null,
      "right": null,
      "top": null,
      "visibility": null,
      "width": null
     }
    },
    "f9150615462f4726a39f49304e006307": {
     "model_module": "@jupyter-widgets/controls",
     "model_module_version": "1.5.0",
     "model_name": "HTMLModel",
     "state": {
      "_dom_classes": [],
      "_model_module": "@jupyter-widgets/controls",
      "_model_module_version": "1.5.0",
      "_model_name": "HTMLModel",
      "_view_count": null,
      "_view_module": "@jupyter-widgets/controls",
      "_view_module_version": "1.5.0",
      "_view_name": "HTMLView",
      "description": "",
      "description_tooltip": null,
      "layout": "IPY_MODEL_1b607f29b531437eb69ee394984361c8",
      "placeholder": "​",
      "style": "IPY_MODEL_5888f6a638f7433f824762fff4fa7a67",
      "value": " 836k/836k [00:00&lt;00:00, 4.26MB/s]"
     }
    },
    "f9d61d0a94e142f691e5130fa9a66423": {
     "model_module": "@jupyter-widgets/base",
     "model_module_version": "1.2.0",
     "model_name": "LayoutModel",
     "state": {
      "_model_module": "@jupyter-widgets/base",
      "_model_module_version": "1.2.0",
      "_model_name": "LayoutModel",
      "_view_count": null,
      "_view_module": "@jupyter-widgets/base",
      "_view_module_version": "1.2.0",
      "_view_name": "LayoutView",
      "align_content": null,
      "align_items": null,
      "align_self": null,
      "border": null,
      "bottom": null,
      "display": null,
      "flex": null,
      "flex_flow": null,
      "grid_area": null,
      "grid_auto_columns": null,
      "grid_auto_flow": null,
      "grid_auto_rows": null,
      "grid_column": null,
      "grid_gap": null,
      "grid_row": null,
      "grid_template_areas": null,
      "grid_template_columns": null,
      "grid_template_rows": null,
      "height": null,
      "justify_content": null,
      "justify_items": null,
      "left": null,
      "margin": null,
      "max_height": null,
      "max_width": null,
      "min_height": null,
      "min_width": null,
      "object_fit": null,
      "object_position": null,
      "order": null,
      "overflow": null,
      "overflow_x": null,
      "overflow_y": null,
      "padding": null,
      "right": null,
      "top": null,
      "visibility": null,
      "width": null
     }
    },
    "fa7cd3ad9e77456fa334bb5594376837": {
     "model_module": "@jupyter-widgets/base",
     "model_module_version": "1.2.0",
     "model_name": "LayoutModel",
     "state": {
      "_model_module": "@jupyter-widgets/base",
      "_model_module_version": "1.2.0",
      "_model_name": "LayoutModel",
      "_view_count": null,
      "_view_module": "@jupyter-widgets/base",
      "_view_module_version": "1.2.0",
      "_view_name": "LayoutView",
      "align_content": null,
      "align_items": null,
      "align_self": null,
      "border": null,
      "bottom": null,
      "display": null,
      "flex": null,
      "flex_flow": null,
      "grid_area": null,
      "grid_auto_columns": null,
      "grid_auto_flow": null,
      "grid_auto_rows": null,
      "grid_column": null,
      "grid_gap": null,
      "grid_row": null,
      "grid_template_areas": null,
      "grid_template_columns": null,
      "grid_template_rows": null,
      "height": null,
      "justify_content": null,
      "justify_items": null,
      "left": null,
      "margin": null,
      "max_height": null,
      "max_width": null,
      "min_height": null,
      "min_width": null,
      "object_fit": null,
      "object_position": null,
      "order": null,
      "overflow": null,
      "overflow_x": null,
      "overflow_y": null,
      "padding": null,
      "right": null,
      "top": null,
      "visibility": null,
      "width": null
     }
    },
    "fefb0bd8e24e4b10b338079c09138a6d": {
     "model_module": "@jupyter-widgets/controls",
     "model_module_version": "1.5.0",
     "model_name": "HTMLModel",
     "state": {
      "_dom_classes": [],
      "_model_module": "@jupyter-widgets/controls",
      "_model_module_version": "1.5.0",
      "_model_name": "HTMLModel",
      "_view_count": null,
      "_view_module": "@jupyter-widgets/controls",
      "_view_module_version": "1.5.0",
      "_view_name": "HTMLView",
      "description": "",
      "description_tooltip": null,
      "layout": "IPY_MODEL_01faaca5760942e19ce23a2ceae7351b",
      "placeholder": "​",
      "style": "IPY_MODEL_15e04991c6894be7ac9f9ec5a439a9db",
      "value": "tokenizer.json: 100%"
     }
    }
   }
  }
 },
 "nbformat": 4,
 "nbformat_minor": 4
}
